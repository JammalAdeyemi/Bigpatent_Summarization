{
  "cells": [
    {
      "cell_type": "code",
      "execution_count": 1,
      "metadata": {
        "id": "btaRlV7E7LMm"
      },
      "outputs": [],
      "source": [
        "# !pip install transformers\n",
        "# !pip install keras_nlp\n",
        "# !pip install datasets\n",
        "# !pip install huggingface-hub huggingface_hub\n",
        "# !pip install nltk\n",
        "# !pip install rouge-score rouge\n",
        "# !pip install evaluate\n",
        "# !apt install git-lfs"
      ]
    },
    {
      "cell_type": "code",
      "execution_count": 2,
      "metadata": {
        "id": "OV3BMMvqWHhT"
      },
      "outputs": [],
      "source": [
        "!git config --global user.email \"oabass7@gmail.com\"\n",
        "!git config --global user.name \"Jammal\""
      ]
    },
    {
      "cell_type": "code",
      "execution_count": 3,
      "metadata": {
        "colab": {
          "base_uri": "https://localhost:8080/"
        },
        "id": "NpneJoQc4WTW",
        "outputId": "495f37fa-9fd4-4fcd-a042-4fda2dd74ace"
      },
      "outputs": [
        {
          "output_type": "stream",
          "name": "stderr",
          "text": [
            "[nltk_data] Downloading package punkt to /root/nltk_data...\n",
            "[nltk_data]   Package punkt is already up-to-date!\n"
          ]
        }
      ],
      "source": [
        "import os\n",
        "import numpy as np\n",
        "import pandas as pd\n",
        "import matplotlib.pyplot as plt\n",
        "import seaborn as sns\n",
        "\n",
        "import tensorflow as tf\n",
        "from tensorflow import keras\n",
        "from datasets import load_dataset, load_metric, load_from_disk\n",
        "from transformers import AutoTokenizer, TFAutoModelForSeq2SeqLM, DataCollatorForSeq2Seq, AdamWeightDecay, create_optimizer \n",
        "from transformers.keras_callbacks import  KerasMetricCallback\n",
        "import evaluate\n",
        "import nltk\n",
        "from nltk.corpus import stopwords\n",
        "nltk.download('punkt')\n",
        "\n",
        "# Only log error messages\n",
        "import logging\n",
        "tf.get_logger().setLevel(logging.ERROR)\n",
        "\n",
        "os.environ[\"TOKENIZERS_PARALLELISM\"] = \"false\"\n",
        "\n",
        "import warnings\n",
        "warnings.filterwarnings('ignore')"
      ]
    },
    {
      "cell_type": "markdown",
      "metadata": {
        "id": "NXHFdNxY7hl3"
      },
      "source": [
        "## Loading the dataset\n",
        "\n",
        "### About Dataset\n",
        "[BIGPATENT](https://huggingface.co/datasets/big_patent), consisting of 1.3 million records of U.S. patent documents along with human written abstractive summaries. Each US patent application is filed under a Cooperative Patent Classification (CPC) code. There are nine such classification categories:\n",
        "\n",
        "* a: Human Necessities\n",
        "* b: Performing Operations; Transporting\n",
        "* c: Chemistry; Metallurgy\n",
        "* **d: Textiles; Paper**\n",
        "* e: Fixed Constructions\n",
        "* f: Mechanical Engineering; Lightning; Heating; Weapons; Blasting\n",
        "* g: Physics\n",
        "* h: Electricity\n",
        "* y: General tagging of new or cross-sectional technology\n",
        "\n",
        "I will be working with 1 out of the 9 classification categories due to low compute unit."
      ]
    },
    {
      "cell_type": "code",
      "execution_count": 4,
      "metadata": {
        "colab": {
          "base_uri": "https://localhost:8080/"
        },
        "id": "uPxDI5jXOkOA",
        "outputId": "b66ae52c-997a-435d-a769-570bec24601e"
      },
      "outputs": [
        {
          "output_type": "stream",
          "name": "stdout",
          "text": [
            "Drive already mounted at /content/drive; to attempt to forcibly remount, call drive.mount(\"/content/drive\", force_remount=True).\n"
          ]
        }
      ],
      "source": [
        "from google.colab import drive\n",
        "drive.mount('/content/drive')"
      ]
    },
    {
      "cell_type": "code",
      "execution_count": 5,
      "metadata": {
        "id": "rE4K7Nsm5dQK"
      },
      "outputs": [],
      "source": [
        "# df = load_dataset(\"big_patent\", \"d\")"
      ]
    },
    {
      "cell_type": "code",
      "execution_count": 6,
      "metadata": {
        "id": "QGGx3s0bPbqb"
      },
      "outputs": [],
      "source": [
        "# saving the data\n",
        "# df.to_csv('/content/drive/MyDrive/Data_Science/Bigpatent_Summarization/d.csv', index=False)\n",
        "# df.save_to_disk('/content/drive/MyDrive/Data_Science/Bigpatent_Summarization/d_dataset')"
      ]
    },
    {
      "cell_type": "code",
      "execution_count": 7,
      "metadata": {
        "colab": {
          "base_uri": "https://localhost:8080/"
        },
        "id": "u-P0viYZQoGw",
        "outputId": "8654b334-0613-46e5-e4f1-3c1571310241"
      },
      "outputs": [
        {
          "output_type": "stream",
          "name": "stdout",
          "text": [
            "DatasetDict({\n",
            "    train: Dataset({\n",
            "        features: ['description', 'abstract'],\n",
            "        num_rows: 10164\n",
            "    })\n",
            "    validation: Dataset({\n",
            "        features: ['description', 'abstract'],\n",
            "        num_rows: 565\n",
            "    })\n",
            "    test: Dataset({\n",
            "        features: ['description', 'abstract'],\n",
            "        num_rows: 565\n",
            "    })\n",
            "})\n"
          ]
        }
      ],
      "source": [
        "df = load_from_disk('/content/drive/MyDrive/Data_Science/Bigpatent_Summarization/d_dataset')\n",
        "print(df)"
      ]
    },
    {
      "cell_type": "code",
      "execution_count": 8,
      "metadata": {
        "colab": {
          "base_uri": "https://localhost:8080/"
        },
        "id": "SQeX8UUaMVwa",
        "outputId": "b07f98e8-707c-409c-c970-6de9f6cc7b83"
      },
      "outputs": [
        {
          "output_type": "stream",
          "name": "stderr",
          "text": [
            "WARNING:datasets.arrow_dataset:Loading cached shuffled indices for dataset at /content/drive/MyDrive/Data_Science/Bigpatent_Summarization/d_dataset/train/cache-109082fd420af81a.arrow\n"
          ]
        }
      ],
      "source": [
        "df['train'] = df['train'].shuffle(seed=42).select(range(1000))"
      ]
    },
    {
      "cell_type": "code",
      "execution_count": 9,
      "metadata": {
        "colab": {
          "base_uri": "https://localhost:8080/"
        },
        "id": "iGBu2qodJFid",
        "outputId": "ba5144c0-7ef9-4267-d638-09e14a30f98a"
      },
      "outputs": [
        {
          "output_type": "stream",
          "name": "stdout",
          "text": [
            "DatasetDict({\n",
            "    train: Dataset({\n",
            "        features: ['description', 'abstract'],\n",
            "        num_rows: 1000\n",
            "    })\n",
            "    validation: Dataset({\n",
            "        features: ['description', 'abstract'],\n",
            "        num_rows: 565\n",
            "    })\n",
            "    test: Dataset({\n",
            "        features: ['description', 'abstract'],\n",
            "        num_rows: 565\n",
            "    })\n",
            "})\n"
          ]
        }
      ],
      "source": [
        "print(df)"
      ]
    },
    {
      "cell_type": "markdown",
      "metadata": {
        "id": "aHJtBQDDDEIl"
      },
      "source": [
        "### Define Certain Variables"
      ]
    },
    {
      "cell_type": "code",
      "execution_count": 10,
      "metadata": {
        "id": "V9GuM6cZDHld"
      },
      "outputs": [],
      "source": [
        "# Maximum length of the input to the model\n",
        "MAX_INPUT_LENGTH = 1024  \n",
        "\n",
        "# Minimum length of the output by the model\n",
        "MIN_TARGET_LENGTH = 5  \n",
        "# Maximum length of the output by the model\n",
        "MAX_TARGET_LENGTH = 512 \n",
        "\n",
        "# Batch-size for training our model\n",
        "BATCH_SIZE = 16"
      ]
    },
    {
      "cell_type": "markdown",
      "metadata": {
        "id": "aXN-Un8a1fZO"
      },
      "source": [
        "## T5 Model"
      ]
    },
    {
      "cell_type": "markdown",
      "metadata": {
        "id": "h2G_N9QzX_N6"
      },
      "source": [
        "#### Data preprocessing"
      ]
    },
    {
      "cell_type": "code",
      "execution_count": 11,
      "metadata": {
        "id": "-YqtfdS51fZO"
      },
      "outputs": [],
      "source": [
        "MODEL_CHECKPOINT = \"t5-small\"\n",
        "\n",
        "tokenizer = AutoTokenizer.from_pretrained(MODEL_CHECKPOINT)\n",
        "\n",
        "if MODEL_CHECKPOINT in [\"t5-small\", \"t5-base\", \"t5-large\", \"t5-3b\", \"t5-11b\"]:\n",
        "    prefix = \"summarize: \"\n",
        "else:\n",
        "    prefix = \"\""
      ]
    },
    {
      "cell_type": "code",
      "execution_count": 12,
      "metadata": {
        "id": "jRkCUHQ91fZO"
      },
      "outputs": [],
      "source": [
        "def preprocess_function(examples):\n",
        "    inputs = [prefix + inp for inp in examples[\"description\"]]\n",
        "    model_inputs = tokenizer(inputs, max_length=MAX_INPUT_LENGTH, truncation=True)\n",
        "    targets = examples[\"abstract\"]\n",
        "\n",
        "    # Setup the tokenizer for targets\n",
        "    with tokenizer.as_target_tokenizer():\n",
        "        labels = tokenizer(targets, max_length=MAX_TARGET_LENGTH, truncation=True)\n",
        "\n",
        "    model_inputs[\"labels\"] = labels[\"input_ids\"]\n",
        "    return model_inputs"
      ]
    },
    {
      "cell_type": "code",
      "execution_count": 13,
      "metadata": {
        "colab": {
          "base_uri": "https://localhost:8080/"
        },
        "id": "9ZcCBhB61fZP",
        "outputId": "69029f43-9f70-4be2-9114-0ae12093e4db"
      },
      "outputs": [
        {
          "output_type": "stream",
          "name": "stderr",
          "text": [
            "WARNING:datasets.arrow_dataset:Loading cached processed dataset at /content/drive/MyDrive/Data_Science/Bigpatent_Summarization/d_dataset/train/cache-531afbe96d6a96bf.arrow\n",
            "WARNING:datasets.arrow_dataset:Loading cached processed dataset at /content/drive/MyDrive/Data_Science/Bigpatent_Summarization/d_dataset/validation/cache-0f603c8f120fe0f3.arrow\n",
            "WARNING:datasets.arrow_dataset:Loading cached processed dataset at /content/drive/MyDrive/Data_Science/Bigpatent_Summarization/d_dataset/test/cache-9a1ff7a71c4bcd3b.arrow\n"
          ]
        }
      ],
      "source": [
        "tokenized_df = df.map(preprocess_function, batched=True)"
      ]
    },
    {
      "cell_type": "code",
      "execution_count": 14,
      "metadata": {
        "colab": {
          "base_uri": "https://localhost:8080/"
        },
        "id": "EEw3VzEuSme7",
        "outputId": "f4459b61-0433-4a8a-8fdd-11166c9935d3"
      },
      "outputs": [
        {
          "output_type": "execute_result",
          "data": {
            "text/plain": [
              "Dataset({\n",
              "    features: ['description', 'abstract', 'input_ids', 'attention_mask', 'labels'],\n",
              "    num_rows: 1000\n",
              "})"
            ]
          },
          "metadata": {},
          "execution_count": 14
        }
      ],
      "source": [
        "tokenized_df[\"train\"]"
      ]
    },
    {
      "cell_type": "markdown",
      "metadata": {
        "id": "MGo-CQirYXEb"
      },
      "source": [
        "### Fine-tuning the Model"
      ]
    },
    {
      "cell_type": "code",
      "execution_count": 15,
      "metadata": {
        "colab": {
          "base_uri": "https://localhost:8080/"
        },
        "id": "BhRgyJD3YdM5",
        "outputId": "949fbcc2-038b-4704-f18c-4c654fdf2031"
      },
      "outputs": [
        {
          "output_type": "stream",
          "name": "stderr",
          "text": [
            "All model checkpoint layers were used when initializing TFT5ForConditionalGeneration.\n",
            "\n",
            "All the layers of TFT5ForConditionalGeneration were initialized from the model checkpoint at t5-small.\n",
            "If your task is similar to the task the model of the checkpoint was trained on, you can already use TFT5ForConditionalGeneration for predictions without further training.\n"
          ]
        }
      ],
      "source": [
        "model = TFAutoModelForSeq2SeqLM.from_pretrained(MODEL_CHECKPOINT)"
      ]
    },
    {
      "cell_type": "code",
      "execution_count": 16,
      "metadata": {
        "id": "kwVBdPkvWrim"
      },
      "outputs": [],
      "source": [
        "# pushing the model to tensorflow hub\n",
        "model_name = MODEL_CHECKPOINT.split(\"/\")[-1]\n",
        "push_to_hub_model_id = f\"{model_name}-finetuned-Big-Patent\""
      ]
    },
    {
      "cell_type": "code",
      "execution_count": 17,
      "metadata": {
        "id": "5N8V99Lusmrw"
      },
      "outputs": [],
      "source": [
        "data_collator = DataCollatorForSeq2Seq(tokenizer, model=model, return_tensors=\"tf\")\n",
        "generation_data_collator = DataCollatorForSeq2Seq(tokenizer, model=model, return_tensors=\"np\", pad_to_multiple_of=128)"
      ]
    },
    {
      "cell_type": "code",
      "execution_count": 18,
      "metadata": {
        "colab": {
          "base_uri": "https://localhost:8080/"
        },
        "id": "lhpVUbNKsmnR",
        "outputId": "401eb037-67d0-401d-869e-9095e71ec6e2"
      },
      "outputs": [
        {
          "output_type": "stream",
          "name": "stderr",
          "text": [
            "You're using a T5TokenizerFast tokenizer. Please note that with a fast tokenizer, using the `__call__` method is faster than using a method to encode the text followed by a call to the `pad` method to get a padded encoding.\n"
          ]
        }
      ],
      "source": [
        "tf_train_set = model.prepare_tf_dataset(\n",
        "    tokenized_df[\"train\"],\n",
        "    batch_size=BATCH_SIZE,\n",
        "    shuffle=True,\n",
        "    collate_fn=data_collator,\n",
        ")\n",
        "\n",
        "tf_validation_set = model.prepare_tf_dataset(\n",
        "    tokenized_df[\"validation\"],\n",
        "    batch_size=BATCH_SIZE,\n",
        "    shuffle=False,\n",
        "    collate_fn=data_collator,\n",
        ")\n",
        "\n",
        "tf_generation_set = model.prepare_tf_dataset(\n",
        "    tokenized_df[\"validation\"],\n",
        "    batch_size=BATCH_SIZE,\n",
        "    shuffle=False,\n",
        "    collate_fn=generation_data_collator\n",
        ")"
      ]
    },
    {
      "cell_type": "markdown",
      "metadata": {
        "id": "4c3vFYe_YqLD"
      },
      "source": [
        "### Compiling the Model"
      ]
    },
    {
      "cell_type": "code",
      "execution_count": 19,
      "metadata": {
        "colab": {
          "base_uri": "https://localhost:8080/"
        },
        "id": "l2gQS5Jnsmk5",
        "outputId": "0db225ba-d6bb-4254-ddcd-474bf251ec0f"
      },
      "outputs": [
        {
          "output_type": "stream",
          "name": "stderr",
          "text": [
            "No loss specified in compile() - the model's internal loss computation will be used as the loss. Don't panic - this is a common way to train TensorFlow models in Transformers! To disable this behaviour please pass a loss argument, or explicitly pass `loss=None` if you do not want your model to compute a loss.\n"
          ]
        }
      ],
      "source": [
        "optimizer = AdamWeightDecay(learning_rate=2e-5, weight_decay_rate=0.01) \n",
        "model.compile(optimizer=optimizer)"
      ]
    },
    {
      "cell_type": "markdown",
      "metadata": {
        "id": "YOdiRJmhv9WR"
      },
      "source": [
        "### Evaluate the Model"
      ]
    },
    {
      "cell_type": "code",
      "execution_count": 20,
      "metadata": {
        "id": "3KXhpjzyTJn8"
      },
      "outputs": [],
      "source": [
        "metric = load_metric(\"rouge\")\n",
        "\n",
        "def metric_fn(eval_predictions):\n",
        "    predictions, labels = eval_predictions\n",
        "    decoded_predictions = tokenizer.batch_decode(predictions, skip_special_tokens=True)\n",
        "    for label in labels:\n",
        "        label[label < 0] = tokenizer.pad_token_id  # Replace masked label tokens\n",
        "    decoded_labels = tokenizer.batch_decode(labels, skip_special_tokens=True)\n",
        "    # Rouge expects a newline after each sentence\n",
        "    decoded_predictions = [\n",
        "        \"\\n\".join(nltk.sent_tokenize(pred.strip())) for pred in decoded_predictions\n",
        "    ]\n",
        "    decoded_labels = [\n",
        "        \"\\n\".join(nltk.sent_tokenize(label.strip())) for label in decoded_labels\n",
        "    ]\n",
        "    result = metric.compute(\n",
        "        predictions=decoded_predictions, references=decoded_labels, use_stemmer=True\n",
        "    )\n",
        "    # Extract a few results\n",
        "    result = {key: value.mid.fmeasure * 100 for key, value in result.items()}\n",
        "    # Add mean generated length\n",
        "    prediction_lens = [\n",
        "        np.count_nonzero(pred != tokenizer.pad_token_id) for pred in predictions\n",
        "    ]\n",
        "    result[\"gen_len\"] = np.mean(prediction_lens)\n",
        "\n",
        "    return result\n",
        "\n",
        "metric_callback = KerasMetricCallback(\n",
        "    metric_fn, eval_dataset=tf_generation_set, predict_with_generate=True, use_xla_generation=True\n",
        ")\n",
        "\n",
        "callbacks = [metric_callback]"
      ]
    },
    {
      "cell_type": "code",
      "execution_count": 21,
      "metadata": {
        "id": "G2-D3rcvXaUq"
      },
      "outputs": [],
      "source": [
        "# from transformers.keras_callbacks import PushToHubCallback, KerasMetricCallback\n",
        "# from tensorflow.keras.callbacks import TensorBoard\n",
        "\n",
        "# tensorboard_callback = TensorBoard(log_dir=\"./summarization_model_save/logs\")\n",
        "\n",
        "# push_to_hub_callback = PushToHubCallback(\n",
        "#     output_dir=\"./summarization_model_save\",\n",
        "#     tokenizer=tokenizer,\n",
        "#     hub_model_id=push_to_hub_model_id,\n",
        "# )"
      ]
    },
    {
      "cell_type": "markdown",
      "metadata": {
        "id": "8n-sII8yTStA"
      },
      "source": [
        "### Train the Model"
      ]
    },
    {
      "cell_type": "code",
      "execution_count": 22,
      "metadata": {
        "colab": {
          "base_uri": "https://localhost:8080/"
        },
        "id": "2vTFWg9FsmaQ",
        "outputId": "b0e1465e-955a-46d2-d1c9-d3a29f8e350e"
      },
      "outputs": [
        {
          "output_type": "stream",
          "name": "stdout",
          "text": [
            "Epoch 1/15\n",
            "62/62 [==============================] - 1222s 19s/step - loss: 3.7320 - val_loss: 2.9733 - rouge1: 16.2409 - rouge2: 6.4803 - rougeL: 13.1756 - rougeLsum: 14.2942 - gen_len: 19.0000\n",
            "Epoch 2/15\n",
            "62/62 [==============================] - 1177s 19s/step - loss: 3.0677 - val_loss: 2.7876 - rouge1: 16.4855 - rouge2: 6.8046 - rougeL: 13.2438 - rougeLsum: 14.5530 - gen_len: 19.0000\n",
            "Epoch 3/15\n",
            "62/62 [==============================] - 1179s 19s/step - loss: 2.9249 - val_loss: 2.6938 - rouge1: 16.5255 - rouge2: 6.7694 - rougeL: 13.2579 - rougeLsum: 14.5214 - gen_len: 19.0000\n",
            "Epoch 4/15\n",
            "62/62 [==============================] - 1173s 19s/step - loss: 2.8336 - val_loss: 2.6325 - rouge1: 16.9132 - rouge2: 7.2116 - rougeL: 13.5918 - rougeLsum: 14.8494 - gen_len: 19.0000\n",
            "Epoch 5/15\n",
            "62/62 [==============================] - 1175s 19s/step - loss: 2.7816 - val_loss: 2.5908 - rouge1: 17.2720 - rouge2: 7.4521 - rougeL: 13.8003 - rougeLsum: 15.2022 - gen_len: 19.0000\n",
            "Epoch 6/15\n",
            "62/62 [==============================] - 1176s 19s/step - loss: 2.7343 - val_loss: 2.5583 - rouge1: 17.5941 - rouge2: 7.6798 - rougeL: 14.1000 - rougeLsum: 15.4324 - gen_len: 19.0000\n",
            "Epoch 7/15\n",
            "62/62 [==============================] - 1173s 19s/step - loss: 2.7023 - val_loss: 2.5344 - rouge1: 18.1679 - rouge2: 8.1920 - rougeL: 14.6650 - rougeLsum: 15.9809 - gen_len: 18.9965\n",
            "Epoch 8/15\n",
            "62/62 [==============================] - 1179s 19s/step - loss: 2.6736 - val_loss: 2.5187 - rouge1: 18.4718 - rouge2: 8.4117 - rougeL: 15.0058 - rougeLsum: 16.3177 - gen_len: 19.0000\n",
            "Epoch 9/15\n",
            "62/62 [==============================] - 1171s 19s/step - loss: 2.6453 - val_loss: 2.5030 - rouge1: 18.8889 - rouge2: 8.7947 - rougeL: 15.4637 - rougeLsum: 16.7017 - gen_len: 19.0000\n",
            "Epoch 10/15\n",
            "62/62 [==============================] - 1183s 19s/step - loss: 2.6169 - val_loss: 2.4877 - rouge1: 19.3647 - rouge2: 9.3777 - rougeL: 15.9725 - rougeLsum: 17.1973 - gen_len: 19.0000\n",
            "Epoch 11/15\n",
            "62/62 [==============================] - 1180s 19s/step - loss: 2.5920 - val_loss: 2.4757 - rouge1: 19.4969 - rouge2: 9.4427 - rougeL: 16.1260 - rougeLsum: 17.3589 - gen_len: 19.0000\n",
            "Epoch 12/15\n",
            "62/62 [==============================] - 1181s 19s/step - loss: 2.5829 - val_loss: 2.4639 - rouge1: 19.7023 - rouge2: 9.7254 - rougeL: 16.3472 - rougeLsum: 17.6082 - gen_len: 19.0000\n",
            "Epoch 13/15\n",
            "62/62 [==============================] - 1179s 19s/step - loss: 2.5683 - val_loss: 2.4519 - rouge1: 19.7920 - rouge2: 9.8775 - rougeL: 16.5391 - rougeLsum: 17.7280 - gen_len: 19.0000\n",
            "Epoch 14/15\n",
            "62/62 [==============================] - 1180s 19s/step - loss: 2.5435 - val_loss: 2.4470 - rouge1: 19.9540 - rouge2: 10.0180 - rougeL: 16.6829 - rougeLsum: 17.8753 - gen_len: 19.0000\n",
            "Epoch 15/15\n",
            "62/62 [==============================] - 1178s 19s/step - loss: 2.5288 - val_loss: 2.4401 - rouge1: 19.8362 - rouge2: 9.9737 - rougeL: 16.6820 - rougeLsum: 17.8380 - gen_len: 19.0000\n"
          ]
        }
      ],
      "source": [
        "history = model.fit(x=tf_train_set, validation_data=tf_validation_set, epochs=15, callbacks=callbacks)"
      ]
    },
    {
      "cell_type": "code",
      "execution_count": 23,
      "metadata": {
        "id": "4F9GFap2TisX",
        "colab": {
          "base_uri": "https://localhost:8080/",
          "height": 449
        },
        "outputId": "3ab2fe1e-b26b-4d65-9099-34e3e4a4cb8d"
      },
      "outputs": [
        {
          "output_type": "display_data",
          "data": {
            "text/plain": [
              "<Figure size 640x480 with 1 Axes>"
            ],
            "image/png": "[encoded data removed]"
          },
          "metadata": {}
        }
      ],
      "source": [
        "# Plot the metrics\n",
        "train_loss = history.history['loss']\n",
        "val_loss = history.history['val_loss']\n",
        "\n",
        "plt.plot(train_loss, label='Training Loss')\n",
        "plt.plot(val_loss, label='Validation Loss')\n",
        "plt.xlabel('Epoch')\n",
        "plt.ylabel('Loss')\n",
        "plt.legend()\n",
        "plt.show()"
      ]
    },
    {
      "cell_type": "code",
      "execution_count": 24,
      "metadata": {
        "id": "Zh-KgepLTipq",
        "colab": {
          "base_uri": "https://localhost:8080/"
        },
        "outputId": "d3da82fd-bb60-4c46-bd1e-9c1313afa807"
      },
      "outputs": [
        {
          "output_type": "stream",
          "name": "stderr",
          "text": [
            "WARNING:absl:Found untraced functions such as final_layer_norm_layer_call_fn, final_layer_norm_layer_call_and_return_conditional_losses, dropout_24_layer_call_fn, dropout_24_layer_call_and_return_conditional_losses, final_layer_norm_layer_call_fn while saving (showing 5 of 524). These functions will not be directly callable after loading.\n"
          ]
        }
      ],
      "source": [
        "# Save the model in SavedModel format\n",
        "model.save(\"my_model\", save_format=\"tf\")"
      ]
    },
    {
      "cell_type": "code",
      "execution_count": 24,
      "metadata": {
        "id": "RjzFAgpvTilf"
      },
      "outputs": [],
      "source": []
    },
    {
      "cell_type": "markdown",
      "metadata": {
        "id": "1wtcJpq41fZP"
      },
      "source": [
        "## MT5 Model"
      ]
    },
    {
      "cell_type": "code",
      "execution_count": 24,
      "metadata": {
        "id": "CNXwxlig1fZP"
      },
      "outputs": [],
      "source": []
    },
    {
      "cell_type": "code",
      "execution_count": 24,
      "metadata": {
        "id": "lewPiOZa1fZP"
      },
      "outputs": [],
      "source": []
    },
    {
      "cell_type": "markdown",
      "metadata": {
        "id": "-y7HDgWd1fZP"
      },
      "source": [
        "## BART Model"
      ]
    },
    {
      "cell_type": "code",
      "execution_count": 24,
      "metadata": {
        "id": "jJjscHlt1fZP"
      },
      "outputs": [],
      "source": []
    },
    {
      "cell_type": "code",
      "execution_count": 24,
      "metadata": {
        "id": "AxynDrVl1fZP"
      },
      "outputs": [],
      "source": []
    },
    {
      "cell_type": "markdown",
      "metadata": {
        "id": "gdYD5Qu81fZP"
      },
      "source": [
        "## PEGASUS Model"
      ]
    },
    {
      "cell_type": "code",
      "execution_count": 24,
      "metadata": {
        "id": "DRar2Tyi1fZP"
      },
      "outputs": [],
      "source": []
    },
    {
      "cell_type": "code",
      "execution_count": 24,
      "metadata": {
        "id": "VaR7sY-R1fZP"
      },
      "outputs": [],
      "source": []
    },
    {
      "cell_type": "markdown",
      "metadata": {
        "id": "oeawMe2N1fZQ"
      },
      "source": [
        "## GP2 Model"
      ]
    },
    {
      "cell_type": "code",
      "execution_count": 24,
      "metadata": {
        "id": "u4Spys4b1fZQ"
      },
      "outputs": [],
      "source": []
    },
    {
      "cell_type": "code",
      "execution_count": 24,
      "metadata": {
        "id": "1XKjhqW51fZQ"
      },
      "outputs": [],
      "source": []
    }
  ],
  "metadata": {
    "colab": {
      "machine_shape": "hm",
      "toc_visible": true,
      "provenance": [],
      "gpuType": "T4"
    },
    "gpuClass": "standard",
    "kernelspec": {
      "display_name": "Python 3",
      "name": "python3"
    },
    "language_info": {
      "codemirror_mode": {
        "name": "ipython",
        "version": 3
      },
      "file_extension": ".py",
      "mimetype": "text/x-python",
      "name": "python",
      "nbconvert_exporter": "python",
      "pygments_lexer": "ipython3",
      "version": "3.10.9"
    },
    "accelerator": "TPU"
  },
  "nbformat": 4,
  "nbformat_minor": 0
}