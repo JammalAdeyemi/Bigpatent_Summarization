{
  "cells": [
    {
      "cell_type": "code",
      "execution_count": 1,
      "metadata": {
        "id": "btaRlV7E7LMm"
      },
      "outputs": [],
      "source": [
        "# !pip install transformers\n",
        "# !pip install keras_nlp\n",
        "# !pip install datasets\n",
        "# !pip install huggingface-hub huggingface_hub\n",
        "# !pip install nltk\n",
        "# !pip install rouge-score rouge\n",
        "# !pip install evaluate\n",
        "# !apt install git-lfs"
      ]
    },
    {
      "cell_type": "code",
      "source": [
        "# from huggingface_hub import notebook_login\n",
        "\n",
        "# notebook_login()"
      ],
      "metadata": {
        "id": "6zpO82lp2XCM"
      },
      "execution_count": 2,
      "outputs": []
    },
    {
      "cell_type": "code",
      "execution_count": 3,
      "metadata": {
        "id": "OV3BMMvqWHhT"
      },
      "outputs": [],
      "source": [
        "!git config --global user.email \"oabass7@gmail.com\"\n",
        "!git config --global user.name \"Jammal\""
      ]
    },
    {
      "cell_type": "code",
      "execution_count": 4,
      "metadata": {
        "colab": {
          "base_uri": "https://localhost:8080/"
        },
        "id": "NpneJoQc4WTW",
        "outputId": "1b843b06-cf87-4340-c028-0c47ca23313b"
      },
      "outputs": [
        {
          "output_type": "stream",
          "name": "stderr",
          "text": [
            "[nltk_data] Downloading package punkt to /root/nltk_data...\n",
            "[nltk_data]   Package punkt is already up-to-date!\n"
          ]
        }
      ],
      "source": [
        "import os\n",
        "import numpy as np\n",
        "import pandas as pd\n",
        "import matplotlib.pyplot as plt\n",
        "import seaborn as sns\n",
        "\n",
        "import tensorflow as tf\n",
        "from tensorflow import keras\n",
        "from datasets import load_dataset, load_metric, load_from_disk\n",
        "from transformers import AutoTokenizer, TFAutoModelForSeq2SeqLM, DataCollatorForSeq2Seq, AdamWeightDecay, create_optimizer \n",
        "from transformers.keras_callbacks import  KerasMetricCallback\n",
        "import evaluate\n",
        "import nltk\n",
        "from nltk.corpus import stopwords\n",
        "nltk.download('punkt')\n",
        "\n",
        "# Only log error messages\n",
        "import logging\n",
        "tf.get_logger().setLevel(logging.ERROR)\n",
        "\n",
        "os.environ[\"TOKENIZERS_PARALLELISM\"] = \"false\"\n",
        "\n",
        "import warnings\n",
        "warnings.filterwarnings('ignore')"
      ]
    },
    {
      "cell_type": "markdown",
      "metadata": {
        "id": "NXHFdNxY7hl3"
      },
      "source": [
        "## Loading the dataset\n",
        "\n",
        "### About Dataset\n",
        "[BIGPATENT](https://huggingface.co/datasets/big_patent), consisting of 1.3 million records of U.S. patent documents along with human written abstractive summaries. Each US patent application is filed under a Cooperative Patent Classification (CPC) code. There are nine such classification categories:\n",
        "\n",
        "* a: Human Necessities\n",
        "* b: Performing Operations; Transporting\n",
        "* c: Chemistry; Metallurgy\n",
        "* **d: Textiles; Paper**\n",
        "* e: Fixed Constructions\n",
        "* f: Mechanical Engineering; Lightning; Heating; Weapons; Blasting\n",
        "* g: Physics\n",
        "* h: Electricity\n",
        "* y: General tagging of new or cross-sectional technology\n",
        "\n",
        "I will be working with 1 out of the 9 classification categories due to low compute unit."
      ]
    },
    {
      "cell_type": "code",
      "execution_count": 5,
      "metadata": {
        "colab": {
          "base_uri": "https://localhost:8080/"
        },
        "id": "uPxDI5jXOkOA",
        "outputId": "a4e32d20-2aa2-4be8-9122-f9d884c8fa04"
      },
      "outputs": [
        {
          "output_type": "stream",
          "name": "stdout",
          "text": [
            "Drive already mounted at /content/drive; to attempt to forcibly remount, call drive.mount(\"/content/drive\", force_remount=True).\n"
          ]
        }
      ],
      "source": [
        "from google.colab import drive\n",
        "drive.mount('/content/drive')"
      ]
    },
    {
      "cell_type": "code",
      "execution_count": 6,
      "metadata": {
        "id": "rE4K7Nsm5dQK"
      },
      "outputs": [],
      "source": [
        "# df = load_dataset(\"big_patent\", \"d\")"
      ]
    },
    {
      "cell_type": "code",
      "execution_count": 7,
      "metadata": {
        "id": "QGGx3s0bPbqb"
      },
      "outputs": [],
      "source": [
        "# saving the data\n",
        "# df.to_csv('/content/drive/MyDrive/Data_Science/Bigpatent_Summarization/d.csv', index=False)\n",
        "# df.save_to_disk('/content/drive/MyDrive/Data_Science/Bigpatent_Summarization/d_dataset')"
      ]
    },
    {
      "cell_type": "code",
      "execution_count": 8,
      "metadata": {
        "colab": {
          "base_uri": "https://localhost:8080/"
        },
        "id": "u-P0viYZQoGw",
        "outputId": "7de70b91-f1a2-4032-d199-89947cddbd42"
      },
      "outputs": [
        {
          "output_type": "stream",
          "name": "stdout",
          "text": [
            "DatasetDict({\n",
            "    train: Dataset({\n",
            "        features: ['description', 'abstract'],\n",
            "        num_rows: 10164\n",
            "    })\n",
            "    validation: Dataset({\n",
            "        features: ['description', 'abstract'],\n",
            "        num_rows: 565\n",
            "    })\n",
            "    test: Dataset({\n",
            "        features: ['description', 'abstract'],\n",
            "        num_rows: 565\n",
            "    })\n",
            "})\n"
          ]
        }
      ],
      "source": [
        "df = load_from_disk('/content/drive/MyDrive/Data_Science/Bigpatent_Summarization/d_dataset')\n",
        "print(df)"
      ]
    },
    {
      "cell_type": "code",
      "execution_count": 9,
      "metadata": {
        "colab": {
          "base_uri": "https://localhost:8080/"
        },
        "id": "SQeX8UUaMVwa",
        "outputId": "4aeae7f1-8d3e-471a-f2e7-e662bf51599d"
      },
      "outputs": [
        {
          "output_type": "stream",
          "name": "stderr",
          "text": [
            "WARNING:datasets.arrow_dataset:Loading cached shuffled indices for dataset at /content/drive/MyDrive/Data_Science/Bigpatent_Summarization/d_dataset/train/cache-109082fd420af81a.arrow\n"
          ]
        }
      ],
      "source": [
        "df['train'] = df['train'].shuffle(seed=42).select(range(1000))"
      ]
    },
    {
      "cell_type": "code",
      "execution_count": 10,
      "metadata": {
        "colab": {
          "base_uri": "https://localhost:8080/"
        },
        "id": "iGBu2qodJFid",
        "outputId": "b8820f89-2012-4abf-f58f-705a8f3ad885"
      },
      "outputs": [
        {
          "output_type": "stream",
          "name": "stdout",
          "text": [
            "DatasetDict({\n",
            "    train: Dataset({\n",
            "        features: ['description', 'abstract'],\n",
            "        num_rows: 1000\n",
            "    })\n",
            "    validation: Dataset({\n",
            "        features: ['description', 'abstract'],\n",
            "        num_rows: 565\n",
            "    })\n",
            "    test: Dataset({\n",
            "        features: ['description', 'abstract'],\n",
            "        num_rows: 565\n",
            "    })\n",
            "})\n"
          ]
        }
      ],
      "source": [
        "print(df)"
      ]
    },
    {
      "cell_type": "markdown",
      "metadata": {
        "id": "aHJtBQDDDEIl"
      },
      "source": [
        "### Define Certain Variables"
      ]
    },
    {
      "cell_type": "code",
      "execution_count": 11,
      "metadata": {
        "id": "V9GuM6cZDHld"
      },
      "outputs": [],
      "source": [
        "# Maximum length of the input to the model\n",
        "MAX_INPUT_LENGTH = 1024  \n",
        "\n",
        "# Minimum length of the output by the model\n",
        "MIN_TARGET_LENGTH = 5  \n",
        "# Maximum length of the output by the model\n",
        "MAX_TARGET_LENGTH = 512 \n",
        "\n",
        "# Batch-size for training our model\n",
        "BATCH_SIZE = 16"
      ]
    },
    {
      "cell_type": "markdown",
      "metadata": {
        "id": "aXN-Un8a1fZO"
      },
      "source": [
        "## T5 Model"
      ]
    },
    {
      "cell_type": "markdown",
      "metadata": {
        "id": "h2G_N9QzX_N6"
      },
      "source": [
        "#### Data preprocessing"
      ]
    },
    {
      "cell_type": "code",
      "execution_count": 12,
      "metadata": {
        "id": "-YqtfdS51fZO"
      },
      "outputs": [],
      "source": [
        "MODEL_CHECKPOINT = \"t5-small\"\n",
        "\n",
        "tokenizer = AutoTokenizer.from_pretrained(MODEL_CHECKPOINT)\n",
        "\n",
        "if MODEL_CHECKPOINT in [\"t5-small\", \"t5-base\", \"t5-large\", \"t5-3b\", \"t5-11b\"]:\n",
        "    prefix = \"summarize: \"\n",
        "else:\n",
        "    prefix = \"\""
      ]
    },
    {
      "cell_type": "code",
      "execution_count": 13,
      "metadata": {
        "id": "jRkCUHQ91fZO"
      },
      "outputs": [],
      "source": [
        "def preprocess_function(examples):\n",
        "    inputs = [prefix + inp for inp in examples[\"description\"]]\n",
        "    model_inputs = tokenizer(inputs, max_length=MAX_INPUT_LENGTH, truncation=True)\n",
        "    targets = examples[\"abstract\"]\n",
        "\n",
        "    # Setup the tokenizer for targets\n",
        "    with tokenizer.as_target_tokenizer():\n",
        "        labels = tokenizer(targets, max_length=MAX_TARGET_LENGTH, truncation=True)\n",
        "\n",
        "    model_inputs[\"labels\"] = labels[\"input_ids\"]\n",
        "    return model_inputs"
      ]
    },
    {
      "cell_type": "code",
      "execution_count": 14,
      "metadata": {
        "colab": {
          "base_uri": "https://localhost:8080/"
        },
        "id": "9ZcCBhB61fZP",
        "outputId": "f9ff7244-bfa7-415f-ba6e-31a31ff4c4da"
      },
      "outputs": [
        {
          "output_type": "stream",
          "name": "stderr",
          "text": [
            "WARNING:datasets.arrow_dataset:Loading cached processed dataset at /content/drive/MyDrive/Data_Science/Bigpatent_Summarization/d_dataset/train/cache-531afbe96d6a96bf.arrow\n",
            "WARNING:datasets.arrow_dataset:Loading cached processed dataset at /content/drive/MyDrive/Data_Science/Bigpatent_Summarization/d_dataset/validation/cache-0f603c8f120fe0f3.arrow\n",
            "WARNING:datasets.arrow_dataset:Loading cached processed dataset at /content/drive/MyDrive/Data_Science/Bigpatent_Summarization/d_dataset/test/cache-9a1ff7a71c4bcd3b.arrow\n"
          ]
        }
      ],
      "source": [
        "tokenized_df = df.map(preprocess_function, batched=True)"
      ]
    },
    {
      "cell_type": "code",
      "execution_count": 15,
      "metadata": {
        "colab": {
          "base_uri": "https://localhost:8080/"
        },
        "id": "EEw3VzEuSme7",
        "outputId": "ab312805-a214-4f04-f203-1792dffb7e6c"
      },
      "outputs": [
        {
          "output_type": "execute_result",
          "data": {
            "text/plain": [
              "Dataset({\n",
              "    features: ['description', 'abstract', 'input_ids', 'attention_mask', 'labels'],\n",
              "    num_rows: 1000\n",
              "})"
            ]
          },
          "metadata": {},
          "execution_count": 15
        }
      ],
      "source": [
        "tokenized_df[\"train\"]"
      ]
    },
    {
      "cell_type": "markdown",
      "metadata": {
        "id": "MGo-CQirYXEb"
      },
      "source": [
        "### Fine-tuning the Model"
      ]
    },
    {
      "cell_type": "code",
      "execution_count": 16,
      "metadata": {
        "colab": {
          "base_uri": "https://localhost:8080/"
        },
        "id": "BhRgyJD3YdM5",
        "outputId": "0fe9afbc-16e7-4eef-e2c0-a2ae1d8ea94b"
      },
      "outputs": [
        {
          "output_type": "stream",
          "name": "stderr",
          "text": [
            "All model checkpoint layers were used when initializing TFT5ForConditionalGeneration.\n",
            "\n",
            "All the layers of TFT5ForConditionalGeneration were initialized from the model checkpoint at t5-small.\n",
            "If your task is similar to the task the model of the checkpoint was trained on, you can already use TFT5ForConditionalGeneration for predictions without further training.\n"
          ]
        }
      ],
      "source": [
        "model = TFAutoModelForSeq2SeqLM.from_pretrained(MODEL_CHECKPOINT)"
      ]
    },
    {
      "cell_type": "code",
      "execution_count": 17,
      "metadata": {
        "id": "kwVBdPkvWrim"
      },
      "outputs": [],
      "source": [
        "# pushing the model to tensorflow hub\n",
        "model_name = MODEL_CHECKPOINT.split(\"/\")[-1]\n",
        "push_to_hub_model_id = f\"{model_name}-finetuned-Big-Patent\""
      ]
    },
    {
      "cell_type": "code",
      "execution_count": 18,
      "metadata": {
        "id": "5N8V99Lusmrw"
      },
      "outputs": [],
      "source": [
        "data_collator = DataCollatorForSeq2Seq(tokenizer, model=model, return_tensors=\"tf\")\n",
        "generation_data_collator = DataCollatorForSeq2Seq(tokenizer, model=model, return_tensors=\"np\", pad_to_multiple_of=128)"
      ]
    },
    {
      "cell_type": "code",
      "execution_count": 19,
      "metadata": {
        "colab": {
          "base_uri": "https://localhost:8080/"
        },
        "id": "lhpVUbNKsmnR",
        "outputId": "612d7f12-fb86-48b7-ed24-e9f3d0a49789"
      },
      "outputs": [
        {
          "output_type": "stream",
          "name": "stderr",
          "text": [
            "You're using a T5TokenizerFast tokenizer. Please note that with a fast tokenizer, using the `__call__` method is faster than using a method to encode the text followed by a call to the `pad` method to get a padded encoding.\n"
          ]
        }
      ],
      "source": [
        "tf_train_set = model.prepare_tf_dataset(\n",
        "    tokenized_df[\"train\"],\n",
        "    batch_size=BATCH_SIZE,\n",
        "    shuffle=True,\n",
        "    collate_fn=data_collator,\n",
        ")\n",
        "\n",
        "tf_validation_set = model.prepare_tf_dataset(\n",
        "    tokenized_df[\"validation\"],\n",
        "    batch_size=BATCH_SIZE,\n",
        "    shuffle=False,\n",
        "    collate_fn=data_collator,\n",
        ")\n",
        "\n",
        "tf_generation_set = model.prepare_tf_dataset(\n",
        "    tokenized_df[\"validation\"],\n",
        "    batch_size=BATCH_SIZE,\n",
        "    shuffle=False,\n",
        "    collate_fn=generation_data_collator\n",
        ")"
      ]
    },
    {
      "cell_type": "markdown",
      "metadata": {
        "id": "4c3vFYe_YqLD"
      },
      "source": [
        "### Compiling the Model"
      ]
    },
    {
      "cell_type": "code",
      "execution_count": 20,
      "metadata": {
        "colab": {
          "base_uri": "https://localhost:8080/"
        },
        "id": "l2gQS5Jnsmk5",
        "outputId": "d7288a33-768a-4b77-faa5-4182029c3352"
      },
      "outputs": [
        {
          "output_type": "stream",
          "name": "stderr",
          "text": [
            "No loss specified in compile() - the model's internal loss computation will be used as the loss. Don't panic - this is a common way to train TensorFlow models in Transformers! To disable this behaviour please pass a loss argument, or explicitly pass `loss=None` if you do not want your model to compute a loss.\n"
          ]
        }
      ],
      "source": [
        "optimizer = AdamWeightDecay(learning_rate=2e-5, weight_decay_rate=0.01) \n",
        "model.compile(optimizer=optimizer)"
      ]
    },
    {
      "cell_type": "markdown",
      "metadata": {
        "id": "YOdiRJmhv9WR"
      },
      "source": [
        "### Evaluate the Model"
      ]
    },
    {
      "cell_type": "code",
      "execution_count": 21,
      "metadata": {
        "id": "3KXhpjzyTJn8"
      },
      "outputs": [],
      "source": [
        "metric = load_metric(\"rouge\")\n",
        "\n",
        "def metric_fn(eval_predictions):\n",
        "    predictions, labels = eval_predictions\n",
        "    decoded_predictions = tokenizer.batch_decode(predictions, skip_special_tokens=True)\n",
        "    for label in labels:\n",
        "        label[label < 0] = tokenizer.pad_token_id  # Replace masked label tokens\n",
        "    decoded_labels = tokenizer.batch_decode(labels, skip_special_tokens=True)\n",
        "    # Rouge expects a newline after each sentence\n",
        "    decoded_predictions = [\n",
        "        \"\\n\".join(nltk.sent_tokenize(pred.strip())) for pred in decoded_predictions\n",
        "    ]\n",
        "    decoded_labels = [\n",
        "        \"\\n\".join(nltk.sent_tokenize(label.strip())) for label in decoded_labels\n",
        "    ]\n",
        "    result = metric.compute(\n",
        "        predictions=decoded_predictions, references=decoded_labels, use_stemmer=True\n",
        "    )\n",
        "    # Extract a few results\n",
        "    result = {key: value.mid.fmeasure * 100 for key, value in result.items()}\n",
        "    # Add mean generated length\n",
        "    prediction_lens = [\n",
        "        np.count_nonzero(pred != tokenizer.pad_token_id) for pred in predictions\n",
        "    ]\n",
        "    result[\"gen_len\"] = np.mean(prediction_lens)\n",
        "\n",
        "    return result"
      ]
    },
    {
      "cell_type": "code",
      "execution_count": 22,
      "metadata": {
        "id": "G2-D3rcvXaUq",
        "colab": {
          "base_uri": "https://localhost:8080/"
        },
        "outputId": "5aca415a-5d9f-4ff1-f0fc-c2e7c5e02d28"
      },
      "outputs": [
        {
          "output_type": "stream",
          "name": "stderr",
          "text": [
            "/content/summarization_model_save is already a clone of https://huggingface.co/Jammal7/t5-small-finetuned-Big-Patent. Make sure you pull the latest changes with `repo.git_pull()`.\n",
            "WARNING:huggingface_hub.repository:/content/summarization_model_save is already a clone of https://huggingface.co/Jammal7/t5-small-finetuned-Big-Patent. Make sure you pull the latest changes with `repo.git_pull()`.\n"
          ]
        }
      ],
      "source": [
        "from transformers.keras_callbacks import PushToHubCallback, KerasMetricCallback\n",
        "from tensorflow.keras.callbacks import TensorBoard\n",
        "\n",
        "tensorboard_callback = TensorBoard(log_dir=\"./summarization_model_save/logs\")\n",
        "\n",
        "push_to_hub_callback = PushToHubCallback(\n",
        "    output_dir=\"./summarization_model_save\",\n",
        "    tokenizer=tokenizer,\n",
        "    hub_model_id=push_to_hub_model_id,\n",
        ")"
      ]
    },
    {
      "cell_type": "markdown",
      "metadata": {
        "id": "8n-sII8yTStA"
      },
      "source": [
        "### Train the Model"
      ]
    },
    {
      "cell_type": "code",
      "execution_count": 23,
      "metadata": {
        "colab": {
          "base_uri": "https://localhost:8080/"
        },
        "id": "2vTFWg9FsmaQ",
        "outputId": "77c0006a-cff4-4f96-e156-ccf61038ab7a"
      },
      "outputs": [
        {
          "output_type": "stream",
          "name": "stdout",
          "text": [
            "Epoch 1/15\n",
            "62/62 [==============================] - 1214s 19s/step - loss: 3.7404 - val_loss: 2.9790 - rouge1: 16.0861 - rouge2: 6.3337 - rougeL: 13.0572 - rougeLsum: 14.1865 - gen_len: 19.0000\n",
            "Epoch 2/15\n",
            "62/62 [==============================] - 1160s 19s/step - loss: 3.0790 - val_loss: 2.7949 - rouge1: 16.4660 - rouge2: 6.8110 - rougeL: 13.2669 - rougeLsum: 14.5150 - gen_len: 19.0000\n",
            "Epoch 3/15\n",
            "62/62 [==============================] - 1174s 19s/step - loss: 2.9258 - val_loss: 2.6986 - rouge1: 16.3790 - rouge2: 6.7593 - rougeL: 13.1858 - rougeLsum: 14.4023 - gen_len: 19.0000\n",
            "Epoch 4/15\n",
            "62/62 [==============================] - 1178s 19s/step - loss: 2.8443 - val_loss: 2.6371 - rouge1: 16.6141 - rouge2: 6.9854 - rougeL: 13.3944 - rougeLsum: 14.6000 - gen_len: 19.0000\n",
            "Epoch 5/15\n",
            "62/62 [==============================] - 1173s 19s/step - loss: 2.7807 - val_loss: 2.5929 - rouge1: 17.2393 - rouge2: 7.4286 - rougeL: 13.7774 - rougeLsum: 15.1535 - gen_len: 19.0000\n",
            "Epoch 6/15\n",
            "62/62 [==============================] - 1174s 19s/step - loss: 2.7351 - val_loss: 2.5650 - rouge1: 17.4923 - rouge2: 7.7178 - rougeL: 14.0919 - rougeLsum: 15.3981 - gen_len: 19.0000\n",
            "Epoch 7/15\n",
            "62/62 [==============================] - 1167s 19s/step - loss: 2.7030 - val_loss: 2.5391 - rouge1: 18.1340 - rouge2: 8.2408 - rougeL: 14.6856 - rougeLsum: 16.0094 - gen_len: 18.9965\n",
            "Epoch 8/15\n",
            "62/62 [==============================] - 1182s 19s/step - loss: 2.6698 - val_loss: 2.5154 - rouge1: 18.4022 - rouge2: 8.4054 - rougeL: 14.9469 - rougeLsum: 16.3032 - gen_len: 18.9965\n",
            "Epoch 9/15\n",
            "62/62 [==============================] - 1171s 19s/step - loss: 2.6467 - val_loss: 2.5028 - rouge1: 18.8768 - rouge2: 8.8453 - rougeL: 15.4275 - rougeLsum: 16.6803 - gen_len: 19.0000\n",
            "Epoch 10/15\n",
            "62/62 [==============================] - 1176s 19s/step - loss: 2.6222 - val_loss: 2.4914 - rouge1: 19.1444 - rouge2: 9.0911 - rougeL: 15.7218 - rougeLsum: 16.9961 - gen_len: 19.0000\n",
            "Epoch 11/15\n",
            "62/62 [==============================] - 1177s 19s/step - loss: 2.6047 - val_loss: 2.4768 - rouge1: 19.4891 - rouge2: 9.4717 - rougeL: 16.0835 - rougeLsum: 17.3694 - gen_len: 19.0000\n",
            "Epoch 12/15\n",
            "62/62 [==============================] - 1174s 19s/step - loss: 2.5803 - val_loss: 2.4665 - rouge1: 19.5761 - rouge2: 9.6317 - rougeL: 16.2509 - rougeLsum: 17.4704 - gen_len: 19.0000\n",
            "Epoch 13/15\n",
            "62/62 [==============================] - 1175s 19s/step - loss: 2.5661 - val_loss: 2.4585 - rouge1: 19.7636 - rouge2: 9.8074 - rougeL: 16.4854 - rougeLsum: 17.6755 - gen_len: 19.0000\n",
            "Epoch 14/15\n",
            "62/62 [==============================] - 1171s 19s/step - loss: 2.5489 - val_loss: 2.4459 - rouge1: 19.8174 - rouge2: 9.9250 - rougeL: 16.5972 - rougeLsum: 17.7628 - gen_len: 19.0000\n",
            "Epoch 15/15\n",
            "62/62 [==============================] - 1179s 19s/step - loss: 2.5231 - val_loss: 2.4371 - rouge1: 19.9136 - rouge2: 10.1364 - rougeL: 16.7524 - rougeLsum: 17.8975 - gen_len: 19.0000\n"
          ]
        }
      ],
      "source": [
        "metric_callback = KerasMetricCallback(\n",
        "    metric_fn, eval_dataset=tf_generation_set, predict_with_generate=True, use_xla_generation=True\n",
        ")\n",
        "\n",
        "callbacks = [metric_callback, tensorboard_callback, push_to_hub_callback]\n",
        "\n",
        "history = model.fit(x=tf_train_set, validation_data=tf_validation_set, epochs=15, callbacks=callbacks)"
      ]
    },
    {
      "cell_type": "code",
      "execution_count": 24,
      "metadata": {
        "id": "4F9GFap2TisX",
        "colab": {
          "base_uri": "https://localhost:8080/",
          "height": 453
        },
        "outputId": "68b6998c-1c5c-4026-d53f-36cc73673b07"
      },
      "outputs": [
        {
          "output_type": "display_data",
          "data": {
            "text/plain": [
              "<Figure size 640x480 with 1 Axes>"
            ],
            "image/png": "[encoded data removed]"
          },
          "metadata": {}
        }
      ],
      "source": [
        "# Plot the metrics\n",
        "train_loss = history.history['loss']\n",
        "val_loss = history.history['val_loss']\n",
        "\n",
        "plt.plot(train_loss, label='Training Loss')\n",
        "plt.plot(val_loss, label='Validation Loss')\n",
        "plt.xlabel('Epoch')\n",
        "plt.ylabel('Loss')\n",
        "plt.legend()\n",
        "plt.show()"
      ]
    },
    {
      "cell_type": "code",
      "source": [
        "from transformers import TFAutoModelForSeq2SeqLM\n",
        "\n",
        "model = TFAutoModelForSeq2SeqLM.from_pretrained(\"Jammal7/t5-small-finetuned-Big-Patent\")"
      ],
      "metadata": {
        "colab": {
          "base_uri": "https://localhost:8080/",
          "height": 204,
          "referenced_widgets": [
            "cb2c5f6d20ca438f8c80b7effa28427b",
            "f41619ecc70a4acf85533109d159aa39",
            "4f1d6a1c6e2f42b7b958896d7e983afc",
            "1143aff0252a4b49a7273782950784df",
            "b7691657822148d49b6bd68abe11f73d",
            "b4a7114617364b83b55fcb4fe0df534c",
            "6845c33b377e45e6930c86c14d7c5b26",
            "768829cc693d418eaadd82f1cbbfbac0",
            "4d3c7d5b47fb4ab2a6b8782811f43c10",
            "d53a25f9772e42dcb0ccc357b564b86a",
            "b89bd047fcbd493ba0b686852f88abf3",
            "31c5034941e24530ad2053a8b0106148",
            "96292af5fd424e8490c92a084615994d",
            "efe8dbb74ae846b8bea32a29054ea66f",
            "77c5dd974e39446cb5561c310fc23e30",
            "24e6645405fd42a8b01bdde0ee39b4f3",
            "18662f6428644f3b962a2b386987873c",
            "471173a0b1c44fee99e292df3d5a9295",
            "6f6ec7eae4de40a38dc907fef87caafd",
            "153958fb8ca14c209b1a328b1951fefc",
            "7a9be10f747342fa83a83ca22c24e198",
            "217d50fa6e4848b78d2b3f49dd9764a5",
            "99a30acec06746dfbfb4530b191cb601",
            "133cc7cb0f9e48ca9249137c90cefe41",
            "191668b014dc4629bba74bb7bf58b1bf",
            "d4bb74d88994478c839d68092308581a",
            "f61b6f0f15194b4b9c5e3515a22edec0",
            "f6a787c03b4f43e294893cfdfe298538",
            "6e4ae17dd67e4766b4e0d57f4a551541",
            "19d17cf426304080b2a7e0a795ee2ccb",
            "40d67da124274f0eb4aff737ff96945d",
            "b2bc199dc7f241c38cab5f2feb5e67a5",
            "48a223b3a9a143ec92589f4632a6fd65"
          ]
        },
        "id": "vgrHYyzc4TZ5",
        "outputId": "83ee6607-2a71-459d-b7be-5573943a6f25"
      },
      "execution_count": 25,
      "outputs": [
        {
          "output_type": "display_data",
          "data": {
            "text/plain": [
              "Downloading (…)lve/main/config.json:   0%|          | 0.00/1.45k [00:00<?, ?B/s]"
            ],
            "application/vnd.jupyter.widget-view+json": {
              "version_major": 2,
              "version_minor": 0,
              "model_id": "cb2c5f6d20ca438f8c80b7effa28427b"
            }
          },
          "metadata": {}
        },
        {
          "output_type": "display_data",
          "data": {
            "text/plain": [
              "Downloading tf_model.h5:   0%|          | 0.00/374M [00:00<?, ?B/s]"
            ],
            "application/vnd.jupyter.widget-view+json": {
              "version_major": 2,
              "version_minor": 0,
              "model_id": "31c5034941e24530ad2053a8b0106148"
            }
          },
          "metadata": {}
        },
        {
          "output_type": "stream",
          "name": "stderr",
          "text": [
            "All model checkpoint layers were used when initializing TFT5ForConditionalGeneration.\n",
            "\n",
            "All the layers of TFT5ForConditionalGeneration were initialized from the model checkpoint at Jammal7/t5-small-finetuned-Big-Patent.\n",
            "If your task is similar to the task the model of the checkpoint was trained on, you can already use TFT5ForConditionalGeneration for predictions without further training.\n"
          ]
        },
        {
          "output_type": "display_data",
          "data": {
            "text/plain": [
              "Downloading (…)neration_config.json:   0%|          | 0.00/142 [00:00<?, ?B/s]"
            ],
            "application/vnd.jupyter.widget-view+json": {
              "version_major": 2,
              "version_minor": 0,
              "model_id": "99a30acec06746dfbfb4530b191cb601"
            }
          },
          "metadata": {}
        }
      ]
    },
    {
      "cell_type": "code",
      "source": [
        "# # Save the model in SavedModel format\n",
        "# model.save_pretrained(\"/content/drive/MyDrive/Data_Science/Bigpatent_Summarization/t5_model\")"
      ],
      "metadata": {
        "id": "rKGRE2iaOdrH"
      },
      "execution_count": 26,
      "outputs": []
    },
    {
      "cell_type": "markdown",
      "source": [
        "### Test the model"
      ],
      "metadata": {
        "id": "WaSXVd3b-OJn"
      }
    },
    {
      "cell_type": "code",
      "source": [
        "# Assign the model path to model_name\n",
        "model_name = \"Jammal7/t5-small-finetuned-Big-Patent\"\n",
        "\n",
        "# Load the tokenizer and model\n",
        "tokenizer = AutoTokenizer.from_pretrained(model_name)\n",
        "model = TFAutoModelForSeq2SeqLM.from_pretrained(model_name)"
      ],
      "metadata": {
        "colab": {
          "base_uri": "https://localhost:8080/",
          "height": 204,
          "referenced_widgets": [
            "417d9678dcb74e41971a81cf66f7a76b",
            "26bf6757ad1945e6b1cb56adb13b789b",
            "5fbca91654494744929e36975c405ec1",
            "ce260f343ff041bfb31da142d00a2f44",
            "8835478f76714a2784027357f2da6060",
            "78770e09463f455394f965ba7caf14a1",
            "79f99f648d6b4db9b452925c925d7072",
            "82702fc6a5d0409ea5a09c3b143eff3b",
            "9d18b1b2d9e14de0a853088d81601759",
            "25ece6896ea642e4af5725ddd6704ace",
            "8ddf82ac05bb4682b4f575df3bd91020",
            "04d60e29c8a94cea8444f63c4a498d84",
            "693b15868cfd475fb12f26285fe48a98",
            "e52539619e264056b88a7bee090c7631",
            "bfb36277387f49bd854e8f25f7220942",
            "c2bafc6d9ee84ffd93e070ef5c59966e",
            "f3d8acaadf574ddc86a37a927941bc65",
            "bb00a22497714d79a4e0c8e92837214f",
            "41392b884a104f97892ab9c4c47d96a5",
            "b13f3df5aa3c425da8bd13af09c58b38",
            "b360be4efdd94dc09408a107ed5bb745",
            "d13785f3b9754fca9a869bf4563323fb",
            "0787c890573b4b35bf68c2ea6c7c8f22",
            "3d23c36ca3594834a4edf2c3f22e603f",
            "7837f11a964f44508f6fec48491ec161",
            "835ac62ce3eb49c39642d0e25729a1fd",
            "139a0acc78704282998bb426262895aa",
            "067cc02440ac4e709127dad3a7efbd45",
            "1491381ac96240069e0dca27c121ee0b",
            "3f9138e49f654faa82f1a5fefba36104",
            "7a393a6545f044a08d7644637190ee84",
            "c5eb75928377432490530a7c0d10537a",
            "b46fe9c639294e0a8e8a044a0c709ae7"
          ]
        },
        "id": "96LwgGxlmE-8",
        "outputId": "129ad06c-2f3a-4c6a-e9c8-0ce8d2d06e23"
      },
      "execution_count": 28,
      "outputs": [
        {
          "output_type": "display_data",
          "data": {
            "text/plain": [
              "Downloading (…)okenizer_config.json:   0%|          | 0.00/2.32k [00:00<?, ?B/s]"
            ],
            "application/vnd.jupyter.widget-view+json": {
              "version_major": 2,
              "version_minor": 0,
              "model_id": "417d9678dcb74e41971a81cf66f7a76b"
            }
          },
          "metadata": {}
        },
        {
          "output_type": "display_data",
          "data": {
            "text/plain": [
              "Downloading (…)/main/tokenizer.json:   0%|          | 0.00/2.42M [00:00<?, ?B/s]"
            ],
            "application/vnd.jupyter.widget-view+json": {
              "version_major": 2,
              "version_minor": 0,
              "model_id": "04d60e29c8a94cea8444f63c4a498d84"
            }
          },
          "metadata": {}
        },
        {
          "output_type": "display_data",
          "data": {
            "text/plain": [
              "Downloading (…)cial_tokens_map.json:   0%|          | 0.00/2.20k [00:00<?, ?B/s]"
            ],
            "application/vnd.jupyter.widget-view+json": {
              "version_major": 2,
              "version_minor": 0,
              "model_id": "0787c890573b4b35bf68c2ea6c7c8f22"
            }
          },
          "metadata": {}
        },
        {
          "output_type": "stream",
          "name": "stderr",
          "text": [
            "All model checkpoint layers were used when initializing TFT5ForConditionalGeneration.\n",
            "\n",
            "All the layers of TFT5ForConditionalGeneration were initialized from the model checkpoint at Jammal7/t5-small-finetuned-Big-Patent.\n",
            "If your task is similar to the task the model of the checkpoint was trained on, you can already use TFT5ForConditionalGeneration for predictions without further training.\n"
          ]
        }
      ]
    },
    {
      "cell_type": "code",
      "source": [
        "df['test'][0]['description']"
      ],
      "metadata": {
        "colab": {
          "base_uri": "https://localhost:8080/",
          "height": 143
        },
        "id": "MksJEsE9AeZK",
        "outputId": "df142383-ff99-4f5b-c992-542aeeaf23c0"
      },
      "execution_count": 34,
      "outputs": [
        {
          "output_type": "execute_result",
          "data": {
            "text/plain": [
              "'CROSS-REFERENCE TO RELATED APPLICATIONS \\n     The present application claims priority from Australian Provisional Patent Application No 2006903417 filed on 26 Jun. 2006, the content of which is incorporated herein by reference. \\n     INTRODUCTION TO THE INVENTION \\n     This invention relates to the packaging of consumer products and relates particularly to products that are formed of pulp material, particularly pulp material formed of waste paper, waste timber, waste fabric material, virgin timber and other similar pulp material. The invention more particularly relates to high quality products carrying high definition printing or other decoration. \\n     BACKGROUND TO THE INVENTION \\n     The creation of compelling and high quality packaging for consumer durables is well established and is executed in a variety of forms and formats known in the prior art but with each of the prior art, the formats and methodologies having their own particular limitations. The consumer market demands increasing colour, vibrancy and novelty in addition to sophistication in order to provide eye catching shapes that will serve to differentiate products available for sale in a given marketplace. An element of protection is also required for the goods in question and such protection requirements of the packaging in question, often require complex internal structures or substructures to protect the product in question which introduces, in some cases, considerable cost to the packaging products commonly available. \\n     The core packaging functions, that is to contain, protect, preserve and promote the products in question, are often offset by substantial cost and lack of sustainability, that is the material is from a non-renewable source, or manufactured with a process that causes harmful environmental emissions, or in such a way as to preclude recycling and re-use. The cost of packaging can add considerably to the final cost of a product as it enters commerce and it is desirable to provide the best packaging possible at the most economical cost. Sustainability is also another key issue and becoming an increasingly politicised issue of keen interest in the minds of consumers who may consider the type of packaging used for a product as part of any “buying decision”. In addition, there is a general move and sympathy towards the provision of legislation and guidelines against non-sustainable packaging of consumer products. \\n     The commonly available packaging techniques and materials can be summarised as follows: \\n     Paper and Cardboard \\n     Paper or Cardboard packaging is the most common form of packaging found in the market today. Paper and cardboard packaging is low cost and has the ability to accept printing and finishing to a very high standard but has a principal restriction by limitation of its form. Card is printed and then folded so as to create boxes or constructions limited by largely planer configurations. The inability to readily conform cardboard to other than linear and planer shapes does not allow this material to be adapted for brand or product discrimination in the marketplace as all packaging based on cardboard incorporates substantial planer elements. The ubiquitous nature of cardboard also means that it is difficult for suppliers to create perceived value around the product without resorting to complicated treatments of the boxes, including lamination and use of metallic and plastic films etc. The more complicated the printing and laminating and/or folding involved in any manufacture of a packaging product, the more costly the end product results which must be passed onto the consumer. In addition, a number of the perceived high quality treatments in cardboard and paper packaging, require the use of processes that are not environmentally sustainable, or which hinder the recycling of the packaging and therefore make the packaging less environmentally friendly than it otherwise could be. \\n     Use of recycled materials is also limited by a reduction in strength of cardboard; the main process used for packaging materials is the Fourdrinier process. This process creates a flat sheet of material where fibres are aligned in the direction of the production flow, giving rise to distinct properties within the finished board, which can be used to either increase the compression strength of the board or its flexibility. These particular features are compromised by the use of recycled pulp because of the changes occurring in the pulp particles during recycling processes. In addition, legislation governs the application and use of recycled materials in this process due to hygiene issues. \\n     Plastic is a highly creative medium allowing for the development, design and creation of packaging shapes that are unique, individual and include curves, compound curving or organic forms and which may in turn produce an enormous range and configuration of packaging and presentations, thereby allowing the branding of a particular product or the shape of the actual container to be used as powerful marketing and branding tools. Plastics are able to be brightly coloured and have the ability to take up print and decoration across compound surfaces to give a similar result to that of moulded metal but at a much lower cost. Plastics can be decorated by a number of means; direct printed, labelled or in-mould labelled. This latter process involves the insertion of a polymer label into the empty plastic forming-mould, the label is robotically placed and as it is a planar printed label is positioned on a planar section of the tool. The plastic material is introduced and the surface of the plastic product fuses with the label material to create a smooth decorated surface. This technique of “in mould labelling” is well known and creates interesting and unique packages for use with a variety of goods. \\n     A key limitation and drawback with plastic packaging is the non-sustainability of this packaging methodology and an increasingly poor consumer perception of the throwaway and disposable nature of plastic packaging. Most thermo-plastics are derived from oil and as such the price of this commodity is invariably increasing, in addition to the perception of the non-renewable nature of this commodity, it suffers a generally poor public perception. Most thermo plastics are readily recycled, although the variety of plastics complicates the sorting process. The recycled material is classed as re-grind material and as such its use is more limited than virgin material. This is most notable in the products that have direct food contact were the use of regrind material is not permitted or in some cases it has to be the external material, tied to the inner which is virgin plastic. \\n     An increasing use of organically-derived plastics to address some of the environmental concerns are provided for in the prior art, however, organically-derived materials can also have problems, in particular the so called “bio-polymers”, which may not be as sustainable as they first appear. Most first generation bio-polymers are derived from polylactic acid and this material is not catered to in the current plastic recycling methodologies. In addition, polylactic acid is not compatible with petroleum based plastics and is generally considered a contaminant. In addition, the current rationale understood with respect to bio-polymers is that they are compostible and so can be added to landfill. However the energy required in their creation is not returned or reduced by this process and in a number of cases, polylactic acid is inferior and/or requires more material to equal the performance of petroleum based plastics. \\n     Glass \\n     Clarity, strength and substance as well as premium perception has kept glass a first choice material for a number of high end products including perfumes, skin care products etc where the weight of the glass and its inherent coolness serves to enhance the perception of quality. However glass as a packaging medium, is heavy, fragile and requires a lot of energy to melt and reform. \\n     Metal \\n     Pressed metal boxes and tins are often used in consumer packaging because they can be brightly coloured and formed into a number of eye catching shapes, including curved and organic shapes. \\n     Metal can be formed either by welding into cylinders or through impact moulding. Impact moulding involves the use of a flat sheet of metal which is formed between two shaped metal dyes which subject the metal to a high impact and forces the flat sheeted material to conform to the profile of the dye. \\n     The deformation of metal during this process, whilst it can be severe, generally with respect to the artwork applied to metallic boxes and tins, deformation is of little concern and the artwork can be readily applied to the flat sheet of material in a pre-distorted form which then goes through the moulding process and deforms with the metal such that the requisite imagery or graphics are rendered onto the final product \\n     Metal itself is however an expensive raw material and in comparison to paper, the unit cost of a metallic container is far greater than the similar piece of packaging made from plastic or cardboard. The use of metallic boxes and packaging is generally less sustainable than the previously described materials and requires substantial energy for recycling. In addition, the use of metallic materials for packaging involves the use of a finite resource and the mining industry and forging of metals for packaging is increasingly being perceived by the consuming public as environmentally questionable. \\n     Pulp Fibre \\n     Formed pulp paper has a restricted and limited public perception at this point in time due to its principal association with low end single colour products like fruit trays or egg boxes. The fibre used in the preparation of pulping products can be the same which is used in typical paper production but its also possible to use fibres derived from products other than wood. The development of pulp fibre processing in its simplest form involves a creation of a mat of fibres by lifting a mesh through a vat of fibres in suspension. The fibres are then collected by the mesh and excess water drains away. The positively shaped mesh is then brought into contact with the negatively shaped mould and subsequently heated with the application of pressure to remove excess water. The process then dries the mat into its final form. The currently used processes generally give pulp a distinctive coarse finish with the marks of the mesh clearly visible as witnesses on one or more of the faces. \\n     Modern high pressure pulp thermoforming has provided many improvements to the previously described single stage process. Modern high pressure pulp thermoforming generally involves a two stage forming process which can result in high quality finished products with a smooth finish which is comparable to that of high quality flat cardboard. The modern two stage pulp thermoformer works in such a way that the pulp is moulded over the extraction mesh then transferred to a conventional solid male-female mould with extraction vents. The mould is then heated to about 200° and steam extracted through vents in the mould by vacuum which results in a dense, smooth finish product that can be curved or contain multiple compound curves. \\n     The benefits of pulp as a packaging medium include low cost and the ability to conform the product into a wide variety of highly complex compound shapes. The added benefit of pulp as a packaging medium include the ability for the product to be coloured right through with the use of dyes in the pulp vat. In addition, the material can have variable wall thickness depending on the specific localised pressure used at the point of forming which gives excellent insulation properties for heat and shock. \\n     The key disadvantage of pulp fibre packaging from a commercial point of view is the limitation to the use of a single colour throughout the packaging material. In addition, once the pulping material has been formed and dried into the final moulded shape, it is not possible to economically print upon or decorate such surfaces. \\n     Whilst it is possible to place adhesive stickers on such packaging, adhesive stickers are only able to be applied economically to planer surfaces which provide distinct limitations to the form and design of such packaging products. In addition, adhesive stickers are not visually appealing because they are not fully integrated with the design and manufacture of the product and the application of adhesive labels requires precision and specific care in alignment and places limitations on any high speed industrial process. A further technique for use with pulp fibre packaging includes the use of vacuum or heat to form a laminated plastic film over the finished dried packaging product complete with compound curves. However, such films have disadvantages including their appearance as add-ons or additions and distraction from the integrated perception of the whole design; such products are also limited by the compound nature of the surface to which they can adhere where extremely deep valleys or ridges are not possible without the film ripping or folding which compromises the final product; and finally, the nature of the adhered film is such that it is necessarily a plastic adhered to paper pulp which then compromises recycling and sustainability. \\n     It would be desirable to provide an alternative to current packaging processes and techniques utilising the advantages of pulp fibre providing such packaging can be provided with a high finished quality and with the ability to receive high definition printing and decoration as found in the previously detailed prior art products. \\n     Accordingly, one object of the invention is to provide an improved method of moulding and printing pulp fibre materials. \\n     For the purposes of this specification, the term “pulp material” shall be taken to mean pulp formed of a mixture of cellulose fibres, including, but not limited to, cellulose fibres derived from waste and other paper, cardboard, yarns and textiles, plant fibres including wood chips and other timber and plant material including waste, and any other material predominately of cellulose. \\n     Moulded pulp products are well known, particularly as both internal and external packaging products. For example, moulded pulp egg crates, or cartons have been used for decades for packaging eggs. Similar packaging products are used for a variety of fruit and vegetables and other products that require protection during transportation. Computer components, printer cartridges, vehicle components and many other products are packaged using moulded pulp packaging. Moulded pulp is used for containers for plants in plant nurseries. \\n     The pulp for such packaging is conveniently and cheaply manufactured from waste paper and other waste material. In one process, a pulp slurry is prepared from waste paper, cardboard, textiles and other similar waste material. The slurry may include additives of any type, including, but not limited to, chalk and fabric material. Such additives impart desirable characteristics to the finished product. For example, chalk added to the pulp slurry results in a product having a china-like feel, while the addition of fabric to the slurry results in a product having a quality fabric feel. \\n     In producing a product of moulded pulp, a mould is prepared for the product to be made. A mat of pulp is lifted from the slurry container, generally using a framed mesh, and is deposited into the preliminary mould. The thickness of the pulp mat is determined by the relative speed of the framed mesh dip into the slurry container, and subject to the fibre and moisture content of the pulp slurry. The mat is placed into the mould and pressure or heat and pressure is applied to remove the water content and force the pulp and mat to adopt the shape of the mould. \\n     With products of this type, printing or other decoration may be applied only to any planar surfaces or surfaces that contain only two dimensional curves, such as cylindrical or conical surfaces or the like. \\n     It is therefore desirable to provide an improved product manufactured from pulp material, particularly waste paper pulp, virgin paper pulp and pulp made from other waste materials, having a decorative and/or pleasing appearance. \\n     It is also desirable to provide a product manufactured from pulp material which has a high quality printed surface. \\n     It is also desirable to provide a pulp product having multiple complex shapes and which contain printed material. \\n     It is also desirable to provide a method of manufacturing a moulded pulp product having printing or decoration applied thereto during the manufacturing process. \\n     Statements of the Invention \\n     According to one aspect of the invention there is provided A method of forming a moulded and printed product from pulp material comprising the steps of: \\n     forming a pre-form mould to have one or more planer surfaces, compound conjoined planar surfaces and/or two dimensional curved surfaces; \\n     transferring an amount of pulp slurry material to said pre-form mould; \\n     forming a moulded pre-form from said transferred pulp slurry material; \\n     applying printing to said planar and/or dimensional curved surfaces in a pre-distorted configuration; and \\n     moulding the printed pre-form to a different final shape whereby said printed surfaces retain said printing without running and said printing conforms to a desired post distortion configuration. \\n     With this aspect of the invention, and in accordance with preferred embodiments of the invention, the conventional moulding process is divided preferably into two parts, where the pulp is moulded and formed twice, in two separate and different moulds. A preliminary mould is prepared for the product to be made. The preliminary mould is designed to be within predetermined tolerances, shapes and dimensions of the final mould shape as there is a limited elasticity in a preliminary moulded pulp pre-form for the subsequent moulding stage. \\n     A mat of pulp is lifted from the slurry container, preferably by a framed mesh, which is itself shaped to be the opposing part of the preliminary mould and is offered up into the preliminary mould. The thickness of the pulp mat is determined by the relative speed of the framed mesh dip into the slurry container, and subject to the fibre type, consistency of the slurry and moisture content of the pulp slurry. \\n     The mat is formed into a pre-form shape in the preliminary mould by applying heat and pressure. A vacuum is applied to the rear of the mesh to facilitate the extraction of water content form the pulp in the form of steam. This process sets the overall material parameters of the pulp and the initial characteristics of the product shape. These characteristics include the volume of pulp in the product, uniformity of wall thickness, initial density and dimensional size. These characteristics are calculated to allow for specific tolerances in specific areas, such that those areas that will be subjected to deformation in the secondary moulding process are left with higher moisture contents and lower particle density, so that the pulp retains elasticity at this point. During this stage of the moulding process, an amount of the moisture content of the pulp slurry is removed from the mat. When the pre-form has been formed by and to the desired shape by the preliminary mould, preferably using pressure or heat and pressure, the pre-form is removed therefrom and transferred to a final mould which will impart the final product shape to the pre-form. The final shape may involve the provision of ribs, areas of different thicknesses, areas of different densities, complex curved shapes, planar surfaces and many other different features. The development of such features may be the function of differing heat and pressure applications, and over varying times, calculated to give the desired characteristics for the moulded pulp product. Accordingly, levels of rigidity, dryness, insulation, barrier properties and other properties may vary within a product and between products. \\n     Thus, for any given product design, the pre-form and final form moulds will involve designing the moulds to apply different amounts of heat and pressure in different locations to create areas of differing shapes, thicknesses and densities in walls, differing rib and fin densities, and other product shape characteristics in order, for example, to retain or disburse heat (as an insulator) or physical shock, as required by the end product. \\n     Preferably, the moulded product is formed in two stages as outlined above, and the printing is applied to the pulp after the first moulding process, but before the second moulding process by a printing process. The printing is designed so that, during the final moulding process, the printed material, when conformed to the final complex moulded shape, presents an image which may be easily identified, read and understood, or scanned. Decoration, in the form of embossing, raised or depressed areas which accentuate or complement the printing may occur either in the preliminary or secondary moulding, in both, or progressively, that is the same areas partially raised or depressed in the preliminary moulding are then further depressed or raised in the secondary moulding. Thus, the printing and decorating that occurs on the pre-form prior to forming the final shape is formed into identifiable indicia, logos, recognisable printing or recognisable decoration when the pre-form is subsequently processed in the final mould to its final shape. \\n     Products of some embodiments of the invention may take the form of a complex shape, such as a food container in the shape of an animal head, such as the head of a monkey. With such a product, the pre-form may be in the shape of two connected parts of a polyhedral having multiple planar surfaces each of which can be easily printed with a decoration or design. During final moulding, the printed polyhedral halves are formed into the lower and upper head shapes of multiple, complex curves in the shape of, for example, a monkey&#39;s head, and the printed surfaces take the shape, form and appearance of the facial features of the monkey&#39;s head, including eyes, nose and ears. The edges of each container half are designed to meet and are shaped and printed in the form of the mouth. Such a novel container may have many uses in the food industry, such as a container for takeaway food products, confectionery, or the like; or as packaging for a wide variety of personal care goods such as perfume and toiletries. \\n     Products made in accordance with embodiments of the present invention may take any shape or form that is able to be moulded using pulp moulding techniques. Thus, high quality moulded pulp products with sophisticated printing and decoration may be produced relatively cheaply to replace products of other relatively expensive materials such as synthetic plastics. \\n     In preferred embodiments of the invention, the design of the print or decoration to be applied to the two dimensional surfaces of the pre-form is developed so that, when the surfaces are moulded to complex curves, the printing and/or decoration takes up a desired appearance, which may be in the form of printed letters, pictures, logos or other indicia. The printing is therefore designed to be developed, on moulding from a planar to a curved shape, to the required finished appearance of lettering or the like, including barcodes or other product identification information. During the moulding process, the printed material on the planar or two dimensional curved surfaces morphs or transmutes into the shapes and appearance on the complex curved shapes on the moulded surfaces to display the desired finished appearance. Thus, the printing may expand or contract with the change in the shape of the surface on which it is printed. \\n     Preferably, the inks or other fluid, or powder, that is used for the printing are selected from inks, powders or fluids having the necessary elasticity, colour depth, high drawing and opaqueness to be able to deform, during moulding, without colour change, separation and undesired intensity variation. The ink or other coating compound must also be able to withstand the pressures and heat used during the secondary moulding stage. The processes of preferred embodiments of the invention, however, are particularly relevant to designs with lettering, barcodes, logos and the like on the finished moulded product. This may use an anamorphic projection to modify the aspect ratio of the finished graphic design by optical distortion to stretch or compress the image in various dimensions so that the design is faithfully reproduced in the finished form from a distorted initial image printed on the two dimensional surfaces. A computer assisted design program may be used to transfer the design directly or through the more traditional reprographic methods onto a carrier film, into an automated printing machine or print spray machine as required by the end product design. An optimum target point of decoration on the pre-form is identified, using a deformation grid to ensure that the anamorphic distortion is able to be distorted to a predictable extent during final moulding. \\n     The surfaces of the pre-form to which printing is to be applied, which surfaces may be planar or curved in one direction, such as part cylindrical or conical surfaces, can have the printing applied thereto by one or more of many known printing processes. For example, the printing step or steps may be performed using offset letterpress printing, in which the shaped pre-form is supported by a mandrel or the like, which may also serve as the male element of the pre-form mould. A dry offset letterpress process may combine desired colours onto a single transfer printing head which then applies the “wet” ink in a single pass. \\n     In other embodiments, an “in-mould” process may be used whereby a pre-printed piece of carrier film is inserted into the pre-form mould and the print thereon is then transferred to the pulp pre-form by heat, pressure or adhesive. The carrier material of the film can then be removed from the mould or from the moulded pre-form at the end of the moulding cycle. The carrier film can also be used to laminate the exterior of the pulp pre-form, if desired. The pre-printed film may be fully registered within the mould by means of lugs or other registration processes to ensure that the printed material is properly and accurately applied to the pre-form during the print transfer process. The direct transfer cylinders, labels or the print transfer film may be printed with a combination of specific single colours, which could either be referenced directly to a commercial colour palette (such as pantone), or be a specific mix based on a non-palette hue, or in any of the full colour process techniques (cmyk/hexachrome) to create an accurate representation of photographic/illustrative/graphic elements/indicia/text and data related devices (barcodes/RFID etc). Special effect inks, finishes and beneficial coatings can also be applied at this time, these are able to increase some of the physical or visual aspects of the product. This can include, but is not limited to, increasing resistance to scuffing, delivering anti-counterfeiting, magnetic or UV inks to allow for increased product security, sealing varnishes to prevent or resist contamination of the pulp substrate by biological or chemical elements (anti-fungal etc), reactive coatings which can highlight, by physical change (typically colour change) additional information to pack users, such as product contamination, product temperature, freshness levels etc. \\n     A further process which may be used with embodiments of the invention include a pad printing process which involves applying the decoration to a semi-malleable, or resilient pad which is then engaged with surfaces of the pre-form. The image may be transferred to the pad from a printing plate, and the semi-malleable pad is able to transfer the image to the pre-fomm even when some surfaces of the pre-form are uneven or have small curves to which the semi-malleable pad is able to conform. \\n     Screen printing processes may also be used to print images onto the surfaces of the pre-form. The screen printing process may be beneficial when it is needed to apply high build inks or when applying other surface treatments to the pre-form. Such other surface treatments may include specific coatings to improve the barrier properties of the material, tactile coatings to improve grip or create Braille dots, amongst others. \\n     Combinations of the printing processes referred to above, or other known printing processes may also be adapted for use in performance of embodiments of the present invention. \\n    \\n    \\n     \\n       DETAILED DESCRIPTION OF INVENTION \\n       In order that the invention is more readily understood, embodiments thereof will now be described with reference to the accompanying drawings wherein: \\n         FIG. 1  is a schematic illustration of one embodiment of the process of forming a moulded pulp product; \\n         FIG. 2  is a schematic illustration of another embodiment of the invention; \\n         FIG. 3  is a schematic illustration of a further embodiment of the invention; \\n         FIG. 4  is a schematic illustration of a still further embodiment of the invention; \\n         FIG. 5  is a perspective view of a printed pre-form of one embodiment of a product moulded from pulp material in accordance with an embodiment of the invention; and \\n         FIG. 6  is a perspective view of the final moulded product of  FIG. 5 . \\n         FIG. 7  shows the detailed packaging available from the invention when applied to a popular confectionery product. \\n         FIG. 8  shows another example of the invention. \\n     \\n    \\n    \\n     Referring to  FIG. 1 , a product  12  moulded from pulp material is in the form of a cup having a complex outer surface shape with a plurality of ribs  14  which may be of different thicknesses and spacings to provide insulation, crush-resistance and other characteristics to the cup product  12 . \\n     A slurry  16  of pulp material as hereinbefore defined is mixed in a container  17 , and the desired additives to produce desired end-product characteristics are added to the slurry  16 . Such additives may include chalk, fabric material, and the like known in the art of pulp moulding. The fibre content and moisture levels of the pulp slurry  16  are controlled so as to obtain maximum control over the deform characteristics of the pulp during the moulding processes and to thereby obtain control of the deformation profile and retention of the subsequently applied decoration or other printed material. Preferably, the moisture level of the slurry  16  in the container  17  is between 100% and 600% by weight (total weight/dry weight), more preferably between 200% and 450%, and, in some embodiments, between 300% and 400% by weight. It will be understood that the moisture content will depend to a large extent on the nature of the fibres in the slurry. \\n     A preliminary, or pre-form mould  18  is prepared so as to have planar and/or two dimensional curved surfaces, such as cylindrical or conical surfaces, to which printing or other coatings may be easily applied. In the illustrated embodiment, the pre-form mould  18  has a substantially conical form, to produce a pre-form with a conical outer surface  20 . A framed mesh  19 , which is in the form of the preliminary mould is dipped into the slurry  16  and lifts out a mat  21  of the pulp material from the slurry  16  in the container  17 . The mat  21  is offered up to the matching part of the preliminary mould by the shaped mesh platen  19  where it is formed into the pre-form  22  using, air pressure, heat or other moulding processes which set the overall material parameters of the pulp product and the initial characteristics of the product shape. These characteristics include the volume of pulp material in the product, the uniformity of wall thickness, initial density and product size. The pre-form mould also removes a proportion of the liquid from the pulp mat  21  by applying a highly controlled amount of heat and pressure, and extracting steam through the mesh and through special vents  30  built into the opposing part of the preliminary mould (note, typically these vents are placed so as not to align with print areas as they cause a change in surface texture which interferes with the printing process) so that the pre-form is able to receive printed material thereon. \\n     When the pre-form  22  is released from the mould  18 , it is not self-supporting because there is still a high moisture content within the pulp, to allow deformation at the final stage. It is held onto the preliminary mould by suction. At this point it has the shape of a hollow, frustroconical container matching the shape of the pre-form mould  18 . The outer, conical surface  20  of the pre-form  22  is then able to be printed with appropriate printing and/or decoration using, for example, a dry, offset letterpress printing process schematically indicated at  23 , or using offset photolithography, or other printing processes. \\n     The image printed onto the two dimensional conical surface of the pre-form  22  is an anamorphic projection which is designed so that, when the final product  12  is moulded, the printed indicia takes the desired form and shape required for the finished product. To create an accurate model for the distortion profile there are two distinct methods, the first is to utilise a printed grid with either uniform or otherwise predetermined pattern. A typical grid would use either an XY format or concentric circle. The product to be manufactured is then printed with the grid and the process of shaping and distorting is completed to create a finished product. The grid on the finished product will typically be distorted and mapping the final co-ordinates of this grid against the pre-deformed co-ordinates allows the creation of a distortion map. The other method is based on profiling the material to ascertain its deformation characteristics. This data would then be used to create a virtual distortion map which would then enable specific computer aided design software to predict the final level of distortion across any given shape. The mapping of the distortion across the surface, real or virtual, then enables the accurate pre-distortion of the original image/insignia/type/device so that it, the design, is faithfully reproduced in the finished form from the projection printed on the two dimensional surfaces. This form and shape may include the reproduction of lettering, barcodes, logos, images or any other design or decoration to be identified on the outer surface of the finished product  12 . \\n     The printed pre-form  22  is then transferred to the final mould  24  where it is subjected to heat and/or pressure to cause the pre-form  22  to conform to the shape of the final mould  24 . This shape includes the ribs  14  on the finished product  12 , which ribs  14  have complex shapes. The transformation of the printing on the two dimensional surface of pre-form  22  to the three dimensional shapes formed in the final product  12  require the inks used during the printing process to be able to be deformed, stretched, compressed or otherwise transmuted to the desired form on the finished product  12 . \\n     Referring to  FIG. 2 , this embodiment is similar to that of  FIG. 1  except that there are two separate preliminary mould processes before the final moulding. The first is where the shaped mesh platen lifts the pulp mat into the preliminary mould and a low heat (approx 50 degrees Celsius) and pressure is applied to create a loosely tamped version of the pre-form  22 . As the pre-form mould opens, the pre-form is held onto the mould by suction, to give adequate support for the ensuing printing process. Then the indicia is applied to the pre-form  22  comprising a pre-printed label or film  26  which is applied to the pre-form. Appropriate tabs, or lugs  27  or other means, may be used to orient the label in the desired position within the pre-form mould  18 . The pre-form mould then closes again, and heat and pressure are applied, under close parameters. The key here is to melt the heat release coating on the film, such that the ink is able to transfer to the wet pulp, and also to apply adequate pressure for the ink to bind and adhere to the pulp, whilst retaining enough moisture content within the pulp to allow for deformation inside the final moulding process. In one particular embodiment a temperature of 175 degrees Celsius, for one second combined with a pressure of 400 Kpa is sufficient. \\n     This process is the optimum one for this embodiment of the invention, because it allows for a fast-moving automated process. When the product is relatively flat, the film may be advanced over the pre-form  22  whilst being held on an opposing pair of rollers. As the process proceeds then each section of used film is advanced from one spool or roller onto the opposing spool or roller. In some cases, where the finished article has a deep recess, and it is not practical to lay the print film over the product, then the film is cut into pieces and positioned in the pre-form mould  18 , thereafter the rest of the process remains the same. \\n     The label carrier film may either act as a laminate on the pre-form surface where it actually adheres to the surface, or may be ejected from the pre-form mould  18  on completion of the pre-form moulding process. The pre-form  22  is then transferred to the final mould  24  where the final product  12  is produced, with the shapes, texts and designs on the printed material transmuting to the desired appearance on the finished product  12 . A higher heat is applied, typically 200 degrees Celsius, and all moisture extracted from the pulp by means of steam extraction vents, which are all placed on the opposing face of the pulp to the printed face. \\n     Where in-mould and release film methods are used in the invention, a stable film is used, such as a Garfilm ERC film (trademark), onto which is applied a Heat Release coating, typically at a coverage in the region of 2.7 gsm film weight. Then a specific high-draw ink is used to print on the images or text, using a system with an engraved gravure cylinder with a line screen ranging between 110 and 200 lines per inch. The ink contains the usual additives to increase scuff resistance and adhesion, flexibility and specifically draw (which is required because of the distortion during the re-form process). Heat is then applied to the rear of the film so that the release coating forms a film with the ink, partially bonding with it, which further increases the adhesion and transfer to the pulp. At this stage the printed film is stable and can be transported or stored if required. Once ready for use the film is used either in pre-cut pieces or direct from a roll. As the product emerges from the preliminary mould, it is retained on the male component of the mould by suction applied through the vents in the mould designed for this purpose, and for the purpose of steam extraction. The film is placed onto the planar surfaces designed to receive it. Then the female mould is re-applied and heat applied, typically 150 degrees Celsius, for one second combined with a pressure of 400 Kpa. Referring to  FIG. 3 , in this embodiment, the printed design is applied to the conical outer surface of the pre-form  22  by a resilient pad  29 , such as that known as a Tampo (trade mark) pad or similar, which is sufficiently malleable to facilitate printing onto uneven surfaces. Pad Printing is a relative of gravure printing. The inked image is created on an etched flat plate (cliché) in a manner similar to gravure (in the surface rather than proud or in relief as in letterpress or flexographic printing). A large, resilient silicone rubber pillow (the pad) is pressed against the cliché. The ink pattern is transferred to the pad, which is subsequently pressed against the substrate (in this case the pulp pre-form). Process (4 colour) printing can be accomplished by using several printing stations in sequence. The key feature of pad printing is the ability to print highly irregular surfaces. The resilient pad transferring the ink can conform intimately to surprisingly asymmetric and uneven surfaces. The resilient transfer pad lifts the image from the plate (cliché) etched with the decorative image prior to engaging the pad with the outer surface  20  of the pre-form  22 . The printed pre-form  22  is then moulded to the final product  12  as previously described. \\n       FIG. 4  illustrates an embodiment wherein the pre-form  22  is printed using a screen printing technique. The screen mesh  28  is contacted by the surface of the pre-form  22  and the print is applied from the screen to the pre-form surface. The screen mesh  28  may be rotated around the axis of the pre-form  22  or the pre-form may be rotated and rolled along the planar surface of the screen mesh  28 . Many forms of screen printing are known and may be adapted for use in embodiments of the present invention. \\n     As shown in  FIGS. 5 and 6 , a product  12 , having a complex outer surface shape moulded from pulp material, in this case, a hemispherical bowl, can be printed or decorated in such a manner that decorative material in the form of letters, codes, logos or the like printed as an anamorphic projection  31  on the conical side surface  34  and planar top surface  33  of the pre-form  22  is recognisable and identifiable when the pre-form  22  is re-shaped to exhibit the complex curved surface  36 . In the embodiment illustrated, the lettering  31  as an anamorphic projection is able to be printed by simple printing techniques on the flat top surface  33  and two dimensional side surface  34 . The final moulding process causes the printed material to change shape to exhibit the desired properties. \\n     Embodiments of the invention thus facilitate the manufacture of a multitude of moulded products using pulp material, the moulded products having complex shapes which, nonetheless, are able to be printed or decorated to produce attractive, aesthetically pleasing and/or informative products. \\n     It will be appreciated by persons skilled in the art that numerous variations and/or modifications may be made to the invention as shown in the specific embodiments without departing from the spirit or scope of the invention as broadly described. The present embodiments are, therefore, to be considered in all respects as illustrative and not restrictive.'"
            ],
            "application/vnd.google.colaboratory.intrinsic+json": {
              "type": "string"
            }
          },
          "metadata": {},
          "execution_count": 34
        }
      ]
    },
    {
      "cell_type": "code",
      "source": [
        "document = df['test'][0]['description']\n",
        "if 't5' in model_name: \n",
        "    document = \"summarize: \" + document"
      ],
      "metadata": {
        "id": "P0rUS2u08ts_"
      },
      "execution_count": 29,
      "outputs": []
    },
    {
      "cell_type": "code",
      "source": [
        "tokenized = tokenizer([document], return_tensors='np')\n",
        "out = model.generate(**tokenized, max_length=128)\n",
        "with tokenizer.as_target_tokenizer():\n",
        "    print(tokenizer.decode(out[0]))"
      ],
      "metadata": {
        "colab": {
          "base_uri": "https://localhost:8080/"
        },
        "id": "3R9ajYBrBIhz",
        "outputId": "e4f28799-f927-48ca-a1b2-dd7e0169db89"
      },
      "execution_count": 30,
      "outputs": [
        {
          "output_type": "stream",
          "name": "stderr",
          "text": [
            "Token indices sequence length is longer than the specified maximum sequence length for this model (8952 > 512). Running this sequence through the model will result in indexing errors\n"
          ]
        },
        {
          "output_type": "stream",
          "name": "stdout",
          "text": [
            "<pad> A pre-form is preferably a pre-form, which is preferably a pre-form, and is subsequently deposited into the pre-form. The pre-form is preferably a pre-form, which is preferably a pre-form, and is subsequently disposed in the pre-form. The pre-form is preferably a pre-form, which is preferably a pre-form, and is disposed in a pre-form, and is disposed in a pre-form form of the pre-form, and the slurry is\n"
          ]
        }
      ]
    },
    {
      "cell_type": "code",
      "source": [
        "tokenized = tokenizer([document], return_tensors='tf')\n",
        "out = model.generate(input_ids=tokenized.input_ids, attention_mask=tokenized.attention_mask, max_length=128)\n",
        "summary = tokenizer.decode(out[0])\n",
        "\n",
        "print(\"Summary:\")\n",
        "print(summary)"
      ],
      "metadata": {
        "colab": {
          "base_uri": "https://localhost:8080/"
        },
        "id": "LXs24sgfA-UA",
        "outputId": "36305169-ec8a-4364-a055-f4ba6de3affb"
      },
      "execution_count": 31,
      "outputs": [
        {
          "output_type": "stream",
          "name": "stdout",
          "text": [
            "Summary:\n",
            "<pad> A pre-form is preferably a pre-form, which is preferably a pre-form, and is subsequently deposited into the pre-form. The pre-form is preferably a pre-form, which is preferably a pre-form, and is subsequently disposed in the pre-form. The pre-form is preferably a pre-form, which is preferably a pre-form, and is disposed in a pre-form, and is disposed in a pre-form form of the pre-form, and the slurry is\n"
          ]
        }
      ]
    },
    {
      "cell_type": "code",
      "source": [
        "df['test'][0]['abstract']"
      ],
      "metadata": {
        "colab": {
          "base_uri": "https://localhost:8080/",
          "height": 107
        },
        "id": "IJ1yGlstADRh",
        "outputId": "ad1698b6-7b1e-4b6e-91d9-e2dcf3cf9fcb"
      },
      "execution_count": 32,
      "outputs": [
        {
          "output_type": "execute_result",
          "data": {
            "text/plain": [
              "'A method of forming a moulded and printed product from pulp material including the steps of: forming a pre-form mould to have one or more planar surfaces, compound conjoined planar surfaces and/or two dimensional curved surfaces; transferring an amount of pulp slurry material to the pre-form mould; forming a moulded pre-form from the transferred pulp slurry material; applying printing to the planar and/or dimensional curved surfaces in a pre-distorted configuration; and moulding the printed pre-form to a different final shape whereby the printed surfaces retain the printing without running and the printing conforms to a desired post distortion configuration.'"
            ],
            "application/vnd.google.colaboratory.intrinsic+json": {
              "type": "string"
            }
          },
          "metadata": {},
          "execution_count": 32
        }
      ]
    },
    {
      "cell_type": "markdown",
      "metadata": {
        "id": "1wtcJpq41fZP"
      },
      "source": [
        "## MT5 Model"
      ]
    },
    {
      "cell_type": "code",
      "execution_count": null,
      "metadata": {
        "id": "CNXwxlig1fZP"
      },
      "outputs": [],
      "source": []
    },
    {
      "cell_type": "code",
      "execution_count": null,
      "metadata": {
        "id": "lewPiOZa1fZP"
      },
      "outputs": [],
      "source": []
    },
    {
      "cell_type": "markdown",
      "metadata": {
        "id": "-y7HDgWd1fZP"
      },
      "source": [
        "## BART Model"
      ]
    },
    {
      "cell_type": "code",
      "execution_count": null,
      "metadata": {
        "id": "jJjscHlt1fZP"
      },
      "outputs": [],
      "source": []
    },
    {
      "cell_type": "code",
      "execution_count": null,
      "metadata": {
        "id": "AxynDrVl1fZP"
      },
      "outputs": [],
      "source": []
    },
    {
      "cell_type": "markdown",
      "metadata": {
        "id": "gdYD5Qu81fZP"
      },
      "source": [
        "## PEGASUS Model"
      ]
    },
    {
      "cell_type": "code",
      "execution_count": null,
      "metadata": {
        "id": "DRar2Tyi1fZP"
      },
      "outputs": [],
      "source": []
    },
    {
      "cell_type": "code",
      "execution_count": null,
      "metadata": {
        "id": "VaR7sY-R1fZP"
      },
      "outputs": [],
      "source": []
    },
    {
      "cell_type": "markdown",
      "metadata": {
        "id": "oeawMe2N1fZQ"
      },
      "source": [
        "## GP2 Model"
      ]
    },
    {
      "cell_type": "code",
      "execution_count": null,
      "metadata": {
        "id": "u4Spys4b1fZQ"
      },
      "outputs": [],
      "source": []
    },
    {
      "cell_type": "code",
      "execution_count": null,
      "metadata": {
        "id": "1XKjhqW51fZQ"
      },
      "outputs": [],
      "source": []
    }
  ],
  "metadata": {
    "accelerator": "TPU",
    "colab": {
      "machine_shape": "hm",
      "provenance": []
    },
    "gpuClass": "standard",
    "kernelspec": {
      "display_name": "Python 3",
      "name": "python3"
    },
    "language_info": {
      "codemirror_mode": {
        "name": "ipython",
        "version": 3
      },
      "file_extension": ".py",
      "mimetype": "text/x-python",
      "name": "python",
      "nbconvert_exporter": "python",
      "pygments_lexer": "ipython3",
      "version": "3.10.9"
    },
    "widgets": {
      "application/vnd.jupyter.widget-state+json": {
        "cb2c5f6d20ca438f8c80b7effa28427b": {
          "model_module": "@jupyter-widgets/controls",
          "model_name": "HBoxModel",
          "model_module_version": "1.5.0",
          "state": {
            "_dom_classes": [],
            "_model_module": "@jupyter-widgets/controls",
            "_model_module_version": "1.5.0",
            "_model_name": "HBoxModel",
            "_view_count": null,
            "_view_module": "@jupyter-widgets/controls",
            "_view_module_version": "1.5.0",
            "_view_name": "HBoxView",
            "box_style": "",
            "children": [
              "IPY_MODEL_f41619ecc70a4acf85533109d159aa39",
              "IPY_MODEL_4f1d6a1c6e2f42b7b958896d7e983afc",
              "IPY_MODEL_1143aff0252a4b49a7273782950784df"
            ],
            "layout": "IPY_MODEL_b7691657822148d49b6bd68abe11f73d"
          }
        },
        "f41619ecc70a4acf85533109d159aa39": {
          "model_module": "@jupyter-widgets/controls",
          "model_name": "HTMLModel",
          "model_module_version": "1.5.0",
          "state": {
            "_dom_classes": [],
            "_model_module": "@jupyter-widgets/controls",
            "_model_module_version": "1.5.0",
            "_model_name": "HTMLModel",
            "_view_count": null,
            "_view_module": "@jupyter-widgets/controls",
            "_view_module_version": "1.5.0",
            "_view_name": "HTMLView",
            "description": "",
            "description_tooltip": null,
            "layout": "IPY_MODEL_b4a7114617364b83b55fcb4fe0df534c",
            "placeholder": "​",
            "style": "IPY_MODEL_6845c33b377e45e6930c86c14d7c5b26",
            "value": "Downloading (…)lve/main/config.json: 100%"
          }
        },
        "4f1d6a1c6e2f42b7b958896d7e983afc": {
          "model_module": "@jupyter-widgets/controls",
          "model_name": "FloatProgressModel",
          "model_module_version": "1.5.0",
          "state": {
            "_dom_classes": [],
            "_model_module": "@jupyter-widgets/controls",
            "_model_module_version": "1.5.0",
            "_model_name": "FloatProgressModel",
            "_view_count": null,
            "_view_module": "@jupyter-widgets/controls",
            "_view_module_version": "1.5.0",
            "_view_name": "ProgressView",
            "bar_style": "success",
            "description": "",
            "description_tooltip": null,
            "layout": "IPY_MODEL_768829cc693d418eaadd82f1cbbfbac0",
            "max": 1445,
            "min": 0,
            "orientation": "horizontal",
            "style": "IPY_MODEL_4d3c7d5b47fb4ab2a6b8782811f43c10",
            "value": 1445
          }
        },
        "1143aff0252a4b49a7273782950784df": {
          "model_module": "@jupyter-widgets/controls",
          "model_name": "HTMLModel",
          "model_module_version": "1.5.0",
          "state": {
            "_dom_classes": [],
            "_model_module": "@jupyter-widgets/controls",
            "_model_module_version": "1.5.0",
            "_model_name": "HTMLModel",
            "_view_count": null,
            "_view_module": "@jupyter-widgets/controls",
            "_view_module_version": "1.5.0",
            "_view_name": "HTMLView",
            "description": "",
            "description_tooltip": null,
            "layout": "IPY_MODEL_d53a25f9772e42dcb0ccc357b564b86a",
            "placeholder": "​",
            "style": "IPY_MODEL_b89bd047fcbd493ba0b686852f88abf3",
            "value": " 1.45k/1.45k [00:00&lt;00:00, 128kB/s]"
          }
        },
        "b7691657822148d49b6bd68abe11f73d": {
          "model_module": "@jupyter-widgets/base",
          "model_name": "LayoutModel",
          "model_module_version": "1.2.0",
          "state": {
            "_model_module": "@jupyter-widgets/base",
            "_model_module_version": "1.2.0",
            "_model_name": "LayoutModel",
            "_view_count": null,
            "_view_module": "@jupyter-widgets/base",
            "_view_module_version": "1.2.0",
            "_view_name": "LayoutView",
            "align_content": null,
            "align_items": null,
            "align_self": null,
            "border": null,
            "bottom": null,
            "display": null,
            "flex": null,
            "flex_flow": null,
            "grid_area": null,
            "grid_auto_columns": null,
            "grid_auto_flow": null,
            "grid_auto_rows": null,
            "grid_column": null,
            "grid_gap": null,
            "grid_row": null,
            "grid_template_areas": null,
            "grid_template_columns": null,
            "grid_template_rows": null,
            "height": null,
            "justify_content": null,
            "justify_items": null,
            "left": null,
            "margin": null,
            "max_height": null,
            "max_width": null,
            "min_height": null,
            "min_width": null,
            "object_fit": null,
            "object_position": null,
            "order": null,
            "overflow": null,
            "overflow_x": null,
            "overflow_y": null,
            "padding": null,
            "right": null,
            "top": null,
            "visibility": null,
            "width": null
          }
        },
        "b4a7114617364b83b55fcb4fe0df534c": {
          "model_module": "@jupyter-widgets/base",
          "model_name": "LayoutModel",
          "model_module_version": "1.2.0",
          "state": {
            "_model_module": "@jupyter-widgets/base",
            "_model_module_version": "1.2.0",
            "_model_name": "LayoutModel",
            "_view_count": null,
            "_view_module": "@jupyter-widgets/base",
            "_view_module_version": "1.2.0",
            "_view_name": "LayoutView",
            "align_content": null,
            "align_items": null,
            "align_self": null,
            "border": null,
            "bottom": null,
            "display": null,
            "flex": null,
            "flex_flow": null,
            "grid_area": null,
            "grid_auto_columns": null,
            "grid_auto_flow": null,
            "grid_auto_rows": null,
            "grid_column": null,
            "grid_gap": null,
            "grid_row": null,
            "grid_template_areas": null,
            "grid_template_columns": null,
            "grid_template_rows": null,
            "height": null,
            "justify_content": null,
            "justify_items": null,
            "left": null,
            "margin": null,
            "max_height": null,
            "max_width": null,
            "min_height": null,
            "min_width": null,
            "object_fit": null,
            "object_position": null,
            "order": null,
            "overflow": null,
            "overflow_x": null,
            "overflow_y": null,
            "padding": null,
            "right": null,
            "top": null,
            "visibility": null,
            "width": null
          }
        },
        "6845c33b377e45e6930c86c14d7c5b26": {
          "model_module": "@jupyter-widgets/controls",
          "model_name": "DescriptionStyleModel",
          "model_module_version": "1.5.0",
          "state": {
            "_model_module": "@jupyter-widgets/controls",
            "_model_module_version": "1.5.0",
            "_model_name": "DescriptionStyleModel",
            "_view_count": null,
            "_view_module": "@jupyter-widgets/base",
            "_view_module_version": "1.2.0",
            "_view_name": "StyleView",
            "description_width": ""
          }
        },
        "768829cc693d418eaadd82f1cbbfbac0": {
          "model_module": "@jupyter-widgets/base",
          "model_name": "LayoutModel",
          "model_module_version": "1.2.0",
          "state": {
            "_model_module": "@jupyter-widgets/base",
            "_model_module_version": "1.2.0",
            "_model_name": "LayoutModel",
            "_view_count": null,
            "_view_module": "@jupyter-widgets/base",
            "_view_module_version": "1.2.0",
            "_view_name": "LayoutView",
            "align_content": null,
            "align_items": null,
            "align_self": null,
            "border": null,
            "bottom": null,
            "display": null,
            "flex": null,
            "flex_flow": null,
            "grid_area": null,
            "grid_auto_columns": null,
            "grid_auto_flow": null,
            "grid_auto_rows": null,
            "grid_column": null,
            "grid_gap": null,
            "grid_row": null,
            "grid_template_areas": null,
            "grid_template_columns": null,
            "grid_template_rows": null,
            "height": null,
            "justify_content": null,
            "justify_items": null,
            "left": null,
            "margin": null,
            "max_height": null,
            "max_width": null,
            "min_height": null,
            "min_width": null,
            "object_fit": null,
            "object_position": null,
            "order": null,
            "overflow": null,
            "overflow_x": null,
            "overflow_y": null,
            "padding": null,
            "right": null,
            "top": null,
            "visibility": null,
            "width": null
          }
        },
        "4d3c7d5b47fb4ab2a6b8782811f43c10": {
          "model_module": "@jupyter-widgets/controls",
          "model_name": "ProgressStyleModel",
          "model_module_version": "1.5.0",
          "state": {
            "_model_module": "@jupyter-widgets/controls",
            "_model_module_version": "1.5.0",
            "_model_name": "ProgressStyleModel",
            "_view_count": null,
            "_view_module": "@jupyter-widgets/base",
            "_view_module_version": "1.2.0",
            "_view_name": "StyleView",
            "bar_color": null,
            "description_width": ""
          }
        },
        "d53a25f9772e42dcb0ccc357b564b86a": {
          "model_module": "@jupyter-widgets/base",
          "model_name": "LayoutModel",
          "model_module_version": "1.2.0",
          "state": {
            "_model_module": "@jupyter-widgets/base",
            "_model_module_version": "1.2.0",
            "_model_name": "LayoutModel",
            "_view_count": null,
            "_view_module": "@jupyter-widgets/base",
            "_view_module_version": "1.2.0",
            "_view_name": "LayoutView",
            "align_content": null,
            "align_items": null,
            "align_self": null,
            "border": null,
            "bottom": null,
            "display": null,
            "flex": null,
            "flex_flow": null,
            "grid_area": null,
            "grid_auto_columns": null,
            "grid_auto_flow": null,
            "grid_auto_rows": null,
            "grid_column": null,
            "grid_gap": null,
            "grid_row": null,
            "grid_template_areas": null,
            "grid_template_columns": null,
            "grid_template_rows": null,
            "height": null,
            "justify_content": null,
            "justify_items": null,
            "left": null,
            "margin": null,
            "max_height": null,
            "max_width": null,
            "min_height": null,
            "min_width": null,
            "object_fit": null,
            "object_position": null,
            "order": null,
            "overflow": null,
            "overflow_x": null,
            "overflow_y": null,
            "padding": null,
            "right": null,
            "top": null,
            "visibility": null,
            "width": null
          }
        },
        "b89bd047fcbd493ba0b686852f88abf3": {
          "model_module": "@jupyter-widgets/controls",
          "model_name": "DescriptionStyleModel",
          "model_module_version": "1.5.0",
          "state": {
            "_model_module": "@jupyter-widgets/controls",
            "_model_module_version": "1.5.0",
            "_model_name": "DescriptionStyleModel",
            "_view_count": null,
            "_view_module": "@jupyter-widgets/base",
            "_view_module_version": "1.2.0",
            "_view_name": "StyleView",
            "description_width": ""
          }
        },
        "31c5034941e24530ad2053a8b0106148": {
          "model_module": "@jupyter-widgets/controls",
          "model_name": "HBoxModel",
          "model_module_version": "1.5.0",
          "state": {
            "_dom_classes": [],
            "_model_module": "@jupyter-widgets/controls",
            "_model_module_version": "1.5.0",
            "_model_name": "HBoxModel",
            "_view_count": null,
            "_view_module": "@jupyter-widgets/controls",
            "_view_module_version": "1.5.0",
            "_view_name": "HBoxView",
            "box_style": "",
            "children": [
              "IPY_MODEL_96292af5fd424e8490c92a084615994d",
              "IPY_MODEL_efe8dbb74ae846b8bea32a29054ea66f",
              "IPY_MODEL_77c5dd974e39446cb5561c310fc23e30"
            ],
            "layout": "IPY_MODEL_24e6645405fd42a8b01bdde0ee39b4f3"
          }
        },
        "96292af5fd424e8490c92a084615994d": {
          "model_module": "@jupyter-widgets/controls",
          "model_name": "HTMLModel",
          "model_module_version": "1.5.0",
          "state": {
            "_dom_classes": [],
            "_model_module": "@jupyter-widgets/controls",
            "_model_module_version": "1.5.0",
            "_model_name": "HTMLModel",
            "_view_count": null,
            "_view_module": "@jupyter-widgets/controls",
            "_view_module_version": "1.5.0",
            "_view_name": "HTMLView",
            "description": "",
            "description_tooltip": null,
            "layout": "IPY_MODEL_18662f6428644f3b962a2b386987873c",
            "placeholder": "​",
            "style": "IPY_MODEL_471173a0b1c44fee99e292df3d5a9295",
            "value": "Downloading tf_model.h5: 100%"
          }
        },
        "efe8dbb74ae846b8bea32a29054ea66f": {
          "model_module": "@jupyter-widgets/controls",
          "model_name": "FloatProgressModel",
          "model_module_version": "1.5.0",
          "state": {
            "_dom_classes": [],
            "_model_module": "@jupyter-widgets/controls",
            "_model_module_version": "1.5.0",
            "_model_name": "FloatProgressModel",
            "_view_count": null,
            "_view_module": "@jupyter-widgets/controls",
            "_view_module_version": "1.5.0",
            "_view_name": "ProgressView",
            "bar_style": "success",
            "description": "",
            "description_tooltip": null,
            "layout": "IPY_MODEL_6f6ec7eae4de40a38dc907fef87caafd",
            "max": 373902664,
            "min": 0,
            "orientation": "horizontal",
            "style": "IPY_MODEL_153958fb8ca14c209b1a328b1951fefc",
            "value": 373902664
          }
        },
        "77c5dd974e39446cb5561c310fc23e30": {
          "model_module": "@jupyter-widgets/controls",
          "model_name": "HTMLModel",
          "model_module_version": "1.5.0",
          "state": {
            "_dom_classes": [],
            "_model_module": "@jupyter-widgets/controls",
            "_model_module_version": "1.5.0",
            "_model_name": "HTMLModel",
            "_view_count": null,
            "_view_module": "@jupyter-widgets/controls",
            "_view_module_version": "1.5.0",
            "_view_name": "HTMLView",
            "description": "",
            "description_tooltip": null,
            "layout": "IPY_MODEL_7a9be10f747342fa83a83ca22c24e198",
            "placeholder": "​",
            "style": "IPY_MODEL_217d50fa6e4848b78d2b3f49dd9764a5",
            "value": " 374M/374M [00:03&lt;00:00, 101MB/s]"
          }
        },
        "24e6645405fd42a8b01bdde0ee39b4f3": {
          "model_module": "@jupyter-widgets/base",
          "model_name": "LayoutModel",
          "model_module_version": "1.2.0",
          "state": {
            "_model_module": "@jupyter-widgets/base",
            "_model_module_version": "1.2.0",
            "_model_name": "LayoutModel",
            "_view_count": null,
            "_view_module": "@jupyter-widgets/base",
            "_view_module_version": "1.2.0",
            "_view_name": "LayoutView",
            "align_content": null,
            "align_items": null,
            "align_self": null,
            "border": null,
            "bottom": null,
            "display": null,
            "flex": null,
            "flex_flow": null,
            "grid_area": null,
            "grid_auto_columns": null,
            "grid_auto_flow": null,
            "grid_auto_rows": null,
            "grid_column": null,
            "grid_gap": null,
            "grid_row": null,
            "grid_template_areas": null,
            "grid_template_columns": null,
            "grid_template_rows": null,
            "height": null,
            "justify_content": null,
            "justify_items": null,
            "left": null,
            "margin": null,
            "max_height": null,
            "max_width": null,
            "min_height": null,
            "min_width": null,
            "object_fit": null,
            "object_position": null,
            "order": null,
            "overflow": null,
            "overflow_x": null,
            "overflow_y": null,
            "padding": null,
            "right": null,
            "top": null,
            "visibility": null,
            "width": null
          }
        },
        "18662f6428644f3b962a2b386987873c": {
          "model_module": "@jupyter-widgets/base",
          "model_name": "LayoutModel",
          "model_module_version": "1.2.0",
          "state": {
            "_model_module": "@jupyter-widgets/base",
            "_model_module_version": "1.2.0",
            "_model_name": "LayoutModel",
            "_view_count": null,
            "_view_module": "@jupyter-widgets/base",
            "_view_module_version": "1.2.0",
            "_view_name": "LayoutView",
            "align_content": null,
            "align_items": null,
            "align_self": null,
            "border": null,
            "bottom": null,
            "display": null,
            "flex": null,
            "flex_flow": null,
            "grid_area": null,
            "grid_auto_columns": null,
            "grid_auto_flow": null,
            "grid_auto_rows": null,
            "grid_column": null,
            "grid_gap": null,
            "grid_row": null,
            "grid_template_areas": null,
            "grid_template_columns": null,
            "grid_template_rows": null,
            "height": null,
            "justify_content": null,
            "justify_items": null,
            "left": null,
            "margin": null,
            "max_height": null,
            "max_width": null,
            "min_height": null,
            "min_width": null,
            "object_fit": null,
            "object_position": null,
            "order": null,
            "overflow": null,
            "overflow_x": null,
            "overflow_y": null,
            "padding": null,
            "right": null,
            "top": null,
            "visibility": null,
            "width": null
          }
        },
        "471173a0b1c44fee99e292df3d5a9295": {
          "model_module": "@jupyter-widgets/controls",
          "model_name": "DescriptionStyleModel",
          "model_module_version": "1.5.0",
          "state": {
            "_model_module": "@jupyter-widgets/controls",
            "_model_module_version": "1.5.0",
            "_model_name": "DescriptionStyleModel",
            "_view_count": null,
            "_view_module": "@jupyter-widgets/base",
            "_view_module_version": "1.2.0",
            "_view_name": "StyleView",
            "description_width": ""
          }
        },
        "6f6ec7eae4de40a38dc907fef87caafd": {
          "model_module": "@jupyter-widgets/base",
          "model_name": "LayoutModel",
          "model_module_version": "1.2.0",
          "state": {
            "_model_module": "@jupyter-widgets/base",
            "_model_module_version": "1.2.0",
            "_model_name": "LayoutModel",
            "_view_count": null,
            "_view_module": "@jupyter-widgets/base",
            "_view_module_version": "1.2.0",
            "_view_name": "LayoutView",
            "align_content": null,
            "align_items": null,
            "align_self": null,
            "border": null,
            "bottom": null,
            "display": null,
            "flex": null,
            "flex_flow": null,
            "grid_area": null,
            "grid_auto_columns": null,
            "grid_auto_flow": null,
            "grid_auto_rows": null,
            "grid_column": null,
            "grid_gap": null,
            "grid_row": null,
            "grid_template_areas": null,
            "grid_template_columns": null,
            "grid_template_rows": null,
            "height": null,
            "justify_content": null,
            "justify_items": null,
            "left": null,
            "margin": null,
            "max_height": null,
            "max_width": null,
            "min_height": null,
            "min_width": null,
            "object_fit": null,
            "object_position": null,
            "order": null,
            "overflow": null,
            "overflow_x": null,
            "overflow_y": null,
            "padding": null,
            "right": null,
            "top": null,
            "visibility": null,
            "width": null
          }
        },
        "153958fb8ca14c209b1a328b1951fefc": {
          "model_module": "@jupyter-widgets/controls",
          "model_name": "ProgressStyleModel",
          "model_module_version": "1.5.0",
          "state": {
            "_model_module": "@jupyter-widgets/controls",
            "_model_module_version": "1.5.0",
            "_model_name": "ProgressStyleModel",
            "_view_count": null,
            "_view_module": "@jupyter-widgets/base",
            "_view_module_version": "1.2.0",
            "_view_name": "StyleView",
            "bar_color": null,
            "description_width": ""
          }
        },
        "7a9be10f747342fa83a83ca22c24e198": {
          "model_module": "@jupyter-widgets/base",
          "model_name": "LayoutModel",
          "model_module_version": "1.2.0",
          "state": {
            "_model_module": "@jupyter-widgets/base",
            "_model_module_version": "1.2.0",
            "_model_name": "LayoutModel",
            "_view_count": null,
            "_view_module": "@jupyter-widgets/base",
            "_view_module_version": "1.2.0",
            "_view_name": "LayoutView",
            "align_content": null,
            "align_items": null,
            "align_self": null,
            "border": null,
            "bottom": null,
            "display": null,
            "flex": null,
            "flex_flow": null,
            "grid_area": null,
            "grid_auto_columns": null,
            "grid_auto_flow": null,
            "grid_auto_rows": null,
            "grid_column": null,
            "grid_gap": null,
            "grid_row": null,
            "grid_template_areas": null,
            "grid_template_columns": null,
            "grid_template_rows": null,
            "height": null,
            "justify_content": null,
            "justify_items": null,
            "left": null,
            "margin": null,
            "max_height": null,
            "max_width": null,
            "min_height": null,
            "min_width": null,
            "object_fit": null,
            "object_position": null,
            "order": null,
            "overflow": null,
            "overflow_x": null,
            "overflow_y": null,
            "padding": null,
            "right": null,
            "top": null,
            "visibility": null,
            "width": null
          }
        },
        "217d50fa6e4848b78d2b3f49dd9764a5": {
          "model_module": "@jupyter-widgets/controls",
          "model_name": "DescriptionStyleModel",
          "model_module_version": "1.5.0",
          "state": {
            "_model_module": "@jupyter-widgets/controls",
            "_model_module_version": "1.5.0",
            "_model_name": "DescriptionStyleModel",
            "_view_count": null,
            "_view_module": "@jupyter-widgets/base",
            "_view_module_version": "1.2.0",
            "_view_name": "StyleView",
            "description_width": ""
          }
        },
        "99a30acec06746dfbfb4530b191cb601": {
          "model_module": "@jupyter-widgets/controls",
          "model_name": "HBoxModel",
          "model_module_version": "1.5.0",
          "state": {
            "_dom_classes": [],
            "_model_module": "@jupyter-widgets/controls",
            "_model_module_version": "1.5.0",
            "_model_name": "HBoxModel",
            "_view_count": null,
            "_view_module": "@jupyter-widgets/controls",
            "_view_module_version": "1.5.0",
            "_view_name": "HBoxView",
            "box_style": "",
            "children": [
              "IPY_MODEL_133cc7cb0f9e48ca9249137c90cefe41",
              "IPY_MODEL_191668b014dc4629bba74bb7bf58b1bf",
              "IPY_MODEL_d4bb74d88994478c839d68092308581a"
            ],
            "layout": "IPY_MODEL_f61b6f0f15194b4b9c5e3515a22edec0"
          }
        },
        "133cc7cb0f9e48ca9249137c90cefe41": {
          "model_module": "@jupyter-widgets/controls",
          "model_name": "HTMLModel",
          "model_module_version": "1.5.0",
          "state": {
            "_dom_classes": [],
            "_model_module": "@jupyter-widgets/controls",
            "_model_module_version": "1.5.0",
            "_model_name": "HTMLModel",
            "_view_count": null,
            "_view_module": "@jupyter-widgets/controls",
            "_view_module_version": "1.5.0",
            "_view_name": "HTMLView",
            "description": "",
            "description_tooltip": null,
            "layout": "IPY_MODEL_f6a787c03b4f43e294893cfdfe298538",
            "placeholder": "​",
            "style": "IPY_MODEL_6e4ae17dd67e4766b4e0d57f4a551541",
            "value": "Downloading (…)neration_config.json: 100%"
          }
        },
        "191668b014dc4629bba74bb7bf58b1bf": {
          "model_module": "@jupyter-widgets/controls",
          "model_name": "FloatProgressModel",
          "model_module_version": "1.5.0",
          "state": {
            "_dom_classes": [],
            "_model_module": "@jupyter-widgets/controls",
            "_model_module_version": "1.5.0",
            "_model_name": "FloatProgressModel",
            "_view_count": null,
            "_view_module": "@jupyter-widgets/controls",
            "_view_module_version": "1.5.0",
            "_view_name": "ProgressView",
            "bar_style": "success",
            "description": "",
            "description_tooltip": null,
            "layout": "IPY_MODEL_19d17cf426304080b2a7e0a795ee2ccb",
            "max": 142,
            "min": 0,
            "orientation": "horizontal",
            "style": "IPY_MODEL_40d67da124274f0eb4aff737ff96945d",
            "value": 142
          }
        },
        "d4bb74d88994478c839d68092308581a": {
          "model_module": "@jupyter-widgets/controls",
          "model_name": "HTMLModel",
          "model_module_version": "1.5.0",
          "state": {
            "_dom_classes": [],
            "_model_module": "@jupyter-widgets/controls",
            "_model_module_version": "1.5.0",
            "_model_name": "HTMLModel",
            "_view_count": null,
            "_view_module": "@jupyter-widgets/controls",
            "_view_module_version": "1.5.0",
            "_view_name": "HTMLView",
            "description": "",
            "description_tooltip": null,
            "layout": "IPY_MODEL_b2bc199dc7f241c38cab5f2feb5e67a5",
            "placeholder": "​",
            "style": "IPY_MODEL_48a223b3a9a143ec92589f4632a6fd65",
            "value": " 142/142 [00:00&lt;00:00, 12.9kB/s]"
          }
        },
        "f61b6f0f15194b4b9c5e3515a22edec0": {
          "model_module": "@jupyter-widgets/base",
          "model_name": "LayoutModel",
          "model_module_version": "1.2.0",
          "state": {
            "_model_module": "@jupyter-widgets/base",
            "_model_module_version": "1.2.0",
            "_model_name": "LayoutModel",
            "_view_count": null,
            "_view_module": "@jupyter-widgets/base",
            "_view_module_version": "1.2.0",
            "_view_name": "LayoutView",
            "align_content": null,
            "align_items": null,
            "align_self": null,
            "border": null,
            "bottom": null,
            "display": null,
            "flex": null,
            "flex_flow": null,
            "grid_area": null,
            "grid_auto_columns": null,
            "grid_auto_flow": null,
            "grid_auto_rows": null,
            "grid_column": null,
            "grid_gap": null,
            "grid_row": null,
            "grid_template_areas": null,
            "grid_template_columns": null,
            "grid_template_rows": null,
            "height": null,
            "justify_content": null,
            "justify_items": null,
            "left": null,
            "margin": null,
            "max_height": null,
            "max_width": null,
            "min_height": null,
            "min_width": null,
            "object_fit": null,
            "object_position": null,
            "order": null,
            "overflow": null,
            "overflow_x": null,
            "overflow_y": null,
            "padding": null,
            "right": null,
            "top": null,
            "visibility": null,
            "width": null
          }
        },
        "f6a787c03b4f43e294893cfdfe298538": {
          "model_module": "@jupyter-widgets/base",
          "model_name": "LayoutModel",
          "model_module_version": "1.2.0",
          "state": {
            "_model_module": "@jupyter-widgets/base",
            "_model_module_version": "1.2.0",
            "_model_name": "LayoutModel",
            "_view_count": null,
            "_view_module": "@jupyter-widgets/base",
            "_view_module_version": "1.2.0",
            "_view_name": "LayoutView",
            "align_content": null,
            "align_items": null,
            "align_self": null,
            "border": null,
            "bottom": null,
            "display": null,
            "flex": null,
            "flex_flow": null,
            "grid_area": null,
            "grid_auto_columns": null,
            "grid_auto_flow": null,
            "grid_auto_rows": null,
            "grid_column": null,
            "grid_gap": null,
            "grid_row": null,
            "grid_template_areas": null,
            "grid_template_columns": null,
            "grid_template_rows": null,
            "height": null,
            "justify_content": null,
            "justify_items": null,
            "left": null,
            "margin": null,
            "max_height": null,
            "max_width": null,
            "min_height": null,
            "min_width": null,
            "object_fit": null,
            "object_position": null,
            "order": null,
            "overflow": null,
            "overflow_x": null,
            "overflow_y": null,
            "padding": null,
            "right": null,
            "top": null,
            "visibility": null,
            "width": null
          }
        },
        "6e4ae17dd67e4766b4e0d57f4a551541": {
          "model_module": "@jupyter-widgets/controls",
          "model_name": "DescriptionStyleModel",
          "model_module_version": "1.5.0",
          "state": {
            "_model_module": "@jupyter-widgets/controls",
            "_model_module_version": "1.5.0",
            "_model_name": "DescriptionStyleModel",
            "_view_count": null,
            "_view_module": "@jupyter-widgets/base",
            "_view_module_version": "1.2.0",
            "_view_name": "StyleView",
            "description_width": ""
          }
        },
        "19d17cf426304080b2a7e0a795ee2ccb": {
          "model_module": "@jupyter-widgets/base",
          "model_name": "LayoutModel",
          "model_module_version": "1.2.0",
          "state": {
            "_model_module": "@jupyter-widgets/base",
            "_model_module_version": "1.2.0",
            "_model_name": "LayoutModel",
            "_view_count": null,
            "_view_module": "@jupyter-widgets/base",
            "_view_module_version": "1.2.0",
            "_view_name": "LayoutView",
            "align_content": null,
            "align_items": null,
            "align_self": null,
            "border": null,
            "bottom": null,
            "display": null,
            "flex": null,
            "flex_flow": null,
            "grid_area": null,
            "grid_auto_columns": null,
            "grid_auto_flow": null,
            "grid_auto_rows": null,
            "grid_column": null,
            "grid_gap": null,
            "grid_row": null,
            "grid_template_areas": null,
            "grid_template_columns": null,
            "grid_template_rows": null,
            "height": null,
            "justify_content": null,
            "justify_items": null,
            "left": null,
            "margin": null,
            "max_height": null,
            "max_width": null,
            "min_height": null,
            "min_width": null,
            "object_fit": null,
            "object_position": null,
            "order": null,
            "overflow": null,
            "overflow_x": null,
            "overflow_y": null,
            "padding": null,
            "right": null,
            "top": null,
            "visibility": null,
            "width": null
          }
        },
        "40d67da124274f0eb4aff737ff96945d": {
          "model_module": "@jupyter-widgets/controls",
          "model_name": "ProgressStyleModel",
          "model_module_version": "1.5.0",
          "state": {
            "_model_module": "@jupyter-widgets/controls",
            "_model_module_version": "1.5.0",
            "_model_name": "ProgressStyleModel",
            "_view_count": null,
            "_view_module": "@jupyter-widgets/base",
            "_view_module_version": "1.2.0",
            "_view_name": "StyleView",
            "bar_color": null,
            "description_width": ""
          }
        },
        "b2bc199dc7f241c38cab5f2feb5e67a5": {
          "model_module": "@jupyter-widgets/base",
          "model_name": "LayoutModel",
          "model_module_version": "1.2.0",
          "state": {
            "_model_module": "@jupyter-widgets/base",
            "_model_module_version": "1.2.0",
            "_model_name": "LayoutModel",
            "_view_count": null,
            "_view_module": "@jupyter-widgets/base",
            "_view_module_version": "1.2.0",
            "_view_name": "LayoutView",
            "align_content": null,
            "align_items": null,
            "align_self": null,
            "border": null,
            "bottom": null,
            "display": null,
            "flex": null,
            "flex_flow": null,
            "grid_area": null,
            "grid_auto_columns": null,
            "grid_auto_flow": null,
            "grid_auto_rows": null,
            "grid_column": null,
            "grid_gap": null,
            "grid_row": null,
            "grid_template_areas": null,
            "grid_template_columns": null,
            "grid_template_rows": null,
            "height": null,
            "justify_content": null,
            "justify_items": null,
            "left": null,
            "margin": null,
            "max_height": null,
            "max_width": null,
            "min_height": null,
            "min_width": null,
            "object_fit": null,
            "object_position": null,
            "order": null,
            "overflow": null,
            "overflow_x": null,
            "overflow_y": null,
            "padding": null,
            "right": null,
            "top": null,
            "visibility": null,
            "width": null
          }
        },
        "48a223b3a9a143ec92589f4632a6fd65": {
          "model_module": "@jupyter-widgets/controls",
          "model_name": "DescriptionStyleModel",
          "model_module_version": "1.5.0",
          "state": {
            "_model_module": "@jupyter-widgets/controls",
            "_model_module_version": "1.5.0",
            "_model_name": "DescriptionStyleModel",
            "_view_count": null,
            "_view_module": "@jupyter-widgets/base",
            "_view_module_version": "1.2.0",
            "_view_name": "StyleView",
            "description_width": ""
          }
        },
        "417d9678dcb74e41971a81cf66f7a76b": {
          "model_module": "@jupyter-widgets/controls",
          "model_name": "HBoxModel",
          "model_module_version": "1.5.0",
          "state": {
            "_dom_classes": [],
            "_model_module": "@jupyter-widgets/controls",
            "_model_module_version": "1.5.0",
            "_model_name": "HBoxModel",
            "_view_count": null,
            "_view_module": "@jupyter-widgets/controls",
            "_view_module_version": "1.5.0",
            "_view_name": "HBoxView",
            "box_style": "",
            "children": [
              "IPY_MODEL_26bf6757ad1945e6b1cb56adb13b789b",
              "IPY_MODEL_5fbca91654494744929e36975c405ec1",
              "IPY_MODEL_ce260f343ff041bfb31da142d00a2f44"
            ],
            "layout": "IPY_MODEL_8835478f76714a2784027357f2da6060"
          }
        },
        "26bf6757ad1945e6b1cb56adb13b789b": {
          "model_module": "@jupyter-widgets/controls",
          "model_name": "HTMLModel",
          "model_module_version": "1.5.0",
          "state": {
            "_dom_classes": [],
            "_model_module": "@jupyter-widgets/controls",
            "_model_module_version": "1.5.0",
            "_model_name": "HTMLModel",
            "_view_count": null,
            "_view_module": "@jupyter-widgets/controls",
            "_view_module_version": "1.5.0",
            "_view_name": "HTMLView",
            "description": "",
            "description_tooltip": null,
            "layout": "IPY_MODEL_78770e09463f455394f965ba7caf14a1",
            "placeholder": "​",
            "style": "IPY_MODEL_79f99f648d6b4db9b452925c925d7072",
            "value": "Downloading (…)okenizer_config.json: 100%"
          }
        },
        "5fbca91654494744929e36975c405ec1": {
          "model_module": "@jupyter-widgets/controls",
          "model_name": "FloatProgressModel",
          "model_module_version": "1.5.0",
          "state": {
            "_dom_classes": [],
            "_model_module": "@jupyter-widgets/controls",
            "_model_module_version": "1.5.0",
            "_model_name": "FloatProgressModel",
            "_view_count": null,
            "_view_module": "@jupyter-widgets/controls",
            "_view_module_version": "1.5.0",
            "_view_name": "ProgressView",
            "bar_style": "success",
            "description": "",
            "description_tooltip": null,
            "layout": "IPY_MODEL_82702fc6a5d0409ea5a09c3b143eff3b",
            "max": 2324,
            "min": 0,
            "orientation": "horizontal",
            "style": "IPY_MODEL_9d18b1b2d9e14de0a853088d81601759",
            "value": 2324
          }
        },
        "ce260f343ff041bfb31da142d00a2f44": {
          "model_module": "@jupyter-widgets/controls",
          "model_name": "HTMLModel",
          "model_module_version": "1.5.0",
          "state": {
            "_dom_classes": [],
            "_model_module": "@jupyter-widgets/controls",
            "_model_module_version": "1.5.0",
            "_model_name": "HTMLModel",
            "_view_count": null,
            "_view_module": "@jupyter-widgets/controls",
            "_view_module_version": "1.5.0",
            "_view_name": "HTMLView",
            "description": "",
            "description_tooltip": null,
            "layout": "IPY_MODEL_25ece6896ea642e4af5725ddd6704ace",
            "placeholder": "​",
            "style": "IPY_MODEL_8ddf82ac05bb4682b4f575df3bd91020",
            "value": " 2.32k/2.32k [00:00&lt;00:00, 209kB/s]"
          }
        },
        "8835478f76714a2784027357f2da6060": {
          "model_module": "@jupyter-widgets/base",
          "model_name": "LayoutModel",
          "model_module_version": "1.2.0",
          "state": {
            "_model_module": "@jupyter-widgets/base",
            "_model_module_version": "1.2.0",
            "_model_name": "LayoutModel",
            "_view_count": null,
            "_view_module": "@jupyter-widgets/base",
            "_view_module_version": "1.2.0",
            "_view_name": "LayoutView",
            "align_content": null,
            "align_items": null,
            "align_self": null,
            "border": null,
            "bottom": null,
            "display": null,
            "flex": null,
            "flex_flow": null,
            "grid_area": null,
            "grid_auto_columns": null,
            "grid_auto_flow": null,
            "grid_auto_rows": null,
            "grid_column": null,
            "grid_gap": null,
            "grid_row": null,
            "grid_template_areas": null,
            "grid_template_columns": null,
            "grid_template_rows": null,
            "height": null,
            "justify_content": null,
            "justify_items": null,
            "left": null,
            "margin": null,
            "max_height": null,
            "max_width": null,
            "min_height": null,
            "min_width": null,
            "object_fit": null,
            "object_position": null,
            "order": null,
            "overflow": null,
            "overflow_x": null,
            "overflow_y": null,
            "padding": null,
            "right": null,
            "top": null,
            "visibility": null,
            "width": null
          }
        },
        "78770e09463f455394f965ba7caf14a1": {
          "model_module": "@jupyter-widgets/base",
          "model_name": "LayoutModel",
          "model_module_version": "1.2.0",
          "state": {
            "_model_module": "@jupyter-widgets/base",
            "_model_module_version": "1.2.0",
            "_model_name": "LayoutModel",
            "_view_count": null,
            "_view_module": "@jupyter-widgets/base",
            "_view_module_version": "1.2.0",
            "_view_name": "LayoutView",
            "align_content": null,
            "align_items": null,
            "align_self": null,
            "border": null,
            "bottom": null,
            "display": null,
            "flex": null,
            "flex_flow": null,
            "grid_area": null,
            "grid_auto_columns": null,
            "grid_auto_flow": null,
            "grid_auto_rows": null,
            "grid_column": null,
            "grid_gap": null,
            "grid_row": null,
            "grid_template_areas": null,
            "grid_template_columns": null,
            "grid_template_rows": null,
            "height": null,
            "justify_content": null,
            "justify_items": null,
            "left": null,
            "margin": null,
            "max_height": null,
            "max_width": null,
            "min_height": null,
            "min_width": null,
            "object_fit": null,
            "object_position": null,
            "order": null,
            "overflow": null,
            "overflow_x": null,
            "overflow_y": null,
            "padding": null,
            "right": null,
            "top": null,
            "visibility": null,
            "width": null
          }
        },
        "79f99f648d6b4db9b452925c925d7072": {
          "model_module": "@jupyter-widgets/controls",
          "model_name": "DescriptionStyleModel",
          "model_module_version": "1.5.0",
          "state": {
            "_model_module": "@jupyter-widgets/controls",
            "_model_module_version": "1.5.0",
            "_model_name": "DescriptionStyleModel",
            "_view_count": null,
            "_view_module": "@jupyter-widgets/base",
            "_view_module_version": "1.2.0",
            "_view_name": "StyleView",
            "description_width": ""
          }
        },
        "82702fc6a5d0409ea5a09c3b143eff3b": {
          "model_module": "@jupyter-widgets/base",
          "model_name": "LayoutModel",
          "model_module_version": "1.2.0",
          "state": {
            "_model_module": "@jupyter-widgets/base",
            "_model_module_version": "1.2.0",
            "_model_name": "LayoutModel",
            "_view_count": null,
            "_view_module": "@jupyter-widgets/base",
            "_view_module_version": "1.2.0",
            "_view_name": "LayoutView",
            "align_content": null,
            "align_items": null,
            "align_self": null,
            "border": null,
            "bottom": null,
            "display": null,
            "flex": null,
            "flex_flow": null,
            "grid_area": null,
            "grid_auto_columns": null,
            "grid_auto_flow": null,
            "grid_auto_rows": null,
            "grid_column": null,
            "grid_gap": null,
            "grid_row": null,
            "grid_template_areas": null,
            "grid_template_columns": null,
            "grid_template_rows": null,
            "height": null,
            "justify_content": null,
            "justify_items": null,
            "left": null,
            "margin": null,
            "max_height": null,
            "max_width": null,
            "min_height": null,
            "min_width": null,
            "object_fit": null,
            "object_position": null,
            "order": null,
            "overflow": null,
            "overflow_x": null,
            "overflow_y": null,
            "padding": null,
            "right": null,
            "top": null,
            "visibility": null,
            "width": null
          }
        },
        "9d18b1b2d9e14de0a853088d81601759": {
          "model_module": "@jupyter-widgets/controls",
          "model_name": "ProgressStyleModel",
          "model_module_version": "1.5.0",
          "state": {
            "_model_module": "@jupyter-widgets/controls",
            "_model_module_version": "1.5.0",
            "_model_name": "ProgressStyleModel",
            "_view_count": null,
            "_view_module": "@jupyter-widgets/base",
            "_view_module_version": "1.2.0",
            "_view_name": "StyleView",
            "bar_color": null,
            "description_width": ""
          }
        },
        "25ece6896ea642e4af5725ddd6704ace": {
          "model_module": "@jupyter-widgets/base",
          "model_name": "LayoutModel",
          "model_module_version": "1.2.0",
          "state": {
            "_model_module": "@jupyter-widgets/base",
            "_model_module_version": "1.2.0",
            "_model_name": "LayoutModel",
            "_view_count": null,
            "_view_module": "@jupyter-widgets/base",
            "_view_module_version": "1.2.0",
            "_view_name": "LayoutView",
            "align_content": null,
            "align_items": null,
            "align_self": null,
            "border": null,
            "bottom": null,
            "display": null,
            "flex": null,
            "flex_flow": null,
            "grid_area": null,
            "grid_auto_columns": null,
            "grid_auto_flow": null,
            "grid_auto_rows": null,
            "grid_column": null,
            "grid_gap": null,
            "grid_row": null,
            "grid_template_areas": null,
            "grid_template_columns": null,
            "grid_template_rows": null,
            "height": null,
            "justify_content": null,
            "justify_items": null,
            "left": null,
            "margin": null,
            "max_height": null,
            "max_width": null,
            "min_height": null,
            "min_width": null,
            "object_fit": null,
            "object_position": null,
            "order": null,
            "overflow": null,
            "overflow_x": null,
            "overflow_y": null,
            "padding": null,
            "right": null,
            "top": null,
            "visibility": null,
            "width": null
          }
        },
        "8ddf82ac05bb4682b4f575df3bd91020": {
          "model_module": "@jupyter-widgets/controls",
          "model_name": "DescriptionStyleModel",
          "model_module_version": "1.5.0",
          "state": {
            "_model_module": "@jupyter-widgets/controls",
            "_model_module_version": "1.5.0",
            "_model_name": "DescriptionStyleModel",
            "_view_count": null,
            "_view_module": "@jupyter-widgets/base",
            "_view_module_version": "1.2.0",
            "_view_name": "StyleView",
            "description_width": ""
          }
        },
        "04d60e29c8a94cea8444f63c4a498d84": {
          "model_module": "@jupyter-widgets/controls",
          "model_name": "HBoxModel",
          "model_module_version": "1.5.0",
          "state": {
            "_dom_classes": [],
            "_model_module": "@jupyter-widgets/controls",
            "_model_module_version": "1.5.0",
            "_model_name": "HBoxModel",
            "_view_count": null,
            "_view_module": "@jupyter-widgets/controls",
            "_view_module_version": "1.5.0",
            "_view_name": "HBoxView",
            "box_style": "",
            "children": [
              "IPY_MODEL_693b15868cfd475fb12f26285fe48a98",
              "IPY_MODEL_e52539619e264056b88a7bee090c7631",
              "IPY_MODEL_bfb36277387f49bd854e8f25f7220942"
            ],
            "layout": "IPY_MODEL_c2bafc6d9ee84ffd93e070ef5c59966e"
          }
        },
        "693b15868cfd475fb12f26285fe48a98": {
          "model_module": "@jupyter-widgets/controls",
          "model_name": "HTMLModel",
          "model_module_version": "1.5.0",
          "state": {
            "_dom_classes": [],
            "_model_module": "@jupyter-widgets/controls",
            "_model_module_version": "1.5.0",
            "_model_name": "HTMLModel",
            "_view_count": null,
            "_view_module": "@jupyter-widgets/controls",
            "_view_module_version": "1.5.0",
            "_view_name": "HTMLView",
            "description": "",
            "description_tooltip": null,
            "layout": "IPY_MODEL_f3d8acaadf574ddc86a37a927941bc65",
            "placeholder": "​",
            "style": "IPY_MODEL_bb00a22497714d79a4e0c8e92837214f",
            "value": "Downloading (…)/main/tokenizer.json: 100%"
          }
        },
        "e52539619e264056b88a7bee090c7631": {
          "model_module": "@jupyter-widgets/controls",
          "model_name": "FloatProgressModel",
          "model_module_version": "1.5.0",
          "state": {
            "_dom_classes": [],
            "_model_module": "@jupyter-widgets/controls",
            "_model_module_version": "1.5.0",
            "_model_name": "FloatProgressModel",
            "_view_count": null,
            "_view_module": "@jupyter-widgets/controls",
            "_view_module_version": "1.5.0",
            "_view_name": "ProgressView",
            "bar_style": "success",
            "description": "",
            "description_tooltip": null,
            "layout": "IPY_MODEL_41392b884a104f97892ab9c4c47d96a5",
            "max": 2422095,
            "min": 0,
            "orientation": "horizontal",
            "style": "IPY_MODEL_b13f3df5aa3c425da8bd13af09c58b38",
            "value": 2422095
          }
        },
        "bfb36277387f49bd854e8f25f7220942": {
          "model_module": "@jupyter-widgets/controls",
          "model_name": "HTMLModel",
          "model_module_version": "1.5.0",
          "state": {
            "_dom_classes": [],
            "_model_module": "@jupyter-widgets/controls",
            "_model_module_version": "1.5.0",
            "_model_name": "HTMLModel",
            "_view_count": null,
            "_view_module": "@jupyter-widgets/controls",
            "_view_module_version": "1.5.0",
            "_view_name": "HTMLView",
            "description": "",
            "description_tooltip": null,
            "layout": "IPY_MODEL_b360be4efdd94dc09408a107ed5bb745",
            "placeholder": "​",
            "style": "IPY_MODEL_d13785f3b9754fca9a869bf4563323fb",
            "value": " 2.42M/2.42M [00:00&lt;00:00, 22.7MB/s]"
          }
        },
        "c2bafc6d9ee84ffd93e070ef5c59966e": {
          "model_module": "@jupyter-widgets/base",
          "model_name": "LayoutModel",
          "model_module_version": "1.2.0",
          "state": {
            "_model_module": "@jupyter-widgets/base",
            "_model_module_version": "1.2.0",
            "_model_name": "LayoutModel",
            "_view_count": null,
            "_view_module": "@jupyter-widgets/base",
            "_view_module_version": "1.2.0",
            "_view_name": "LayoutView",
            "align_content": null,
            "align_items": null,
            "align_self": null,
            "border": null,
            "bottom": null,
            "display": null,
            "flex": null,
            "flex_flow": null,
            "grid_area": null,
            "grid_auto_columns": null,
            "grid_auto_flow": null,
            "grid_auto_rows": null,
            "grid_column": null,
            "grid_gap": null,
            "grid_row": null,
            "grid_template_areas": null,
            "grid_template_columns": null,
            "grid_template_rows": null,
            "height": null,
            "justify_content": null,
            "justify_items": null,
            "left": null,
            "margin": null,
            "max_height": null,
            "max_width": null,
            "min_height": null,
            "min_width": null,
            "object_fit": null,
            "object_position": null,
            "order": null,
            "overflow": null,
            "overflow_x": null,
            "overflow_y": null,
            "padding": null,
            "right": null,
            "top": null,
            "visibility": null,
            "width": null
          }
        },
        "f3d8acaadf574ddc86a37a927941bc65": {
          "model_module": "@jupyter-widgets/base",
          "model_name": "LayoutModel",
          "model_module_version": "1.2.0",
          "state": {
            "_model_module": "@jupyter-widgets/base",
            "_model_module_version": "1.2.0",
            "_model_name": "LayoutModel",
            "_view_count": null,
            "_view_module": "@jupyter-widgets/base",
            "_view_module_version": "1.2.0",
            "_view_name": "LayoutView",
            "align_content": null,
            "align_items": null,
            "align_self": null,
            "border": null,
            "bottom": null,
            "display": null,
            "flex": null,
            "flex_flow": null,
            "grid_area": null,
            "grid_auto_columns": null,
            "grid_auto_flow": null,
            "grid_auto_rows": null,
            "grid_column": null,
            "grid_gap": null,
            "grid_row": null,
            "grid_template_areas": null,
            "grid_template_columns": null,
            "grid_template_rows": null,
            "height": null,
            "justify_content": null,
            "justify_items": null,
            "left": null,
            "margin": null,
            "max_height": null,
            "max_width": null,
            "min_height": null,
            "min_width": null,
            "object_fit": null,
            "object_position": null,
            "order": null,
            "overflow": null,
            "overflow_x": null,
            "overflow_y": null,
            "padding": null,
            "right": null,
            "top": null,
            "visibility": null,
            "width": null
          }
        },
        "bb00a22497714d79a4e0c8e92837214f": {
          "model_module": "@jupyter-widgets/controls",
          "model_name": "DescriptionStyleModel",
          "model_module_version": "1.5.0",
          "state": {
            "_model_module": "@jupyter-widgets/controls",
            "_model_module_version": "1.5.0",
            "_model_name": "DescriptionStyleModel",
            "_view_count": null,
            "_view_module": "@jupyter-widgets/base",
            "_view_module_version": "1.2.0",
            "_view_name": "StyleView",
            "description_width": ""
          }
        },
        "41392b884a104f97892ab9c4c47d96a5": {
          "model_module": "@jupyter-widgets/base",
          "model_name": "LayoutModel",
          "model_module_version": "1.2.0",
          "state": {
            "_model_module": "@jupyter-widgets/base",
            "_model_module_version": "1.2.0",
            "_model_name": "LayoutModel",
            "_view_count": null,
            "_view_module": "@jupyter-widgets/base",
            "_view_module_version": "1.2.0",
            "_view_name": "LayoutView",
            "align_content": null,
            "align_items": null,
            "align_self": null,
            "border": null,
            "bottom": null,
            "display": null,
            "flex": null,
            "flex_flow": null,
            "grid_area": null,
            "grid_auto_columns": null,
            "grid_auto_flow": null,
            "grid_auto_rows": null,
            "grid_column": null,
            "grid_gap": null,
            "grid_row": null,
            "grid_template_areas": null,
            "grid_template_columns": null,
            "grid_template_rows": null,
            "height": null,
            "justify_content": null,
            "justify_items": null,
            "left": null,
            "margin": null,
            "max_height": null,
            "max_width": null,
            "min_height": null,
            "min_width": null,
            "object_fit": null,
            "object_position": null,
            "order": null,
            "overflow": null,
            "overflow_x": null,
            "overflow_y": null,
            "padding": null,
            "right": null,
            "top": null,
            "visibility": null,
            "width": null
          }
        },
        "b13f3df5aa3c425da8bd13af09c58b38": {
          "model_module": "@jupyter-widgets/controls",
          "model_name": "ProgressStyleModel",
          "model_module_version": "1.5.0",
          "state": {
            "_model_module": "@jupyter-widgets/controls",
            "_model_module_version": "1.5.0",
            "_model_name": "ProgressStyleModel",
            "_view_count": null,
            "_view_module": "@jupyter-widgets/base",
            "_view_module_version": "1.2.0",
            "_view_name": "StyleView",
            "bar_color": null,
            "description_width": ""
          }
        },
        "b360be4efdd94dc09408a107ed5bb745": {
          "model_module": "@jupyter-widgets/base",
          "model_name": "LayoutModel",
          "model_module_version": "1.2.0",
          "state": {
            "_model_module": "@jupyter-widgets/base",
            "_model_module_version": "1.2.0",
            "_model_name": "LayoutModel",
            "_view_count": null,
            "_view_module": "@jupyter-widgets/base",
            "_view_module_version": "1.2.0",
            "_view_name": "LayoutView",
            "align_content": null,
            "align_items": null,
            "align_self": null,
            "border": null,
            "bottom": null,
            "display": null,
            "flex": null,
            "flex_flow": null,
            "grid_area": null,
            "grid_auto_columns": null,
            "grid_auto_flow": null,
            "grid_auto_rows": null,
            "grid_column": null,
            "grid_gap": null,
            "grid_row": null,
            "grid_template_areas": null,
            "grid_template_columns": null,
            "grid_template_rows": null,
            "height": null,
            "justify_content": null,
            "justify_items": null,
            "left": null,
            "margin": null,
            "max_height": null,
            "max_width": null,
            "min_height": null,
            "min_width": null,
            "object_fit": null,
            "object_position": null,
            "order": null,
            "overflow": null,
            "overflow_x": null,
            "overflow_y": null,
            "padding": null,
            "right": null,
            "top": null,
            "visibility": null,
            "width": null
          }
        },
        "d13785f3b9754fca9a869bf4563323fb": {
          "model_module": "@jupyter-widgets/controls",
          "model_name": "DescriptionStyleModel",
          "model_module_version": "1.5.0",
          "state": {
            "_model_module": "@jupyter-widgets/controls",
            "_model_module_version": "1.5.0",
            "_model_name": "DescriptionStyleModel",
            "_view_count": null,
            "_view_module": "@jupyter-widgets/base",
            "_view_module_version": "1.2.0",
            "_view_name": "StyleView",
            "description_width": ""
          }
        },
        "0787c890573b4b35bf68c2ea6c7c8f22": {
          "model_module": "@jupyter-widgets/controls",
          "model_name": "HBoxModel",
          "model_module_version": "1.5.0",
          "state": {
            "_dom_classes": [],
            "_model_module": "@jupyter-widgets/controls",
            "_model_module_version": "1.5.0",
            "_model_name": "HBoxModel",
            "_view_count": null,
            "_view_module": "@jupyter-widgets/controls",
            "_view_module_version": "1.5.0",
            "_view_name": "HBoxView",
            "box_style": "",
            "children": [
              "IPY_MODEL_3d23c36ca3594834a4edf2c3f22e603f",
              "IPY_MODEL_7837f11a964f44508f6fec48491ec161",
              "IPY_MODEL_835ac62ce3eb49c39642d0e25729a1fd"
            ],
            "layout": "IPY_MODEL_139a0acc78704282998bb426262895aa"
          }
        },
        "3d23c36ca3594834a4edf2c3f22e603f": {
          "model_module": "@jupyter-widgets/controls",
          "model_name": "HTMLModel",
          "model_module_version": "1.5.0",
          "state": {
            "_dom_classes": [],
            "_model_module": "@jupyter-widgets/controls",
            "_model_module_version": "1.5.0",
            "_model_name": "HTMLModel",
            "_view_count": null,
            "_view_module": "@jupyter-widgets/controls",
            "_view_module_version": "1.5.0",
            "_view_name": "HTMLView",
            "description": "",
            "description_tooltip": null,
            "layout": "IPY_MODEL_067cc02440ac4e709127dad3a7efbd45",
            "placeholder": "​",
            "style": "IPY_MODEL_1491381ac96240069e0dca27c121ee0b",
            "value": "Downloading (…)cial_tokens_map.json: 100%"
          }
        },
        "7837f11a964f44508f6fec48491ec161": {
          "model_module": "@jupyter-widgets/controls",
          "model_name": "FloatProgressModel",
          "model_module_version": "1.5.0",
          "state": {
            "_dom_classes": [],
            "_model_module": "@jupyter-widgets/controls",
            "_model_module_version": "1.5.0",
            "_model_name": "FloatProgressModel",
            "_view_count": null,
            "_view_module": "@jupyter-widgets/controls",
            "_view_module_version": "1.5.0",
            "_view_name": "ProgressView",
            "bar_style": "success",
            "description": "",
            "description_tooltip": null,
            "layout": "IPY_MODEL_3f9138e49f654faa82f1a5fefba36104",
            "max": 2201,
            "min": 0,
            "orientation": "horizontal",
            "style": "IPY_MODEL_7a393a6545f044a08d7644637190ee84",
            "value": 2201
          }
        },
        "835ac62ce3eb49c39642d0e25729a1fd": {
          "model_module": "@jupyter-widgets/controls",
          "model_name": "HTMLModel",
          "model_module_version": "1.5.0",
          "state": {
            "_dom_classes": [],
            "_model_module": "@jupyter-widgets/controls",
            "_model_module_version": "1.5.0",
            "_model_name": "HTMLModel",
            "_view_count": null,
            "_view_module": "@jupyter-widgets/controls",
            "_view_module_version": "1.5.0",
            "_view_name": "HTMLView",
            "description": "",
            "description_tooltip": null,
            "layout": "IPY_MODEL_c5eb75928377432490530a7c0d10537a",
            "placeholder": "​",
            "style": "IPY_MODEL_b46fe9c639294e0a8e8a044a0c709ae7",
            "value": " 2.20k/2.20k [00:00&lt;00:00, 196kB/s]"
          }
        },
        "139a0acc78704282998bb426262895aa": {
          "model_module": "@jupyter-widgets/base",
          "model_name": "LayoutModel",
          "model_module_version": "1.2.0",
          "state": {
            "_model_module": "@jupyter-widgets/base",
            "_model_module_version": "1.2.0",
            "_model_name": "LayoutModel",
            "_view_count": null,
            "_view_module": "@jupyter-widgets/base",
            "_view_module_version": "1.2.0",
            "_view_name": "LayoutView",
            "align_content": null,
            "align_items": null,
            "align_self": null,
            "border": null,
            "bottom": null,
            "display": null,
            "flex": null,
            "flex_flow": null,
            "grid_area": null,
            "grid_auto_columns": null,
            "grid_auto_flow": null,
            "grid_auto_rows": null,
            "grid_column": null,
            "grid_gap": null,
            "grid_row": null,
            "grid_template_areas": null,
            "grid_template_columns": null,
            "grid_template_rows": null,
            "height": null,
            "justify_content": null,
            "justify_items": null,
            "left": null,
            "margin": null,
            "max_height": null,
            "max_width": null,
            "min_height": null,
            "min_width": null,
            "object_fit": null,
            "object_position": null,
            "order": null,
            "overflow": null,
            "overflow_x": null,
            "overflow_y": null,
            "padding": null,
            "right": null,
            "top": null,
            "visibility": null,
            "width": null
          }
        },
        "067cc02440ac4e709127dad3a7efbd45": {
          "model_module": "@jupyter-widgets/base",
          "model_name": "LayoutModel",
          "model_module_version": "1.2.0",
          "state": {
            "_model_module": "@jupyter-widgets/base",
            "_model_module_version": "1.2.0",
            "_model_name": "LayoutModel",
            "_view_count": null,
            "_view_module": "@jupyter-widgets/base",
            "_view_module_version": "1.2.0",
            "_view_name": "LayoutView",
            "align_content": null,
            "align_items": null,
            "align_self": null,
            "border": null,
            "bottom": null,
            "display": null,
            "flex": null,
            "flex_flow": null,
            "grid_area": null,
            "grid_auto_columns": null,
            "grid_auto_flow": null,
            "grid_auto_rows": null,
            "grid_column": null,
            "grid_gap": null,
            "grid_row": null,
            "grid_template_areas": null,
            "grid_template_columns": null,
            "grid_template_rows": null,
            "height": null,
            "justify_content": null,
            "justify_items": null,
            "left": null,
            "margin": null,
            "max_height": null,
            "max_width": null,
            "min_height": null,
            "min_width": null,
            "object_fit": null,
            "object_position": null,
            "order": null,
            "overflow": null,
            "overflow_x": null,
            "overflow_y": null,
            "padding": null,
            "right": null,
            "top": null,
            "visibility": null,
            "width": null
          }
        },
        "1491381ac96240069e0dca27c121ee0b": {
          "model_module": "@jupyter-widgets/controls",
          "model_name": "DescriptionStyleModel",
          "model_module_version": "1.5.0",
          "state": {
            "_model_module": "@jupyter-widgets/controls",
            "_model_module_version": "1.5.0",
            "_model_name": "DescriptionStyleModel",
            "_view_count": null,
            "_view_module": "@jupyter-widgets/base",
            "_view_module_version": "1.2.0",
            "_view_name": "StyleView",
            "description_width": ""
          }
        },
        "3f9138e49f654faa82f1a5fefba36104": {
          "model_module": "@jupyter-widgets/base",
          "model_name": "LayoutModel",
          "model_module_version": "1.2.0",
          "state": {
            "_model_module": "@jupyter-widgets/base",
            "_model_module_version": "1.2.0",
            "_model_name": "LayoutModel",
            "_view_count": null,
            "_view_module": "@jupyter-widgets/base",
            "_view_module_version": "1.2.0",
            "_view_name": "LayoutView",
            "align_content": null,
            "align_items": null,
            "align_self": null,
            "border": null,
            "bottom": null,
            "display": null,
            "flex": null,
            "flex_flow": null,
            "grid_area": null,
            "grid_auto_columns": null,
            "grid_auto_flow": null,
            "grid_auto_rows": null,
            "grid_column": null,
            "grid_gap": null,
            "grid_row": null,
            "grid_template_areas": null,
            "grid_template_columns": null,
            "grid_template_rows": null,
            "height": null,
            "justify_content": null,
            "justify_items": null,
            "left": null,
            "margin": null,
            "max_height": null,
            "max_width": null,
            "min_height": null,
            "min_width": null,
            "object_fit": null,
            "object_position": null,
            "order": null,
            "overflow": null,
            "overflow_x": null,
            "overflow_y": null,
            "padding": null,
            "right": null,
            "top": null,
            "visibility": null,
            "width": null
          }
        },
        "7a393a6545f044a08d7644637190ee84": {
          "model_module": "@jupyter-widgets/controls",
          "model_name": "ProgressStyleModel",
          "model_module_version": "1.5.0",
          "state": {
            "_model_module": "@jupyter-widgets/controls",
            "_model_module_version": "1.5.0",
            "_model_name": "ProgressStyleModel",
            "_view_count": null,
            "_view_module": "@jupyter-widgets/base",
            "_view_module_version": "1.2.0",
            "_view_name": "StyleView",
            "bar_color": null,
            "description_width": ""
          }
        },
        "c5eb75928377432490530a7c0d10537a": {
          "model_module": "@jupyter-widgets/base",
          "model_name": "LayoutModel",
          "model_module_version": "1.2.0",
          "state": {
            "_model_module": "@jupyter-widgets/base",
            "_model_module_version": "1.2.0",
            "_model_name": "LayoutModel",
            "_view_count": null,
            "_view_module": "@jupyter-widgets/base",
            "_view_module_version": "1.2.0",
            "_view_name": "LayoutView",
            "align_content": null,
            "align_items": null,
            "align_self": null,
            "border": null,
            "bottom": null,
            "display": null,
            "flex": null,
            "flex_flow": null,
            "grid_area": null,
            "grid_auto_columns": null,
            "grid_auto_flow": null,
            "grid_auto_rows": null,
            "grid_column": null,
            "grid_gap": null,
            "grid_row": null,
            "grid_template_areas": null,
            "grid_template_columns": null,
            "grid_template_rows": null,
            "height": null,
            "justify_content": null,
            "justify_items": null,
            "left": null,
            "margin": null,
            "max_height": null,
            "max_width": null,
            "min_height": null,
            "min_width": null,
            "object_fit": null,
            "object_position": null,
            "order": null,
            "overflow": null,
            "overflow_x": null,
            "overflow_y": null,
            "padding": null,
            "right": null,
            "top": null,
            "visibility": null,
            "width": null
          }
        },
        "b46fe9c639294e0a8e8a044a0c709ae7": {
          "model_module": "@jupyter-widgets/controls",
          "model_name": "DescriptionStyleModel",
          "model_module_version": "1.5.0",
          "state": {
            "_model_module": "@jupyter-widgets/controls",
            "_model_module_version": "1.5.0",
            "_model_name": "DescriptionStyleModel",
            "_view_count": null,
            "_view_module": "@jupyter-widgets/base",
            "_view_module_version": "1.2.0",
            "_view_name": "StyleView",
            "description_width": ""
          }
        }
      }
    }
  },
  "nbformat": 4,
  "nbformat_minor": 0
}