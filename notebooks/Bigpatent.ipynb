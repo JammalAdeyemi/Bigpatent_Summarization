{
  "cells": [
    {
      "cell_type": "code",
      "execution_count": 31,
      "metadata": {
        "id": "btaRlV7E7LMm"
      },
      "outputs": [],
      "source": [
        "# !pip install transformers\n",
        "# !pip install keras_nlp\n",
        "# !pip install datasets\n",
        "# !pip install huggingface-hub huggingface_hub\n",
        "# !pip install nltk\n",
        "# !pip install rouge-score rouge\n",
        "# !pip install evaluate\n",
        "# nltk.download('punkt')"
      ]
    },
    {
      "cell_type": "code",
      "source": [
        "!apt install git-lfs"
      ],
      "metadata": {
        "colab": {
          "base_uri": "https://localhost:8080/"
        },
        "id": "-NTPjXwfWJvg",
        "outputId": "a77b6462-558a-4edf-c7f9-8dab99e7283f"
      },
      "execution_count": 12,
      "outputs": [
        {
          "output_type": "stream",
          "name": "stdout",
          "text": [
            "Reading package lists... Done\n",
            "Building dependency tree       \n",
            "Reading state information... Done\n",
            "git-lfs is already the newest version (2.9.2-1).\n",
            "0 upgraded, 0 newly installed, 0 to remove and 24 not upgraded.\n"
          ]
        }
      ]
    },
    {
      "cell_type": "code",
      "source": [
        "!git config --global user.email \"oabass7@gmail.com\"\n",
        "!git config --global user.name \"Jammal\""
      ],
      "metadata": {
        "id": "OV3BMMvqWHhT"
      },
      "execution_count": 13,
      "outputs": []
    },
    {
      "cell_type": "code",
      "execution_count": 2,
      "metadata": {
        "id": "NpneJoQc4WTW"
      },
      "outputs": [],
      "source": [
        "import os\n",
        "import numpy as np\n",
        "import pandas as pd\n",
        "import matplotlib.pyplot as plt\n",
        "import seaborn as sns\n",
        "\n",
        "import tensorflow as tf\n",
        "from tensorflow import keras\n",
        "from datasets import load_dataset, load_metric\n",
        "from transformers import AutoTokenizer, TFAutoModelForSeq2SeqLM, DataCollatorForSeq2Seq, AdamWeightDecay, create_optimizer \n",
        "from transformers.keras_callbacks import  KerasMetricCallback\n",
        "import evaluate\n",
        "import nltk\n",
        "from nltk.corpus import stopwords\n",
        "\n",
        "# Only log error messages\n",
        "import logging\n",
        "tf.get_logger().setLevel(logging.ERROR)\n",
        "\n",
        "os.environ[\"TOKENIZERS_PARALLELISM\"] = \"false\"\n",
        "\n",
        "import warnings\n",
        "warnings.filterwarnings('ignore')"
      ]
    },
    {
      "cell_type": "code",
      "source": [
        "import transformers\n",
        "\n",
        "print(transformers.__version__)"
      ],
      "metadata": {
        "colab": {
          "base_uri": "https://localhost:8080/"
        },
        "id": "bOYDUBNMWesm",
        "outputId": "9ca562ee-e709-4492-cade-0ea4597d2ffc"
      },
      "execution_count": 14,
      "outputs": [
        {
          "output_type": "stream",
          "name": "stdout",
          "text": [
            "4.29.2\n"
          ]
        }
      ]
    },
    {
      "cell_type": "markdown",
      "metadata": {
        "id": "NXHFdNxY7hl3"
      },
      "source": [
        "## Loading the dataset\n",
        "\n",
        "### About Dataset\n",
        "[BIGPATENT](https://huggingface.co/datasets/big_patent), consisting of 1.3 million records of U.S. patent documents along with human written abstractive summaries. Each US patent application is filed under a Cooperative Patent Classification (CPC) code. There are nine such classification categories:\n",
        "\n",
        "* a: Human Necessities\n",
        "* b: Performing Operations; Transporting\n",
        "* c: Chemistry; Metallurgy\n",
        "* **d: Textiles; Paper**\n",
        "* e: Fixed Constructions\n",
        "* f: Mechanical Engineering; Lightning; Heating; Weapons; Blasting\n",
        "* g: Physics\n",
        "* h: Electricity\n",
        "* y: General tagging of new or cross-sectional technology\n",
        "\n",
        "I will be working with 1 out of the 9 classification categories due to low compute unit."
      ]
    },
    {
      "cell_type": "code",
      "execution_count": 3,
      "metadata": {
        "colab": {
          "base_uri": "https://localhost:8080/",
          "height": 87,
          "referenced_widgets": [
            "a8fdd8236ebf49598f0885ce975382b3",
            "53139851bc4e48779065816a57bbf147",
            "bdedf174905e4249bde714a7895f3d00",
            "b6c504b43b6f4f9d8b446b23f7d402e8",
            "aa9c42d287de4edaa325ba97ef6a9b71",
            "18a5ed1d42024fb7bd04728d404c23fd",
            "de690b76079546309921d007b17ab527",
            "089f5a0b23e447ada38d8bce6b7afdf0",
            "cede56196716418facade5bf055b9412",
            "191b9d06980149da8e2a115f1274a9bd",
            "e12b7b691be24c15a86c7ec67c5b7ffd"
          ]
        },
        "id": "rE4K7Nsm5dQK",
        "outputId": "d230995b-8ff6-4579-e150-91b4649770c2"
      },
      "outputs": [
        {
          "output_type": "stream",
          "name": "stderr",
          "text": [
            "WARNING:datasets.builder:Found cached dataset big_patent (/root/.cache/huggingface/datasets/big_patent/d/2.1.2/bc8ec8bdf469c0da5fef04becd32bb3b0b34df0b0baa088ae1237628dd7a9caa)\n"
          ]
        },
        {
          "output_type": "display_data",
          "data": {
            "text/plain": [
              "  0%|          | 0/3 [00:00<?, ?it/s]"
            ],
            "application/vnd.jupyter.widget-view+json": {
              "version_major": 2,
              "version_minor": 0,
              "model_id": "a8fdd8236ebf49598f0885ce975382b3"
            }
          },
          "metadata": {}
        }
      ],
      "source": [
        "df = load_dataset(\"big_patent\", \"d\")"
      ]
    },
    {
      "cell_type": "code",
      "execution_count": 4,
      "metadata": {
        "colab": {
          "base_uri": "https://localhost:8080/"
        },
        "id": "WhZIR1Sm5dNY",
        "outputId": "d6679ba6-0cd2-4881-bf6e-3ff34a3f6fcc"
      },
      "outputs": [
        {
          "output_type": "stream",
          "name": "stdout",
          "text": [
            "DatasetDict({\n",
            "    train: Dataset({\n",
            "        features: ['description', 'abstract'],\n",
            "        num_rows: 10164\n",
            "    })\n",
            "    validation: Dataset({\n",
            "        features: ['description', 'abstract'],\n",
            "        num_rows: 565\n",
            "    })\n",
            "    test: Dataset({\n",
            "        features: ['description', 'abstract'],\n",
            "        num_rows: 565\n",
            "    })\n",
            "})\n"
          ]
        }
      ],
      "source": [
        "print(df)"
      ]
    },
    {
      "cell_type": "code",
      "execution_count": 5,
      "metadata": {
        "id": "SQeX8UUaMVwa",
        "colab": {
          "base_uri": "https://localhost:8080/"
        },
        "outputId": "f6c367e4-3521-46fd-8e34-0521ea353341"
      },
      "outputs": [
        {
          "output_type": "execute_result",
          "data": {
            "text/plain": [
              "{'description': 'BACKGROUND OF THE INVENTION \\n     This invention relates to a method and apparatus for forming fiber mixtures from a plurality of fiber types by sequentially taking, from different fiber lots such as fiber bales, partial quantities which are small with respect to the entire quantity of the mixture. \\n     German Laid-Open Applications (Offenlegungsschriften) Nos. 1,685,596 (to which corresponds U.S. Pat. No. 3,577,599) and 2,063,415 disclose a method according to which a plurality of fiber bales containing the same kind of fiber are positioned next to a plurality of fiber bales of another type of fiber. A carriage is moved past the fiber bales and the bale opener mounted thereon takes from each fiber type a partial quantity so that the composition of the partial quantities obtained during each pass has the desired predetermined mixture ratio. At the same time, care is taken that, in case the required individual partial quantity of one fiber type is not reached during the opening operation of one pass, the carriage does not move on to the subsequent fiber type, but is ordered to return for making up the deficiency. Although such a method is adapted for obtaining a mixture of predetermined proportions of fiber types wherein the individual proportions are in each instance taken from a plurality of fiber bales, several disadvantages are involved with this method. The individual fiber bales even of the same fiber type have fluctuating dimensions, compressions and weights. According to the method, such an amount of fiber material is removed each time from a plurality of fiber bales of one fiber type until a quantity corresponding to the intended proportion is reached. Thus, during each pass of the carriage (on which the opener is mounted), from a plurality of fiber bales of one fiber type a predetermined quantity has to be removed or has to be complemented, while the quantities remaining in the fiber bales are not taken into account at all. As a result, it is unavoidable that in the individual fiber bales eventually residual fibers remain which disturb to a substantial extent the rhythm of operation, since they have to be processed separately, thus requiring undesirable additional labor and expense. It is a further disadvantage that a partial quantity is always taken from a plurality of fiber bales, so that the mixture can be obtained only in steps and therefore it cannot be optimally homogeneous. \\n     SUMMARY OF THE INVENTION \\n     It is an object of the invention to provide an improved method of the above-outlined type from which the discussed disadvantages are eliminated, thus ensuring that the opening of all fiber bales is effected without fiber residuals and further, that an optimally homogeneous mixture is obtained. \\n     This object and others to become apparent as the specification progresses, are accomplished by the invention, according to which, briefly stated, at each stored fiber lot, prior to the first pass or prior to each pass of the bale opener, the entire momentary quantity of the stored fiber lot (fiber bale) is measured and, from the measurements, a certain partial quantity is determined which corresponds to a predetermined proportion of the momentary entire quantity and further, the determined partial quantity is continuously removed only from the measured fiber lot. \\n     Thus, in contradistinction to the known process, only a single fiber bale is provided for each fiber type; further, the measuring is effected directly at the location of fiber opening. Thus, according to the invention, before each opening pass, the fiber bales are individually measured, the partial quantity is calculated and then, from each fiber bale only the respective calculated fiber quantity is removed during the pass. These partial quantities are taken off the fiber bales in sequence in a predetermined number of bale opening passes. Thus, as from each fiber bale of one series the calculated partial quantity is sequentially removed in one pass, the operation is repeated in the same manner during the successive pass. It is essential that the partial quantity corresponds to a predetermined proportion of the momentary entire quantity of the fiber bale. In this manner all fiber bales are opened without fiber quantities remaining. During the last pass in each instance the last partial fiber quantity remaining in each fiber bale is processed. It is an advantage of the method according to the invention, that for each pass the partial quantity is determined anew for each fiber bale. If, in practice, instead of the determined partial quantity, a larger or smaller partial quantity is removed, such a deviation can be corrected during the next pass because, in any event, a new calculation is effected. It is a further advantage that during each pass, from each fiber bale only a single partial quantity is removed. In this manner, during each pass a finely dosed mixture of the same composition can be formed from as many components as there are fiber bales to be processed. \\n     According to a further feature of the method according to the invention, at each fiber storage site, prior to fiber removal, the initial total fiber quantity is measured and then, from the measurements a predetermined partial quantity is calculated which corresponds to a predetermined proportion of the initial total quantity and further, the determined partial quantity is removed continuously only from the measured stored fiber lot. \\n     According to the invention, thus only the initial total quantity of each fiber bale is measured and a constant partial quantity is calculated once. These partial quantities are removed from the fiber bales in succession in a fixed number of passes. This method is particularly adapted for making mixtures of throughout constant quantity proportions. \\n     It is a further disadvantage of the known processes that no time period is set for the removal of the individual quantity proportions. The bale opener mounted on the carriage removes fiber material from each fiber lot until the intended quantity is reached. While during one particular pass, the desired quantity may be reached immediately, it can happen that during another pass, the carriage has to be returned to remove additional material. This results in delays which means that although equal quantities are fed to an after-connected charging device for a further processing apparatus, for example, a reserve hopper of a tuft-feeding device for a carding machine, the periods of delivery are not uniform. Risks are particularly high that, because of the delays, the bale opener delivers less fiber tufts than what the after-connected machines can process, resulting in a wasteful idle run of such machines. For avoiding this disadvantage, according to a preferred embodiment of the method according to the invention, the partial quantity from each stored fiber lot is removed not later than by the end of a predetermined period. In this manner a determined time schedule can be maintained in the opening of the fiber bales. A supply of the after-connected processing machines with fiber tufts can be ensured by coordinating the output rate of the bale opener with that of the after-connected processing machines, thus preventing the latter from running idle. In this manner the opening of the fiber bales can be effected within a predetermined period. \\n     Preferably, the fiber removal from the stored fiber lot can be accelerated to ensure that the partial quantities are removed not later than the lapse of the predetermined period. \\n     The invention further relates to an apparatus for performing the above-outlined method according to the invention. The apparatus includes a bale opener for removing fibers from the various stored fiber lots, as well as a quantity measuring device associated with the opener and a control device which controls the mode of operation of the opener as a function of the signals transmitted by the quantity measuring device. \\n     The bale opener may be, for example, a plucker, a stripper roll, a spiked apron or a picker. As a quantity measuring device there may be used a frequency counter or a weighing device known by themselves. The quantity measuring device is preferably a height-measuring arrangement which effects a simple and accurate determination of the partial fiber quantities to be removed from the bales. The quantities removed or to be removed can be determined in a simple manner as a function of the height of the fiber bale. The height-measuring device may comprise, for example, a light barrier or an electromechanically operating sliding potentiometer. \\n     Expediently, the quantity measuring device is movable with the bale opener along the stored fiber lots (fiber bales) so that measurements can be taken directly at the location of fiber removal. The opening device may operate in a discontinuous manner by moving vertically up and down or may be displaceable in any other known manner. \\n     Preferably, the control arrangement has a control apparatus and a computer; the control arrangement determines the precise partial quantities to be removed and also, controls the fiber removing operation. It is expedient to provide the control device with a timing relay which predetermines a maximum period to ensure that the partial quantity from each stored fiber lot is removed not later than at the end of the predetermined period. \\n     The control apparatus has, among others, the function of controlling the displacement of the transporting device (carriage) on which the bale opener is mounted. For this purpose, an output of the control apparatus is connected with the drive of the carriage. For positioning and starting the carriage, preferably switch contacts are provided which too, are connected with the control apparatus. Expediently, for reversing the direction of operation of the bale opener, there are provided two limit switches which are connected with an input of the control apparatus. These limit switches have the advantage that the control apparatus receives a signal immediately as a pass is completed; in this manner the number of passes remaining is reduced by one. \\n     The control apparatus further has the additional function of controlling the beginning and the end of the bale opening operation regarding the removal of the partial fiber quantity. For this purpose, the control apparatus is connected with the drive of the bale opener. The control apparatus maintains the drive motor of the opener energized until the partial quantity is removed from the bale. As a starting signal one may use, for example, the signal emitted by the switch contacts of the carriage. The signal for stopping the motor is derived by the control apparatus from a signal which, in turn, is generated by the quantity measuring device and the computer and is transmitted when the predetermined partial quantity has been removed. This signal can, at the same time, be used as the signal for commanding the carriage to continue its travel. \\n     Preferably, the drive of the bale opener is a pole-reversible electromotor which accelerates the operation of the bale opener if, for example, in case of particularly hard (compressed) bales, the partial quantity is not removed within the predetermined period. \\n    \\n    \\n     BRIEF DESCRIPTION OF THE DRAWINGS \\n     FIG. 1 is a schematic side elevational view of a preferred embodiment of the invention. \\n     FIG. 2 is a schematic perspective view of the structure shown in FIG. 1. \\n     FIG. 3 is a schematic front elevational view of another preferred embodiment of the invention. \\n     FIG. 4 is a sectional side elevational view of a detail of the structure illustrated in FIG. 3. \\n     FIG. 5 is a block diagram of a computer used in the apparatus according to the invention. \\n     FIG. 6 is a circuit diagram of a component shown in FIG. 1. \\n    \\n    \\n     DESCRIPTION OF THE PREFERRED EMBODIMENTS \\n     For performing the method according to the invention, there are provided a fiber removing apparatus, a quantity measuring apparatus and a control apparatus which controls the mode of operation of the fiber removing apparatus. The fiber removing apparatus as well as the quantity measuring apparatus may be of any selected type. \\n     Turning now to FIGS. 1 and 2, in a preferred embodiment of the apparatus according to the invention, a series of textile fiber bales 1a, 1b and 1c are arranged side-by-side on a bale support, under which travels a carriage 3 on which there are mounted two spiked fiber bale opener aprons 4, 5, constituting a fiber removing apparatus 2. On the carriage 3 there is laterally mounted a height-measuring device 6 which constitutes a fiber quantity measuring apparatus and which is, in essence, a light barrier formed of a light transmitter 7 and a light receiver 8. The upper ends of the light barrier project upwardly beyond the maximum expected height of the fiber bales. The receiver 8 of the height-measuring device 6 is connected, by the intermediary of a computer 9, with an input of a control device 10 coupled to a timer 11. An output of the control device 10 is connected with a drive motor 12 of the carriage 3. At one end, the carriage 3 has a switching element 13 which consecutively engages contacts 14a, 14b and 14c, laterally mounted on the machine frame at bales 1a, 1b and 1c, respectively. The switching element 13 is coupled with an input of the control device 10 so that as the bale opener 2 reaches its starting position, a signal is applied to the control device 10. The signal starts the measuring process, the displacement of the carriage 3 as well as the rotation of the breaker aprons 4 and 5. The switching contacts 14a, 14b and 14c may also be utilized for reversing the drive of the carriage 3 in case the determined partial quantity is removed from the bales continuously by several back-and-forth passes. In such a case, the switching element 13 transmits a reversing signal to the control device 10 as the switching element 13 engages one of the switching contacts 14a or 14b, respectively. At each of the two ends of the bale support (only one end shown in FIGS. 1 and 2) there are provided limit switches 15a, 15b, respectively, which are connected with inputs of the computer 9 and which are actuated by the carriage 3. The control device 10 has an output which is connected with a pole-reversible drive motor 31 of the breaker aprons 4, 5. \\n     Turning now to the front elevational FIG. 3, in another preferred embodiment shown therein, the apparatus according to the invention has a fiber removing apparatus which opens the fiber bales from above and which has an electromechanical height-measuring device. The fiber bales (of which only bale 1a is visible in FIG. 3) are positioned on a platform 30 supported on the floor. Adjacent the platform 30 there are provided rails 16 on which a vertical stand 18 may travel by means of rollers 17, propelled by a motor 27. A horizontal support arm 19 is height-adjustably mounted on the stand 18 by means of a securing member 20. The support arm 19 carries a bale opener 21 adapted to engage each fiber bale on the top. A motor 22 drives, in a manner not shown, an opening roll 23 as well as delivery rolls 24 of the bale opener, as seen in more detail in FIG. 4. Parallel to the stand 18 there is arranged a vertical measuring device 25 which, in essence, is formed of a sliding potentiometer. The vertically displaceable securing member 20 is coupled by means of a contact member 26 with the measuring element 25, so that a displacement of the securing element 20 is a measure for the change of height of the bale opener 21 and thus is a measure of the height of the removed fiber quantities. The fiber removing operation performed by the bale opener 21 may be time-controlled and quantity-controlled. Consequently, after the lapse of a predetermined period or upon reaching a predetermined tuft quantity, the bale opener is lifted off the fiber bale which has just undergone opening and is moved to an adjacent fiber bale and is then lowered to resume the opening operation. In this manner a programmed fiber removal can be effected, that is, a predetermined quantity of fine fiber tufts can be obtained in a predetermined mixture ratio in a predetermined time period for further processing, for example, in a cleaner. The control described in connection with the embodiment shown in FIGS. 1 and 2 may find application in the arrangement of FIG. 3 as well. After removing the predetermined partial quantity, the support arrangement 18, 19 and 20 with the bale opener 21 is, as commanded by the control device 10, displaced to the adjacent fiber bale. At the foot of the stand 18, there is mounted a switch 28 which is oriented towards the fiber bales and which is connected with an input of the computer 9. The switch 28 engages electric switch contacts 29 (only one shown) associated with each fiber bale and mounted laterally on the platform 30. The reversal of the operation of the fiber removing apparatus 21 at the end of the fiber bale series can be effected by the actuation of a limit switch as described in connection with the embodiment shown in FIG. 1. As an alternative, it is feasible to initially set the number of the fiber bales at the control device 10, so that both the reversal of the fiber removing apparatus 21 and the reduction of the number of passes by one are performed automatically. \\n     Turning now to FIG. 5, there is illustrated the relationship between principal components of, for example, a commercially available microcomputer 9. The computer has inputs, for example, to receive signals from the switching element 13 and the height measuring device 6 as well as an output, for example, to apply signals to the control device 10. The microcomputer 9 conventionally includes a unit for the system program, a central unit (CPU) and data memories, all interconnected in a known manner. \\n     The essential function of the microcomputer 9 resides in continuously counting the electrical pulses emitted by the light barrier 6, in determining the actual height of the fiber bale from a comparison with the original height and in emitting appropriate instructions to the control device 10 for the motors 12 and 31. \\n     Turning now to FIG. 6, there is schematically shown the logic circuit for the inputs and outputs of the control device 10 which may be a commercially available programmable control. The control circuit includes a NOR gate 34, the two inputs of which receive signals from the respective limit switches 15a and 15b. The output of the NOR gate 34 is connected to an input of AND gates 32 and 33, whose other input, in turn, receives signals from the computer 9. The output of the AND gate 32 is connected to the motor 31 whereas the output of the AND gate 33 is connected to the motor 12. \\n     A fixed program is fed into the control device 10 which, based on this program and upon the actual instructions from the computer 9, controls the motors 12 and 31. \\n     The method according to the invention will be described in three examples which follow. \\n     EXAMPLE 1 \\n     It is assumed that twenty fiber bales of significantly different initial heights are to be opened by the arrangement illustrated in FIGS. 1 and 2. It is desired that each fiber bale should be fully opened in the course of 100 passes. For the fiber removal during the first pass, the fiber removing apparatus 2 moves, with the height-measuring device 6, under the first fiber bale 1a. First, however, the total height of the fiber bale 1a is measured. The light transmitter 7 and the receiver 8 of the light barrier are 200 cm tall. The light source of the transmitter 7 radiates light over the entire height of 200 cm; of this light, one part impinges on the fiber bale 1a and another part, for example 10 cm, reaches the photocells of the receiver 8. As a response, the receiver 8 applies electric signals to the computer 9 which determines that the total height of the fiber bale 1a is 190 cm. Since the fiber removal is to be performed in the course of 100 passes, for the first partial quantity removal, a height of 1.9 cm is determined. After 1.9 cm has been removed from the total height of 190 cm in the first pass, the fiber removing apparatus moves on to the next fiber bale 1b where, in the same manner, a predetermined partial quantity is set and subsequently removed. Thus, the fiber removing apparatus 2 moves onto the adjoining fiber bale only when the entire determined partial quantity has been removed from the previous bale. At the end of the bale series, after the determined partial quantity is removed from each fiber bale, the number of passes still to be performed is reduced by one to ninety-nine. \\n     The Table at the end of the Examples indicates for each fiber bale the individual total height before fiber removal, the fiber quantity to be removed and the individual total height after removal. \\n     EXAMPLE 2 \\n     This example, which is discussed in conjunction with the apparatus illustrated in FIGS. 3 and 4, generally corresponds to Example 1; the partial quantity, however, is removed from each bale not later than at the end of a predetermined period. For the removal of a partial quantity from the fiber bale 1a, the control device 10 is set by the timer 11 for a removal period of 0.5 minutes in addition to the total height of 1.9 cm to be removed. The fiber removing apparatus 21 removes fiber from the first fiber bale 1a for a certain period, for example 0.25 min. Thereafter, the actual height is determined and, by means of the computer 9, there is performed a comparison between the desired quantity to be removed and the quantity actually removed. If after 1/2 of the predetermined period, that is, after 0.25 min., the first half of the partial quantity to be removed, that is, 0.95 cm has been reached, the second half is removed with the same speed as the first half. If, however, after the first half of the predetermined period, one half of the material to be removed has not yet been reached, that is, less than 0.95 cm was removed, the control device emits an electric signal to the drive motor 22 to accelerate its rotation so that the rolls 23 and 24 will effect a faster removal of fiber from the fiber bale 1a. \\n     EXAMPLE 3 \\n     It is feasible to set, for the different fiber bales 1a, 1b, etc., different fiber removal periods for the partial quantity, for example, in each instance a period between 0.5 min. and 2 min. This means, for example, that the partial quantity must be removed from the fiber bale 1a not later than in 0.5 min., from the fiber bale 1b not later than in 1 min. and from the fiber bale 1c not later than in 0.75 min. \\n     \\n                                           TABLE__________________________________________________________________________Fiber Bale No. 1             Fiber Bale No. 2 Total height   Total height                        Total height   Total height prior to         Partial                after removal                        prior to                                Partial                                       after removal removal of         quantity to be                of partial                        removal of                                quantity to be                                       of partial partial quantity,         removed,                quantity,                        partial quantity,                                removed,                                       quantity, in cm   in cm  in cm   in cm   in cm  in cm__________________________________________________________________________1st pass 190          ##STR1##                188.1   200                                 ##STR2##                                       1982nd pass 188.1          ##STR3##                186.2   198                                 ##STR4##                                       1963rd pass 186.2          ##STR5##                184.3   196                                 ##STR6##                                       1944th to99th pass100th pass           zero                   zero__________________________________________________________________________                   Fiber Bales                  No. 3 to 19                        Fiber Bale No. 20__________________________________________________________________________                        Total height   Total height                        prior to                                Partial                                       after removal                        removal of                                quantity to be                                       of partial                        partial quantity,                                removed,                                       quantity,                        in cm   in cm  in cm__________________________________________________________________________            1st pass    170                                 ##STR7##                                       168.3            2nd pass    168.3                                 ##STR8##                                       166.6            3rd pass    166.6                                 ##STR9##                                       164.9            4th to            99th pass            100th pass                 zero__________________________________________________________________________ \\n    \\n     It is to be understood that the above description of the present invention is susceptible to various modifications, changes and adaptations, and the same are intended to be comprehended within the meaning and range of equivalents of the appended claims.',\n",
              " 'abstract': 'A method of forming fiber mixtures from different kinds of fiber includes the step of removing the fiber in a plurality of passes from a plurality of stored fiber lots containing the different kinds of fiber. During each pass, fiber is removed from consecutive stored fiber lots in partial quantities that are small relative to the entire fiber quantities in the stored fiber lots. According to the method, prior to fiber removal in the first pass, the entire fiber quantity in each stored fiber lot is separately determined and from such entire fiber quantity there is determined, for each stored fiber lot, a partial quantity to be removed from each stored fiber lot during the first pass. Each partial quantity represents a proportion of the entire fiber quantity of the respective stored fiber lot. Thereafter, at least during the first pass, the determined partial quantity is removed from the respective stored fiber lot.'}"
            ]
          },
          "metadata": {},
          "execution_count": 5
        }
      ],
      "source": [
        "df[\"train\"][0]"
      ]
    },
    {
      "cell_type": "markdown",
      "metadata": {
        "id": "aHJtBQDDDEIl"
      },
      "source": [
        "### Define Certain Variables"
      ]
    },
    {
      "cell_type": "code",
      "execution_count": 6,
      "metadata": {
        "id": "V9GuM6cZDHld"
      },
      "outputs": [],
      "source": [
        "# Maximum length of the input to the model\n",
        "MAX_INPUT_LENGTH = 1024  \n",
        "\n",
        "# Minimum length of the output by the model\n",
        "MIN_TARGET_LENGTH = 5  \n",
        "# Maximum length of the output by the model\n",
        "MAX_TARGET_LENGTH = 512  \n",
        "\n",
        "# Batch-size for training our model\n",
        "BATCH_SIZE = 16"
      ]
    },
    {
      "cell_type": "markdown",
      "metadata": {
        "id": "aXN-Un8a1fZO"
      },
      "source": [
        "## T5 Model"
      ]
    },
    {
      "cell_type": "markdown",
      "metadata": {
        "id": "h2G_N9QzX_N6"
      },
      "source": [
        "#### Data preprocessing"
      ]
    },
    {
      "cell_type": "code",
      "execution_count": 7,
      "metadata": {
        "id": "-YqtfdS51fZO"
      },
      "outputs": [],
      "source": [
        "MODEL_CHECKPOINT = \"t5-small\"\n",
        "\n",
        "tokenizer = AutoTokenizer.from_pretrained(MODEL_CHECKPOINT)\n",
        "\n",
        "if MODEL_CHECKPOINT in [\"t5-small\", \"t5-base\", \"t5-large\", \"t5-3b\", \"t5-11b\"]:\n",
        "    prefix = \"summarize: \"\n",
        "else:\n",
        "    prefix = \"\""
      ]
    },
    {
      "cell_type": "code",
      "execution_count": 8,
      "metadata": {
        "id": "jRkCUHQ91fZO"
      },
      "outputs": [],
      "source": [
        "def preprocess_function(examples):\n",
        "    inputs = [prefix + inp for inp in examples[\"description\"]]\n",
        "    model_inputs = tokenizer(inputs, max_length=MAX_INPUT_LENGTH, truncation=True)\n",
        "    targets = examples[\"abstract\"]\n",
        "\n",
        "    # Setup the tokenizer for targets\n",
        "    with tokenizer.as_target_tokenizer():\n",
        "        labels = tokenizer(targets, max_length=MAX_TARGET_LENGTH, truncation=True)\n",
        "\n",
        "    model_inputs[\"labels\"] = labels[\"input_ids\"]\n",
        "    return model_inputs"
      ]
    },
    {
      "cell_type": "code",
      "execution_count": 9,
      "metadata": {
        "colab": {
          "base_uri": "https://localhost:8080/",
          "height": 17,
          "referenced_widgets": [
            "e4fd0b544b4b448494932550d7dbe644",
            "a3e15de4a3ab44c5872bea07f40ad73f",
            "dfbc53f1767948468110f7b0e29d6af2",
            "afec77f2c8ac482ab1a1a56b4f4fa306",
            "2874ca9c52e94a119d68246d0a5e7699",
            "c0ed6b4c87b3408684cca99338236f33",
            "d281c9954f3b493cac9acd8a2437a0fb",
            "eef0b4f62fdb4f7a812edcab812b4bfe",
            "57b4f50c309f4e75b946949f80ac5980",
            "5048219ef41c41cfadc21b03dbd01235",
            "887c54f41d6a4479ac8584d561ed9938",
            "4697569519134296accdd0bf2f5083d6",
            "21942ffb97204996beffb49bc9b9042b",
            "445af4cfa35740a196bf23daed44f168",
            "6c46ea87b52440c58fb0ddc5fbd0ecc8",
            "3f464af3b8ff48c1a012885b24f8d9d7",
            "7edc5614b09e4920812b93d1b4b2f0d6",
            "56bce82561604e908953d04ec852fb89",
            "aecec9f29a3e4cae8f324e5654543b72",
            "0d53c7fd34fb4adc91d2e94d982334f2",
            "9d01a624e4f34b16b0a02286ad8843be",
            "abcd021dc5e641429728c719ff4b092e",
            "39bd915d79ac4eada22e2e63ece1bbd3",
            "761f4576b11f4a89a329f93d1f70fc9f",
            "f0a72de270c141869089495bf81fc75d",
            "7890db0de261454d96fe5d4f21fe9aab",
            "a13405efb40549288cc66828acb54b60",
            "6e496c326eb740dfa9e5fe9f7d5642cf",
            "86959b569f8d4feca7357deb813bdbce",
            "a6380cc73055497cbccfc6a4cea13dc7",
            "df34411d63de4966815d6c517b9c8ce9",
            "3fcd55ccc6664710b326db9eb850759e",
            "f2711ac249c34bddb78966cb25612174"
          ]
        },
        "id": "9ZcCBhB61fZP",
        "outputId": "90ffe3de-e5e5-4cd2-de68-3b51fe3ad7d8"
      },
      "outputs": [
        {
          "output_type": "display_data",
          "data": {
            "text/plain": [
              "Map:   0%|          | 0/10164 [00:00<?, ? examples/s]"
            ],
            "application/vnd.jupyter.widget-view+json": {
              "version_major": 2,
              "version_minor": 0,
              "model_id": "e4fd0b544b4b448494932550d7dbe644"
            }
          },
          "metadata": {}
        },
        {
          "output_type": "display_data",
          "data": {
            "text/plain": [
              "Map:   0%|          | 0/565 [00:00<?, ? examples/s]"
            ],
            "application/vnd.jupyter.widget-view+json": {
              "version_major": 2,
              "version_minor": 0,
              "model_id": "4697569519134296accdd0bf2f5083d6"
            }
          },
          "metadata": {}
        },
        {
          "output_type": "display_data",
          "data": {
            "text/plain": [
              "Map:   0%|          | 0/565 [00:00<?, ? examples/s]"
            ],
            "application/vnd.jupyter.widget-view+json": {
              "version_major": 2,
              "version_minor": 0,
              "model_id": "39bd915d79ac4eada22e2e63ece1bbd3"
            }
          },
          "metadata": {}
        }
      ],
      "source": [
        "tokenized_df = df.map(preprocess_function, batched=True)"
      ]
    },
    {
      "cell_type": "code",
      "source": [
        "tokenized_df[\"train\"]"
      ],
      "metadata": {
        "colab": {
          "base_uri": "https://localhost:8080/"
        },
        "id": "EEw3VzEuSme7",
        "outputId": "16399d4a-ad1e-4d7b-9f12-a78474532d3b"
      },
      "execution_count": 10,
      "outputs": [
        {
          "output_type": "execute_result",
          "data": {
            "text/plain": [
              "Dataset({\n",
              "    features: ['description', 'abstract', 'input_ids', 'attention_mask', 'labels'],\n",
              "    num_rows: 10164\n",
              "})"
            ]
          },
          "metadata": {},
          "execution_count": 10
        }
      ]
    },
    {
      "cell_type": "markdown",
      "metadata": {
        "id": "MGo-CQirYXEb"
      },
      "source": [
        "### Fine-tuning the Model"
      ]
    },
    {
      "cell_type": "code",
      "execution_count": 11,
      "metadata": {
        "colab": {
          "base_uri": "https://localhost:8080/"
        },
        "id": "BhRgyJD3YdM5",
        "outputId": "4d0a021e-e2e8-4b1c-e7d4-7314703d5c72"
      },
      "outputs": [
        {
          "output_type": "stream",
          "name": "stderr",
          "text": [
            "All model checkpoint layers were used when initializing TFT5ForConditionalGeneration.\n",
            "\n",
            "All the layers of TFT5ForConditionalGeneration were initialized from the model checkpoint at t5-small.\n",
            "If your task is similar to the task the model of the checkpoint was trained on, you can already use TFT5ForConditionalGeneration for predictions without further training.\n"
          ]
        }
      ],
      "source": [
        "model = TFAutoModelForSeq2SeqLM.from_pretrained(MODEL_CHECKPOINT)"
      ]
    },
    {
      "cell_type": "code",
      "source": [
        "# pushing the model to tensorflow hub\n",
        "model_name = MODEL_CHECKPOINT.split(\"/\")[-1]\n",
        "push_to_hub_model_id = f\"{model_name}-finetuned-Big-Patent\""
      ],
      "metadata": {
        "id": "kwVBdPkvWrim"
      },
      "execution_count": 15,
      "outputs": []
    },
    {
      "cell_type": "code",
      "execution_count": 16,
      "metadata": {
        "id": "5N8V99Lusmrw"
      },
      "outputs": [],
      "source": [
        "data_collator = DataCollatorForSeq2Seq(tokenizer, model=model, return_tensors=\"tf\")\n",
        "generation_data_collator = DataCollatorForSeq2Seq(tokenizer, model=model,return_tensors=\"np\",pad_to_multiple_of=128)"
      ]
    },
    {
      "cell_type": "code",
      "execution_count": 17,
      "metadata": {
        "colab": {
          "base_uri": "https://localhost:8080/"
        },
        "id": "lhpVUbNKsmnR",
        "outputId": "ee170816-2682-4be0-ff03-3a73a3e65fe0"
      },
      "outputs": [
        {
          "output_type": "stream",
          "name": "stderr",
          "text": [
            "You're using a T5TokenizerFast tokenizer. Please note that with a fast tokenizer, using the `__call__` method is faster than using a method to encode the text followed by a call to the `pad` method to get a padded encoding.\n"
          ]
        }
      ],
      "source": [
        "tf_train_set = model.prepare_tf_dataset(\n",
        "    tokenized_df[\"train\"],\n",
        "    batch_size=BATCH_SIZE,\n",
        "    shuffle=True,\n",
        "    collate_fn=data_collator,\n",
        ")\n",
        "\n",
        "tf_validation_set = model.prepare_tf_dataset(\n",
        "    tokenized_df[\"validation\"],\n",
        "    batch_size=BATCH_SIZE,\n",
        "    shuffle=False,\n",
        "    collate_fn=data_collator,\n",
        ")\n",
        "\n",
        "tf_generation_set = model.prepare_tf_dataset(\n",
        "    tokenized_df[\"validation\"],\n",
        "    batch_size=BATCH_SIZE,\n",
        "    shuffle=False,\n",
        "    collate_fn=generation_data_collator\n",
        ")"
      ]
    },
    {
      "cell_type": "markdown",
      "metadata": {
        "id": "4c3vFYe_YqLD"
      },
      "source": [
        "### Compiling the Model"
      ]
    },
    {
      "cell_type": "code",
      "execution_count": 18,
      "metadata": {
        "colab": {
          "base_uri": "https://localhost:8080/"
        },
        "id": "l2gQS5Jnsmk5",
        "outputId": "1910c81f-7e74-40cb-f5b5-27edd19a8675"
      },
      "outputs": [
        {
          "output_type": "stream",
          "name": "stderr",
          "text": [
            "No loss specified in compile() - the model's internal loss computation will be used as the loss. Don't panic - this is a common way to train TensorFlow models in Transformers! To disable this behaviour please pass a loss argument, or explicitly pass `loss=None` if you do not want your model to compute a loss.\n"
          ]
        }
      ],
      "source": [
        "optimizer = AdamWeightDecay(learning_rate=2e-5, weight_decay_rate=0.01) \n",
        "model.compile(optimizer=optimizer)"
      ]
    },
    {
      "cell_type": "markdown",
      "metadata": {
        "id": "YOdiRJmhv9WR"
      },
      "source": [
        "### Evaluate the Model"
      ]
    },
    {
      "cell_type": "code",
      "execution_count": 19,
      "metadata": {
        "id": "DhcgqagEsmib"
      },
      "outputs": [],
      "source": [
        "# rouge = evaluate.load(\"rouge\")\n",
        "\n",
        "# def compute_metrics(eval_pred):\n",
        "#     predictions, labels = eval_pred\n",
        "#     decoded_preds = tokenizer.batch_decode(predictions, skip_special_tokens=True)\n",
        "#     labels = np.where(labels != -100, labels, tokenizer.pad_token_id)\n",
        "#     decoded_labels = tokenizer.batch_decode(labels, skip_special_tokens=True)\n",
        "\n",
        "#     result = rouge.compute(predictions=decoded_preds, references=decoded_labels, use_stemmer=True)\n",
        "\n",
        "#     prediction_lens = [np.count_nonzero(pred != tokenizer.pad_token_id) for pred in predictions]\n",
        "#     result[\"gen_len\"] = np.mean(prediction_lens)\n",
        "\n",
        "#     return {k: round(v, 4) for k, v in result.items()}\n",
        "\n",
        "\n",
        "# # compute the ROUGE score from the predictions\n",
        "# metric_callback = KerasMetricCallback(\n",
        "#     metric_fn=compute_metrics, \n",
        "#     eval_dataset=tf_validation_set,\n",
        "#     predict_with_generate=True\n",
        "#     )\n",
        "\n",
        "# callbacks = [metric_callback]"
      ]
    },
    {
      "cell_type": "code",
      "source": [
        "metric = load_metric(\"rouge\")\n",
        "\n",
        "def metric_fn(eval_predictions):\n",
        "    predictions, labels = eval_predictions\n",
        "    decoded_predictions = tokenizer.batch_decode(predictions, skip_special_tokens=True)\n",
        "    for label in labels:\n",
        "        label[label < 0] = tokenizer.pad_token_id  # Replace masked label tokens\n",
        "    decoded_labels = tokenizer.batch_decode(labels, skip_special_tokens=True)\n",
        "    # Rouge expects a newline after each sentence\n",
        "    decoded_predictions = [\n",
        "        \"\\n\".join(nltk.sent_tokenize(pred.strip())) for pred in decoded_predictions\n",
        "    ]\n",
        "    decoded_labels = [\n",
        "        \"\\n\".join(nltk.sent_tokenize(label.strip())) for label in decoded_labels\n",
        "    ]\n",
        "    result = metric.compute(\n",
        "        predictions=decoded_predictions, references=decoded_labels, use_stemmer=True\n",
        "    )\n",
        "    # Extract a few results\n",
        "    result = {key: value.mid.fmeasure * 100 for key, value in result.items()}\n",
        "    # Add mean generated length\n",
        "    prediction_lens = [\n",
        "        np.count_nonzero(pred != tokenizer.pad_token_id) for pred in predictions\n",
        "    ]\n",
        "    result[\"gen_len\"] = np.mean(prediction_lens)\n",
        "\n",
        "    return result"
      ],
      "metadata": {
        "id": "3KXhpjzyTJn8"
      },
      "execution_count": 25,
      "outputs": []
    },
    {
      "cell_type": "code",
      "source": [
        "# from transformers.keras_callbacks import PushToHubCallback, KerasMetricCallback\n",
        "# from tensorflow.keras.callbacks import TensorBoard\n",
        "\n",
        "# tensorboard_callback = TensorBoard(log_dir=\"./summarization_model_save/logs\")\n",
        "\n",
        "# push_to_hub_callback = PushToHubCallback(\n",
        "#     output_dir=\"./summarization_model_save\",\n",
        "#     tokenizer=tokenizer,\n",
        "#     hub_model_id=push_to_hub_model_id,\n",
        "# )"
      ],
      "metadata": {
        "id": "G2-D3rcvXaUq"
      },
      "execution_count": 22,
      "outputs": []
    },
    {
      "cell_type": "markdown",
      "source": [
        "### Train the Model"
      ],
      "metadata": {
        "id": "8n-sII8yTStA"
      }
    },
    {
      "cell_type": "code",
      "execution_count": 27,
      "metadata": {
        "colab": {
          "base_uri": "https://localhost:8080/"
        },
        "id": "2vTFWg9FsmaQ",
        "outputId": "62f320ea-f676-447f-cb3b-edb03750bf4f"
      },
      "outputs": [
        {
          "output_type": "stream",
          "name": "stdout",
          "text": [
            "Epoch 1/3\n",
            "635/635 [==============================] - 178s 281ms/step - loss: 2.4465 - val_loss: 2.2844 - rouge1: 20.2461 - rouge2: 10.6800 - rougeL: 17.3235 - rougeLsum: 18.3199 - gen_len: 19.0000\n",
            "Epoch 2/3\n",
            "635/635 [==============================] - 160s 252ms/step - loss: 2.4162 - val_loss: 2.2647 - rouge1: 20.2360 - rouge2: 10.7695 - rougeL: 17.3407 - rougeLsum: 18.2684 - gen_len: 19.0000\n",
            "Epoch 3/3\n",
            "635/635 [==============================] - 160s 251ms/step - loss: 2.3927 - val_loss: 2.2548 - rouge1: 20.3075 - rouge2: 10.8451 - rougeL: 17.3824 - rougeLsum: 18.3131 - gen_len: 19.0000\n"
          ]
        }
      ],
      "source": [
        "metric_callback = KerasMetricCallback(\n",
        "    metric_fn, eval_dataset=tf_generation_set, predict_with_generate=True, use_xla_generation=True\n",
        ")\n",
        "\n",
        "callbacks = [metric_callback]\n",
        "\n",
        "history = model.fit(x=tf_train_set, validation_data=tf_validation_set, epochs=3, callbacks=callbacks)"
      ]
    },
    {
      "cell_type": "code",
      "source": [
        "# Plot the metrics\n",
        "train_loss = history.history['loss']\n",
        "val_loss = history.history['val_loss']\n",
        "\n",
        "plt.plot(train_loss, label='Training Loss')\n",
        "plt.plot(val_loss, label='Validation Loss')\n",
        "plt.xlabel('Epoch')\n",
        "plt.ylabel('Loss')\n",
        "plt.legend()\n",
        "plt.show()"
      ],
      "metadata": {
        "colab": {
          "base_uri": "https://localhost:8080/",
          "height": 449
        },
        "id": "4F9GFap2TisX",
        "outputId": "b0f8591c-6a8f-4696-f35a-72dc07125299"
      },
      "execution_count": 28,
      "outputs": [
        {
          "output_type": "display_data",
          "data": {
            "text/plain": [
              "<Figure size 640x480 with 1 Axes>"
            ],
            "image/png": "[encoded data removed]"
          },
          "metadata": {}
        }
      ]
    },
    {
      "cell_type": "code",
      "source": [
        "# Save the model in SavedModel format\n",
        "model.save(\"my_model\", save_format=\"tf\")"
      ],
      "metadata": {
        "colab": {
          "base_uri": "https://localhost:8080/"
        },
        "id": "Zh-KgepLTipq",
        "outputId": "f2adadda-3533-4a7f-a380-b1c5d327ba52"
      },
      "execution_count": 30,
      "outputs": [
        {
          "output_type": "stream",
          "name": "stderr",
          "text": [
            "WARNING:absl:Found untraced functions such as final_layer_norm_layer_call_fn, final_layer_norm_layer_call_and_return_conditional_losses, dropout_24_layer_call_fn, dropout_24_layer_call_and_return_conditional_losses, final_layer_norm_layer_call_fn while saving (showing 5 of 524). These functions will not be directly callable after loading.\n"
          ]
        }
      ]
    },
    {
      "cell_type": "code",
      "source": [],
      "metadata": {
        "id": "RjzFAgpvTilf"
      },
      "execution_count": null,
      "outputs": []
    },
    {
      "cell_type": "markdown",
      "metadata": {
        "id": "1wtcJpq41fZP"
      },
      "source": [
        "## MT5 Model"
      ]
    },
    {
      "cell_type": "code",
      "execution_count": null,
      "metadata": {
        "id": "CNXwxlig1fZP"
      },
      "outputs": [],
      "source": []
    },
    {
      "cell_type": "code",
      "execution_count": null,
      "metadata": {
        "id": "lewPiOZa1fZP"
      },
      "outputs": [],
      "source": []
    },
    {
      "cell_type": "markdown",
      "metadata": {
        "id": "-y7HDgWd1fZP"
      },
      "source": [
        "## BART Model"
      ]
    },
    {
      "cell_type": "code",
      "execution_count": null,
      "metadata": {
        "id": "jJjscHlt1fZP"
      },
      "outputs": [],
      "source": []
    },
    {
      "cell_type": "code",
      "execution_count": null,
      "metadata": {
        "id": "AxynDrVl1fZP"
      },
      "outputs": [],
      "source": []
    },
    {
      "cell_type": "markdown",
      "metadata": {
        "id": "gdYD5Qu81fZP"
      },
      "source": [
        "## PEGASUS Model"
      ]
    },
    {
      "cell_type": "code",
      "execution_count": null,
      "metadata": {
        "id": "DRar2Tyi1fZP"
      },
      "outputs": [],
      "source": []
    },
    {
      "cell_type": "code",
      "execution_count": null,
      "metadata": {
        "id": "VaR7sY-R1fZP"
      },
      "outputs": [],
      "source": []
    },
    {
      "cell_type": "markdown",
      "metadata": {
        "id": "oeawMe2N1fZQ"
      },
      "source": [
        "## GP2 Model"
      ]
    },
    {
      "cell_type": "code",
      "execution_count": null,
      "metadata": {
        "id": "u4Spys4b1fZQ"
      },
      "outputs": [],
      "source": []
    },
    {
      "cell_type": "code",
      "execution_count": null,
      "metadata": {
        "id": "1XKjhqW51fZQ"
      },
      "outputs": [],
      "source": []
    }
  ],
  "metadata": {
    "colab": {
      "machine_shape": "hm",
      "provenance": [],
      "gpuType": "A100"
    },
    "gpuClass": "standard",
    "kernelspec": {
      "display_name": "Python 3",
      "name": "python3"
    },
    "language_info": {
      "codemirror_mode": {
        "name": "ipython",
        "version": 3
      },
      "file_extension": ".py",
      "mimetype": "text/x-python",
      "name": "python",
      "nbconvert_exporter": "python",
      "pygments_lexer": "ipython3",
      "version": "3.10.9"
    },
    "widgets": {
      "application/vnd.jupyter.widget-state+json": {
        "a8fdd8236ebf49598f0885ce975382b3": {
          "model_module": "@jupyter-widgets/controls",
          "model_name": "HBoxModel",
          "model_module_version": "1.5.0",
          "state": {
            "_dom_classes": [],
            "_model_module": "@jupyter-widgets/controls",
            "_model_module_version": "1.5.0",
            "_model_name": "HBoxModel",
            "_view_count": null,
            "_view_module": "@jupyter-widgets/controls",
            "_view_module_version": "1.5.0",
            "_view_name": "HBoxView",
            "box_style": "",
            "children": [
              "IPY_MODEL_53139851bc4e48779065816a57bbf147",
              "IPY_MODEL_bdedf174905e4249bde714a7895f3d00",
              "IPY_MODEL_b6c504b43b6f4f9d8b446b23f7d402e8"
            ],
            "layout": "IPY_MODEL_aa9c42d287de4edaa325ba97ef6a9b71"
          }
        },
        "53139851bc4e48779065816a57bbf147": {
          "model_module": "@jupyter-widgets/controls",
          "model_name": "HTMLModel",
          "model_module_version": "1.5.0",
          "state": {
            "_dom_classes": [],
            "_model_module": "@jupyter-widgets/controls",
            "_model_module_version": "1.5.0",
            "_model_name": "HTMLModel",
            "_view_count": null,
            "_view_module": "@jupyter-widgets/controls",
            "_view_module_version": "1.5.0",
            "_view_name": "HTMLView",
            "description": "",
            "description_tooltip": null,
            "layout": "IPY_MODEL_18a5ed1d42024fb7bd04728d404c23fd",
            "placeholder": "​",
            "style": "IPY_MODEL_de690b76079546309921d007b17ab527",
            "value": "100%"
          }
        },
        "bdedf174905e4249bde714a7895f3d00": {
          "model_module": "@jupyter-widgets/controls",
          "model_name": "FloatProgressModel",
          "model_module_version": "1.5.0",
          "state": {
            "_dom_classes": [],
            "_model_module": "@jupyter-widgets/controls",
            "_model_module_version": "1.5.0",
            "_model_name": "FloatProgressModel",
            "_view_count": null,
            "_view_module": "@jupyter-widgets/controls",
            "_view_module_version": "1.5.0",
            "_view_name": "ProgressView",
            "bar_style": "success",
            "description": "",
            "description_tooltip": null,
            "layout": "IPY_MODEL_089f5a0b23e447ada38d8bce6b7afdf0",
            "max": 3,
            "min": 0,
            "orientation": "horizontal",
            "style": "IPY_MODEL_cede56196716418facade5bf055b9412",
            "value": 3
          }
        },
        "b6c504b43b6f4f9d8b446b23f7d402e8": {
          "model_module": "@jupyter-widgets/controls",
          "model_name": "HTMLModel",
          "model_module_version": "1.5.0",
          "state": {
            "_dom_classes": [],
            "_model_module": "@jupyter-widgets/controls",
            "_model_module_version": "1.5.0",
            "_model_name": "HTMLModel",
            "_view_count": null,
            "_view_module": "@jupyter-widgets/controls",
            "_view_module_version": "1.5.0",
            "_view_name": "HTMLView",
            "description": "",
            "description_tooltip": null,
            "layout": "IPY_MODEL_191b9d06980149da8e2a115f1274a9bd",
            "placeholder": "​",
            "style": "IPY_MODEL_e12b7b691be24c15a86c7ec67c5b7ffd",
            "value": " 3/3 [00:00&lt;00:00, 174.81it/s]"
          }
        },
        "aa9c42d287de4edaa325ba97ef6a9b71": {
          "model_module": "@jupyter-widgets/base",
          "model_name": "LayoutModel",
          "model_module_version": "1.2.0",
          "state": {
            "_model_module": "@jupyter-widgets/base",
            "_model_module_version": "1.2.0",
            "_model_name": "LayoutModel",
            "_view_count": null,
            "_view_module": "@jupyter-widgets/base",
            "_view_module_version": "1.2.0",
            "_view_name": "LayoutView",
            "align_content": null,
            "align_items": null,
            "align_self": null,
            "border": null,
            "bottom": null,
            "display": null,
            "flex": null,
            "flex_flow": null,
            "grid_area": null,
            "grid_auto_columns": null,
            "grid_auto_flow": null,
            "grid_auto_rows": null,
            "grid_column": null,
            "grid_gap": null,
            "grid_row": null,
            "grid_template_areas": null,
            "grid_template_columns": null,
            "grid_template_rows": null,
            "height": null,
            "justify_content": null,
            "justify_items": null,
            "left": null,
            "margin": null,
            "max_height": null,
            "max_width": null,
            "min_height": null,
            "min_width": null,
            "object_fit": null,
            "object_position": null,
            "order": null,
            "overflow": null,
            "overflow_x": null,
            "overflow_y": null,
            "padding": null,
            "right": null,
            "top": null,
            "visibility": null,
            "width": null
          }
        },
        "18a5ed1d42024fb7bd04728d404c23fd": {
          "model_module": "@jupyter-widgets/base",
          "model_name": "LayoutModel",
          "model_module_version": "1.2.0",
          "state": {
            "_model_module": "@jupyter-widgets/base",
            "_model_module_version": "1.2.0",
            "_model_name": "LayoutModel",
            "_view_count": null,
            "_view_module": "@jupyter-widgets/base",
            "_view_module_version": "1.2.0",
            "_view_name": "LayoutView",
            "align_content": null,
            "align_items": null,
            "align_self": null,
            "border": null,
            "bottom": null,
            "display": null,
            "flex": null,
            "flex_flow": null,
            "grid_area": null,
            "grid_auto_columns": null,
            "grid_auto_flow": null,
            "grid_auto_rows": null,
            "grid_column": null,
            "grid_gap": null,
            "grid_row": null,
            "grid_template_areas": null,
            "grid_template_columns": null,
            "grid_template_rows": null,
            "height": null,
            "justify_content": null,
            "justify_items": null,
            "left": null,
            "margin": null,
            "max_height": null,
            "max_width": null,
            "min_height": null,
            "min_width": null,
            "object_fit": null,
            "object_position": null,
            "order": null,
            "overflow": null,
            "overflow_x": null,
            "overflow_y": null,
            "padding": null,
            "right": null,
            "top": null,
            "visibility": null,
            "width": null
          }
        },
        "de690b76079546309921d007b17ab527": {
          "model_module": "@jupyter-widgets/controls",
          "model_name": "DescriptionStyleModel",
          "model_module_version": "1.5.0",
          "state": {
            "_model_module": "@jupyter-widgets/controls",
            "_model_module_version": "1.5.0",
            "_model_name": "DescriptionStyleModel",
            "_view_count": null,
            "_view_module": "@jupyter-widgets/base",
            "_view_module_version": "1.2.0",
            "_view_name": "StyleView",
            "description_width": ""
          }
        },
        "089f5a0b23e447ada38d8bce6b7afdf0": {
          "model_module": "@jupyter-widgets/base",
          "model_name": "LayoutModel",
          "model_module_version": "1.2.0",
          "state": {
            "_model_module": "@jupyter-widgets/base",
            "_model_module_version": "1.2.0",
            "_model_name": "LayoutModel",
            "_view_count": null,
            "_view_module": "@jupyter-widgets/base",
            "_view_module_version": "1.2.0",
            "_view_name": "LayoutView",
            "align_content": null,
            "align_items": null,
            "align_self": null,
            "border": null,
            "bottom": null,
            "display": null,
            "flex": null,
            "flex_flow": null,
            "grid_area": null,
            "grid_auto_columns": null,
            "grid_auto_flow": null,
            "grid_auto_rows": null,
            "grid_column": null,
            "grid_gap": null,
            "grid_row": null,
            "grid_template_areas": null,
            "grid_template_columns": null,
            "grid_template_rows": null,
            "height": null,
            "justify_content": null,
            "justify_items": null,
            "left": null,
            "margin": null,
            "max_height": null,
            "max_width": null,
            "min_height": null,
            "min_width": null,
            "object_fit": null,
            "object_position": null,
            "order": null,
            "overflow": null,
            "overflow_x": null,
            "overflow_y": null,
            "padding": null,
            "right": null,
            "top": null,
            "visibility": null,
            "width": null
          }
        },
        "cede56196716418facade5bf055b9412": {
          "model_module": "@jupyter-widgets/controls",
          "model_name": "ProgressStyleModel",
          "model_module_version": "1.5.0",
          "state": {
            "_model_module": "@jupyter-widgets/controls",
            "_model_module_version": "1.5.0",
            "_model_name": "ProgressStyleModel",
            "_view_count": null,
            "_view_module": "@jupyter-widgets/base",
            "_view_module_version": "1.2.0",
            "_view_name": "StyleView",
            "bar_color": null,
            "description_width": ""
          }
        },
        "191b9d06980149da8e2a115f1274a9bd": {
          "model_module": "@jupyter-widgets/base",
          "model_name": "LayoutModel",
          "model_module_version": "1.2.0",
          "state": {
            "_model_module": "@jupyter-widgets/base",
            "_model_module_version": "1.2.0",
            "_model_name": "LayoutModel",
            "_view_count": null,
            "_view_module": "@jupyter-widgets/base",
            "_view_module_version": "1.2.0",
            "_view_name": "LayoutView",
            "align_content": null,
            "align_items": null,
            "align_self": null,
            "border": null,
            "bottom": null,
            "display": null,
            "flex": null,
            "flex_flow": null,
            "grid_area": null,
            "grid_auto_columns": null,
            "grid_auto_flow": null,
            "grid_auto_rows": null,
            "grid_column": null,
            "grid_gap": null,
            "grid_row": null,
            "grid_template_areas": null,
            "grid_template_columns": null,
            "grid_template_rows": null,
            "height": null,
            "justify_content": null,
            "justify_items": null,
            "left": null,
            "margin": null,
            "max_height": null,
            "max_width": null,
            "min_height": null,
            "min_width": null,
            "object_fit": null,
            "object_position": null,
            "order": null,
            "overflow": null,
            "overflow_x": null,
            "overflow_y": null,
            "padding": null,
            "right": null,
            "top": null,
            "visibility": null,
            "width": null
          }
        },
        "e12b7b691be24c15a86c7ec67c5b7ffd": {
          "model_module": "@jupyter-widgets/controls",
          "model_name": "DescriptionStyleModel",
          "model_module_version": "1.5.0",
          "state": {
            "_model_module": "@jupyter-widgets/controls",
            "_model_module_version": "1.5.0",
            "_model_name": "DescriptionStyleModel",
            "_view_count": null,
            "_view_module": "@jupyter-widgets/base",
            "_view_module_version": "1.2.0",
            "_view_name": "StyleView",
            "description_width": ""
          }
        },
        "e4fd0b544b4b448494932550d7dbe644": {
          "model_module": "@jupyter-widgets/controls",
          "model_name": "HBoxModel",
          "model_module_version": "1.5.0",
          "state": {
            "_dom_classes": [],
            "_model_module": "@jupyter-widgets/controls",
            "_model_module_version": "1.5.0",
            "_model_name": "HBoxModel",
            "_view_count": null,
            "_view_module": "@jupyter-widgets/controls",
            "_view_module_version": "1.5.0",
            "_view_name": "HBoxView",
            "box_style": "",
            "children": [
              "IPY_MODEL_a3e15de4a3ab44c5872bea07f40ad73f",
              "IPY_MODEL_dfbc53f1767948468110f7b0e29d6af2",
              "IPY_MODEL_afec77f2c8ac482ab1a1a56b4f4fa306"
            ],
            "layout": "IPY_MODEL_2874ca9c52e94a119d68246d0a5e7699"
          }
        },
        "a3e15de4a3ab44c5872bea07f40ad73f": {
          "model_module": "@jupyter-widgets/controls",
          "model_name": "HTMLModel",
          "model_module_version": "1.5.0",
          "state": {
            "_dom_classes": [],
            "_model_module": "@jupyter-widgets/controls",
            "_model_module_version": "1.5.0",
            "_model_name": "HTMLModel",
            "_view_count": null,
            "_view_module": "@jupyter-widgets/controls",
            "_view_module_version": "1.5.0",
            "_view_name": "HTMLView",
            "description": "",
            "description_tooltip": null,
            "layout": "IPY_MODEL_c0ed6b4c87b3408684cca99338236f33",
            "placeholder": "​",
            "style": "IPY_MODEL_d281c9954f3b493cac9acd8a2437a0fb",
            "value": "Map: 100%"
          }
        },
        "dfbc53f1767948468110f7b0e29d6af2": {
          "model_module": "@jupyter-widgets/controls",
          "model_name": "FloatProgressModel",
          "model_module_version": "1.5.0",
          "state": {
            "_dom_classes": [],
            "_model_module": "@jupyter-widgets/controls",
            "_model_module_version": "1.5.0",
            "_model_name": "FloatProgressModel",
            "_view_count": null,
            "_view_module": "@jupyter-widgets/controls",
            "_view_module_version": "1.5.0",
            "_view_name": "ProgressView",
            "bar_style": "",
            "description": "",
            "description_tooltip": null,
            "layout": "IPY_MODEL_eef0b4f62fdb4f7a812edcab812b4bfe",
            "max": 10164,
            "min": 0,
            "orientation": "horizontal",
            "style": "IPY_MODEL_57b4f50c309f4e75b946949f80ac5980",
            "value": 10164
          }
        },
        "afec77f2c8ac482ab1a1a56b4f4fa306": {
          "model_module": "@jupyter-widgets/controls",
          "model_name": "HTMLModel",
          "model_module_version": "1.5.0",
          "state": {
            "_dom_classes": [],
            "_model_module": "@jupyter-widgets/controls",
            "_model_module_version": "1.5.0",
            "_model_name": "HTMLModel",
            "_view_count": null,
            "_view_module": "@jupyter-widgets/controls",
            "_view_module_version": "1.5.0",
            "_view_name": "HTMLView",
            "description": "",
            "description_tooltip": null,
            "layout": "IPY_MODEL_5048219ef41c41cfadc21b03dbd01235",
            "placeholder": "​",
            "style": "IPY_MODEL_887c54f41d6a4479ac8584d561ed9938",
            "value": " 10164/10164 [03:01&lt;00:00, 55.88 examples/s]"
          }
        },
        "2874ca9c52e94a119d68246d0a5e7699": {
          "model_module": "@jupyter-widgets/base",
          "model_name": "LayoutModel",
          "model_module_version": "1.2.0",
          "state": {
            "_model_module": "@jupyter-widgets/base",
            "_model_module_version": "1.2.0",
            "_model_name": "LayoutModel",
            "_view_count": null,
            "_view_module": "@jupyter-widgets/base",
            "_view_module_version": "1.2.0",
            "_view_name": "LayoutView",
            "align_content": null,
            "align_items": null,
            "align_self": null,
            "border": null,
            "bottom": null,
            "display": null,
            "flex": null,
            "flex_flow": null,
            "grid_area": null,
            "grid_auto_columns": null,
            "grid_auto_flow": null,
            "grid_auto_rows": null,
            "grid_column": null,
            "grid_gap": null,
            "grid_row": null,
            "grid_template_areas": null,
            "grid_template_columns": null,
            "grid_template_rows": null,
            "height": null,
            "justify_content": null,
            "justify_items": null,
            "left": null,
            "margin": null,
            "max_height": null,
            "max_width": null,
            "min_height": null,
            "min_width": null,
            "object_fit": null,
            "object_position": null,
            "order": null,
            "overflow": null,
            "overflow_x": null,
            "overflow_y": null,
            "padding": null,
            "right": null,
            "top": null,
            "visibility": "hidden",
            "width": null
          }
        },
        "c0ed6b4c87b3408684cca99338236f33": {
          "model_module": "@jupyter-widgets/base",
          "model_name": "LayoutModel",
          "model_module_version": "1.2.0",
          "state": {
            "_model_module": "@jupyter-widgets/base",
            "_model_module_version": "1.2.0",
            "_model_name": "LayoutModel",
            "_view_count": null,
            "_view_module": "@jupyter-widgets/base",
            "_view_module_version": "1.2.0",
            "_view_name": "LayoutView",
            "align_content": null,
            "align_items": null,
            "align_self": null,
            "border": null,
            "bottom": null,
            "display": null,
            "flex": null,
            "flex_flow": null,
            "grid_area": null,
            "grid_auto_columns": null,
            "grid_auto_flow": null,
            "grid_auto_rows": null,
            "grid_column": null,
            "grid_gap": null,
            "grid_row": null,
            "grid_template_areas": null,
            "grid_template_columns": null,
            "grid_template_rows": null,
            "height": null,
            "justify_content": null,
            "justify_items": null,
            "left": null,
            "margin": null,
            "max_height": null,
            "max_width": null,
            "min_height": null,
            "min_width": null,
            "object_fit": null,
            "object_position": null,
            "order": null,
            "overflow": null,
            "overflow_x": null,
            "overflow_y": null,
            "padding": null,
            "right": null,
            "top": null,
            "visibility": null,
            "width": null
          }
        },
        "d281c9954f3b493cac9acd8a2437a0fb": {
          "model_module": "@jupyter-widgets/controls",
          "model_name": "DescriptionStyleModel",
          "model_module_version": "1.5.0",
          "state": {
            "_model_module": "@jupyter-widgets/controls",
            "_model_module_version": "1.5.0",
            "_model_name": "DescriptionStyleModel",
            "_view_count": null,
            "_view_module": "@jupyter-widgets/base",
            "_view_module_version": "1.2.0",
            "_view_name": "StyleView",
            "description_width": ""
          }
        },
        "eef0b4f62fdb4f7a812edcab812b4bfe": {
          "model_module": "@jupyter-widgets/base",
          "model_name": "LayoutModel",
          "model_module_version": "1.2.0",
          "state": {
            "_model_module": "@jupyter-widgets/base",
            "_model_module_version": "1.2.0",
            "_model_name": "LayoutModel",
            "_view_count": null,
            "_view_module": "@jupyter-widgets/base",
            "_view_module_version": "1.2.0",
            "_view_name": "LayoutView",
            "align_content": null,
            "align_items": null,
            "align_self": null,
            "border": null,
            "bottom": null,
            "display": null,
            "flex": null,
            "flex_flow": null,
            "grid_area": null,
            "grid_auto_columns": null,
            "grid_auto_flow": null,
            "grid_auto_rows": null,
            "grid_column": null,
            "grid_gap": null,
            "grid_row": null,
            "grid_template_areas": null,
            "grid_template_columns": null,
            "grid_template_rows": null,
            "height": null,
            "justify_content": null,
            "justify_items": null,
            "left": null,
            "margin": null,
            "max_height": null,
            "max_width": null,
            "min_height": null,
            "min_width": null,
            "object_fit": null,
            "object_position": null,
            "order": null,
            "overflow": null,
            "overflow_x": null,
            "overflow_y": null,
            "padding": null,
            "right": null,
            "top": null,
            "visibility": null,
            "width": null
          }
        },
        "57b4f50c309f4e75b946949f80ac5980": {
          "model_module": "@jupyter-widgets/controls",
          "model_name": "ProgressStyleModel",
          "model_module_version": "1.5.0",
          "state": {
            "_model_module": "@jupyter-widgets/controls",
            "_model_module_version": "1.5.0",
            "_model_name": "ProgressStyleModel",
            "_view_count": null,
            "_view_module": "@jupyter-widgets/base",
            "_view_module_version": "1.2.0",
            "_view_name": "StyleView",
            "bar_color": null,
            "description_width": ""
          }
        },
        "5048219ef41c41cfadc21b03dbd01235": {
          "model_module": "@jupyter-widgets/base",
          "model_name": "LayoutModel",
          "model_module_version": "1.2.0",
          "state": {
            "_model_module": "@jupyter-widgets/base",
            "_model_module_version": "1.2.0",
            "_model_name": "LayoutModel",
            "_view_count": null,
            "_view_module": "@jupyter-widgets/base",
            "_view_module_version": "1.2.0",
            "_view_name": "LayoutView",
            "align_content": null,
            "align_items": null,
            "align_self": null,
            "border": null,
            "bottom": null,
            "display": null,
            "flex": null,
            "flex_flow": null,
            "grid_area": null,
            "grid_auto_columns": null,
            "grid_auto_flow": null,
            "grid_auto_rows": null,
            "grid_column": null,
            "grid_gap": null,
            "grid_row": null,
            "grid_template_areas": null,
            "grid_template_columns": null,
            "grid_template_rows": null,
            "height": null,
            "justify_content": null,
            "justify_items": null,
            "left": null,
            "margin": null,
            "max_height": null,
            "max_width": null,
            "min_height": null,
            "min_width": null,
            "object_fit": null,
            "object_position": null,
            "order": null,
            "overflow": null,
            "overflow_x": null,
            "overflow_y": null,
            "padding": null,
            "right": null,
            "top": null,
            "visibility": null,
            "width": null
          }
        },
        "887c54f41d6a4479ac8584d561ed9938": {
          "model_module": "@jupyter-widgets/controls",
          "model_name": "DescriptionStyleModel",
          "model_module_version": "1.5.0",
          "state": {
            "_model_module": "@jupyter-widgets/controls",
            "_model_module_version": "1.5.0",
            "_model_name": "DescriptionStyleModel",
            "_view_count": null,
            "_view_module": "@jupyter-widgets/base",
            "_view_module_version": "1.2.0",
            "_view_name": "StyleView",
            "description_width": ""
          }
        },
        "4697569519134296accdd0bf2f5083d6": {
          "model_module": "@jupyter-widgets/controls",
          "model_name": "HBoxModel",
          "model_module_version": "1.5.0",
          "state": {
            "_dom_classes": [],
            "_model_module": "@jupyter-widgets/controls",
            "_model_module_version": "1.5.0",
            "_model_name": "HBoxModel",
            "_view_count": null,
            "_view_module": "@jupyter-widgets/controls",
            "_view_module_version": "1.5.0",
            "_view_name": "HBoxView",
            "box_style": "",
            "children": [
              "IPY_MODEL_21942ffb97204996beffb49bc9b9042b",
              "IPY_MODEL_445af4cfa35740a196bf23daed44f168",
              "IPY_MODEL_6c46ea87b52440c58fb0ddc5fbd0ecc8"
            ],
            "layout": "IPY_MODEL_3f464af3b8ff48c1a012885b24f8d9d7"
          }
        },
        "21942ffb97204996beffb49bc9b9042b": {
          "model_module": "@jupyter-widgets/controls",
          "model_name": "HTMLModel",
          "model_module_version": "1.5.0",
          "state": {
            "_dom_classes": [],
            "_model_module": "@jupyter-widgets/controls",
            "_model_module_version": "1.5.0",
            "_model_name": "HTMLModel",
            "_view_count": null,
            "_view_module": "@jupyter-widgets/controls",
            "_view_module_version": "1.5.0",
            "_view_name": "HTMLView",
            "description": "",
            "description_tooltip": null,
            "layout": "IPY_MODEL_7edc5614b09e4920812b93d1b4b2f0d6",
            "placeholder": "​",
            "style": "IPY_MODEL_56bce82561604e908953d04ec852fb89",
            "value": "Map: 100%"
          }
        },
        "445af4cfa35740a196bf23daed44f168": {
          "model_module": "@jupyter-widgets/controls",
          "model_name": "FloatProgressModel",
          "model_module_version": "1.5.0",
          "state": {
            "_dom_classes": [],
            "_model_module": "@jupyter-widgets/controls",
            "_model_module_version": "1.5.0",
            "_model_name": "FloatProgressModel",
            "_view_count": null,
            "_view_module": "@jupyter-widgets/controls",
            "_view_module_version": "1.5.0",
            "_view_name": "ProgressView",
            "bar_style": "",
            "description": "",
            "description_tooltip": null,
            "layout": "IPY_MODEL_aecec9f29a3e4cae8f324e5654543b72",
            "max": 565,
            "min": 0,
            "orientation": "horizontal",
            "style": "IPY_MODEL_0d53c7fd34fb4adc91d2e94d982334f2",
            "value": 565
          }
        },
        "6c46ea87b52440c58fb0ddc5fbd0ecc8": {
          "model_module": "@jupyter-widgets/controls",
          "model_name": "HTMLModel",
          "model_module_version": "1.5.0",
          "state": {
            "_dom_classes": [],
            "_model_module": "@jupyter-widgets/controls",
            "_model_module_version": "1.5.0",
            "_model_name": "HTMLModel",
            "_view_count": null,
            "_view_module": "@jupyter-widgets/controls",
            "_view_module_version": "1.5.0",
            "_view_name": "HTMLView",
            "description": "",
            "description_tooltip": null,
            "layout": "IPY_MODEL_9d01a624e4f34b16b0a02286ad8843be",
            "placeholder": "​",
            "style": "IPY_MODEL_abcd021dc5e641429728c719ff4b092e",
            "value": " 565/565 [00:10&lt;00:00, 55.71 examples/s]"
          }
        },
        "3f464af3b8ff48c1a012885b24f8d9d7": {
          "model_module": "@jupyter-widgets/base",
          "model_name": "LayoutModel",
          "model_module_version": "1.2.0",
          "state": {
            "_model_module": "@jupyter-widgets/base",
            "_model_module_version": "1.2.0",
            "_model_name": "LayoutModel",
            "_view_count": null,
            "_view_module": "@jupyter-widgets/base",
            "_view_module_version": "1.2.0",
            "_view_name": "LayoutView",
            "align_content": null,
            "align_items": null,
            "align_self": null,
            "border": null,
            "bottom": null,
            "display": null,
            "flex": null,
            "flex_flow": null,
            "grid_area": null,
            "grid_auto_columns": null,
            "grid_auto_flow": null,
            "grid_auto_rows": null,
            "grid_column": null,
            "grid_gap": null,
            "grid_row": null,
            "grid_template_areas": null,
            "grid_template_columns": null,
            "grid_template_rows": null,
            "height": null,
            "justify_content": null,
            "justify_items": null,
            "left": null,
            "margin": null,
            "max_height": null,
            "max_width": null,
            "min_height": null,
            "min_width": null,
            "object_fit": null,
            "object_position": null,
            "order": null,
            "overflow": null,
            "overflow_x": null,
            "overflow_y": null,
            "padding": null,
            "right": null,
            "top": null,
            "visibility": "hidden",
            "width": null
          }
        },
        "7edc5614b09e4920812b93d1b4b2f0d6": {
          "model_module": "@jupyter-widgets/base",
          "model_name": "LayoutModel",
          "model_module_version": "1.2.0",
          "state": {
            "_model_module": "@jupyter-widgets/base",
            "_model_module_version": "1.2.0",
            "_model_name": "LayoutModel",
            "_view_count": null,
            "_view_module": "@jupyter-widgets/base",
            "_view_module_version": "1.2.0",
            "_view_name": "LayoutView",
            "align_content": null,
            "align_items": null,
            "align_self": null,
            "border": null,
            "bottom": null,
            "display": null,
            "flex": null,
            "flex_flow": null,
            "grid_area": null,
            "grid_auto_columns": null,
            "grid_auto_flow": null,
            "grid_auto_rows": null,
            "grid_column": null,
            "grid_gap": null,
            "grid_row": null,
            "grid_template_areas": null,
            "grid_template_columns": null,
            "grid_template_rows": null,
            "height": null,
            "justify_content": null,
            "justify_items": null,
            "left": null,
            "margin": null,
            "max_height": null,
            "max_width": null,
            "min_height": null,
            "min_width": null,
            "object_fit": null,
            "object_position": null,
            "order": null,
            "overflow": null,
            "overflow_x": null,
            "overflow_y": null,
            "padding": null,
            "right": null,
            "top": null,
            "visibility": null,
            "width": null
          }
        },
        "56bce82561604e908953d04ec852fb89": {
          "model_module": "@jupyter-widgets/controls",
          "model_name": "DescriptionStyleModel",
          "model_module_version": "1.5.0",
          "state": {
            "_model_module": "@jupyter-widgets/controls",
            "_model_module_version": "1.5.0",
            "_model_name": "DescriptionStyleModel",
            "_view_count": null,
            "_view_module": "@jupyter-widgets/base",
            "_view_module_version": "1.2.0",
            "_view_name": "StyleView",
            "description_width": ""
          }
        },
        "aecec9f29a3e4cae8f324e5654543b72": {
          "model_module": "@jupyter-widgets/base",
          "model_name": "LayoutModel",
          "model_module_version": "1.2.0",
          "state": {
            "_model_module": "@jupyter-widgets/base",
            "_model_module_version": "1.2.0",
            "_model_name": "LayoutModel",
            "_view_count": null,
            "_view_module": "@jupyter-widgets/base",
            "_view_module_version": "1.2.0",
            "_view_name": "LayoutView",
            "align_content": null,
            "align_items": null,
            "align_self": null,
            "border": null,
            "bottom": null,
            "display": null,
            "flex": null,
            "flex_flow": null,
            "grid_area": null,
            "grid_auto_columns": null,
            "grid_auto_flow": null,
            "grid_auto_rows": null,
            "grid_column": null,
            "grid_gap": null,
            "grid_row": null,
            "grid_template_areas": null,
            "grid_template_columns": null,
            "grid_template_rows": null,
            "height": null,
            "justify_content": null,
            "justify_items": null,
            "left": null,
            "margin": null,
            "max_height": null,
            "max_width": null,
            "min_height": null,
            "min_width": null,
            "object_fit": null,
            "object_position": null,
            "order": null,
            "overflow": null,
            "overflow_x": null,
            "overflow_y": null,
            "padding": null,
            "right": null,
            "top": null,
            "visibility": null,
            "width": null
          }
        },
        "0d53c7fd34fb4adc91d2e94d982334f2": {
          "model_module": "@jupyter-widgets/controls",
          "model_name": "ProgressStyleModel",
          "model_module_version": "1.5.0",
          "state": {
            "_model_module": "@jupyter-widgets/controls",
            "_model_module_version": "1.5.0",
            "_model_name": "ProgressStyleModel",
            "_view_count": null,
            "_view_module": "@jupyter-widgets/base",
            "_view_module_version": "1.2.0",
            "_view_name": "StyleView",
            "bar_color": null,
            "description_width": ""
          }
        },
        "9d01a624e4f34b16b0a02286ad8843be": {
          "model_module": "@jupyter-widgets/base",
          "model_name": "LayoutModel",
          "model_module_version": "1.2.0",
          "state": {
            "_model_module": "@jupyter-widgets/base",
            "_model_module_version": "1.2.0",
            "_model_name": "LayoutModel",
            "_view_count": null,
            "_view_module": "@jupyter-widgets/base",
            "_view_module_version": "1.2.0",
            "_view_name": "LayoutView",
            "align_content": null,
            "align_items": null,
            "align_self": null,
            "border": null,
            "bottom": null,
            "display": null,
            "flex": null,
            "flex_flow": null,
            "grid_area": null,
            "grid_auto_columns": null,
            "grid_auto_flow": null,
            "grid_auto_rows": null,
            "grid_column": null,
            "grid_gap": null,
            "grid_row": null,
            "grid_template_areas": null,
            "grid_template_columns": null,
            "grid_template_rows": null,
            "height": null,
            "justify_content": null,
            "justify_items": null,
            "left": null,
            "margin": null,
            "max_height": null,
            "max_width": null,
            "min_height": null,
            "min_width": null,
            "object_fit": null,
            "object_position": null,
            "order": null,
            "overflow": null,
            "overflow_x": null,
            "overflow_y": null,
            "padding": null,
            "right": null,
            "top": null,
            "visibility": null,
            "width": null
          }
        },
        "abcd021dc5e641429728c719ff4b092e": {
          "model_module": "@jupyter-widgets/controls",
          "model_name": "DescriptionStyleModel",
          "model_module_version": "1.5.0",
          "state": {
            "_model_module": "@jupyter-widgets/controls",
            "_model_module_version": "1.5.0",
            "_model_name": "DescriptionStyleModel",
            "_view_count": null,
            "_view_module": "@jupyter-widgets/base",
            "_view_module_version": "1.2.0",
            "_view_name": "StyleView",
            "description_width": ""
          }
        },
        "39bd915d79ac4eada22e2e63ece1bbd3": {
          "model_module": "@jupyter-widgets/controls",
          "model_name": "HBoxModel",
          "model_module_version": "1.5.0",
          "state": {
            "_dom_classes": [],
            "_model_module": "@jupyter-widgets/controls",
            "_model_module_version": "1.5.0",
            "_model_name": "HBoxModel",
            "_view_count": null,
            "_view_module": "@jupyter-widgets/controls",
            "_view_module_version": "1.5.0",
            "_view_name": "HBoxView",
            "box_style": "",
            "children": [
              "IPY_MODEL_761f4576b11f4a89a329f93d1f70fc9f",
              "IPY_MODEL_f0a72de270c141869089495bf81fc75d",
              "IPY_MODEL_7890db0de261454d96fe5d4f21fe9aab"
            ],
            "layout": "IPY_MODEL_a13405efb40549288cc66828acb54b60"
          }
        },
        "761f4576b11f4a89a329f93d1f70fc9f": {
          "model_module": "@jupyter-widgets/controls",
          "model_name": "HTMLModel",
          "model_module_version": "1.5.0",
          "state": {
            "_dom_classes": [],
            "_model_module": "@jupyter-widgets/controls",
            "_model_module_version": "1.5.0",
            "_model_name": "HTMLModel",
            "_view_count": null,
            "_view_module": "@jupyter-widgets/controls",
            "_view_module_version": "1.5.0",
            "_view_name": "HTMLView",
            "description": "",
            "description_tooltip": null,
            "layout": "IPY_MODEL_6e496c326eb740dfa9e5fe9f7d5642cf",
            "placeholder": "​",
            "style": "IPY_MODEL_86959b569f8d4feca7357deb813bdbce",
            "value": "Map: 100%"
          }
        },
        "f0a72de270c141869089495bf81fc75d": {
          "model_module": "@jupyter-widgets/controls",
          "model_name": "FloatProgressModel",
          "model_module_version": "1.5.0",
          "state": {
            "_dom_classes": [],
            "_model_module": "@jupyter-widgets/controls",
            "_model_module_version": "1.5.0",
            "_model_name": "FloatProgressModel",
            "_view_count": null,
            "_view_module": "@jupyter-widgets/controls",
            "_view_module_version": "1.5.0",
            "_view_name": "ProgressView",
            "bar_style": "",
            "description": "",
            "description_tooltip": null,
            "layout": "IPY_MODEL_a6380cc73055497cbccfc6a4cea13dc7",
            "max": 565,
            "min": 0,
            "orientation": "horizontal",
            "style": "IPY_MODEL_df34411d63de4966815d6c517b9c8ce9",
            "value": 565
          }
        },
        "7890db0de261454d96fe5d4f21fe9aab": {
          "model_module": "@jupyter-widgets/controls",
          "model_name": "HTMLModel",
          "model_module_version": "1.5.0",
          "state": {
            "_dom_classes": [],
            "_model_module": "@jupyter-widgets/controls",
            "_model_module_version": "1.5.0",
            "_model_name": "HTMLModel",
            "_view_count": null,
            "_view_module": "@jupyter-widgets/controls",
            "_view_module_version": "1.5.0",
            "_view_name": "HTMLView",
            "description": "",
            "description_tooltip": null,
            "layout": "IPY_MODEL_3fcd55ccc6664710b326db9eb850759e",
            "placeholder": "​",
            "style": "IPY_MODEL_f2711ac249c34bddb78966cb25612174",
            "value": " 565/565 [00:10&lt;00:00, 55.77 examples/s]"
          }
        },
        "a13405efb40549288cc66828acb54b60": {
          "model_module": "@jupyter-widgets/base",
          "model_name": "LayoutModel",
          "model_module_version": "1.2.0",
          "state": {
            "_model_module": "@jupyter-widgets/base",
            "_model_module_version": "1.2.0",
            "_model_name": "LayoutModel",
            "_view_count": null,
            "_view_module": "@jupyter-widgets/base",
            "_view_module_version": "1.2.0",
            "_view_name": "LayoutView",
            "align_content": null,
            "align_items": null,
            "align_self": null,
            "border": null,
            "bottom": null,
            "display": null,
            "flex": null,
            "flex_flow": null,
            "grid_area": null,
            "grid_auto_columns": null,
            "grid_auto_flow": null,
            "grid_auto_rows": null,
            "grid_column": null,
            "grid_gap": null,
            "grid_row": null,
            "grid_template_areas": null,
            "grid_template_columns": null,
            "grid_template_rows": null,
            "height": null,
            "justify_content": null,
            "justify_items": null,
            "left": null,
            "margin": null,
            "max_height": null,
            "max_width": null,
            "min_height": null,
            "min_width": null,
            "object_fit": null,
            "object_position": null,
            "order": null,
            "overflow": null,
            "overflow_x": null,
            "overflow_y": null,
            "padding": null,
            "right": null,
            "top": null,
            "visibility": "hidden",
            "width": null
          }
        },
        "6e496c326eb740dfa9e5fe9f7d5642cf": {
          "model_module": "@jupyter-widgets/base",
          "model_name": "LayoutModel",
          "model_module_version": "1.2.0",
          "state": {
            "_model_module": "@jupyter-widgets/base",
            "_model_module_version": "1.2.0",
            "_model_name": "LayoutModel",
            "_view_count": null,
            "_view_module": "@jupyter-widgets/base",
            "_view_module_version": "1.2.0",
            "_view_name": "LayoutView",
            "align_content": null,
            "align_items": null,
            "align_self": null,
            "border": null,
            "bottom": null,
            "display": null,
            "flex": null,
            "flex_flow": null,
            "grid_area": null,
            "grid_auto_columns": null,
            "grid_auto_flow": null,
            "grid_auto_rows": null,
            "grid_column": null,
            "grid_gap": null,
            "grid_row": null,
            "grid_template_areas": null,
            "grid_template_columns": null,
            "grid_template_rows": null,
            "height": null,
            "justify_content": null,
            "justify_items": null,
            "left": null,
            "margin": null,
            "max_height": null,
            "max_width": null,
            "min_height": null,
            "min_width": null,
            "object_fit": null,
            "object_position": null,
            "order": null,
            "overflow": null,
            "overflow_x": null,
            "overflow_y": null,
            "padding": null,
            "right": null,
            "top": null,
            "visibility": null,
            "width": null
          }
        },
        "86959b569f8d4feca7357deb813bdbce": {
          "model_module": "@jupyter-widgets/controls",
          "model_name": "DescriptionStyleModel",
          "model_module_version": "1.5.0",
          "state": {
            "_model_module": "@jupyter-widgets/controls",
            "_model_module_version": "1.5.0",
            "_model_name": "DescriptionStyleModel",
            "_view_count": null,
            "_view_module": "@jupyter-widgets/base",
            "_view_module_version": "1.2.0",
            "_view_name": "StyleView",
            "description_width": ""
          }
        },
        "a6380cc73055497cbccfc6a4cea13dc7": {
          "model_module": "@jupyter-widgets/base",
          "model_name": "LayoutModel",
          "model_module_version": "1.2.0",
          "state": {
            "_model_module": "@jupyter-widgets/base",
            "_model_module_version": "1.2.0",
            "_model_name": "LayoutModel",
            "_view_count": null,
            "_view_module": "@jupyter-widgets/base",
            "_view_module_version": "1.2.0",
            "_view_name": "LayoutView",
            "align_content": null,
            "align_items": null,
            "align_self": null,
            "border": null,
            "bottom": null,
            "display": null,
            "flex": null,
            "flex_flow": null,
            "grid_area": null,
            "grid_auto_columns": null,
            "grid_auto_flow": null,
            "grid_auto_rows": null,
            "grid_column": null,
            "grid_gap": null,
            "grid_row": null,
            "grid_template_areas": null,
            "grid_template_columns": null,
            "grid_template_rows": null,
            "height": null,
            "justify_content": null,
            "justify_items": null,
            "left": null,
            "margin": null,
            "max_height": null,
            "max_width": null,
            "min_height": null,
            "min_width": null,
            "object_fit": null,
            "object_position": null,
            "order": null,
            "overflow": null,
            "overflow_x": null,
            "overflow_y": null,
            "padding": null,
            "right": null,
            "top": null,
            "visibility": null,
            "width": null
          }
        },
        "df34411d63de4966815d6c517b9c8ce9": {
          "model_module": "@jupyter-widgets/controls",
          "model_name": "ProgressStyleModel",
          "model_module_version": "1.5.0",
          "state": {
            "_model_module": "@jupyter-widgets/controls",
            "_model_module_version": "1.5.0",
            "_model_name": "ProgressStyleModel",
            "_view_count": null,
            "_view_module": "@jupyter-widgets/base",
            "_view_module_version": "1.2.0",
            "_view_name": "StyleView",
            "bar_color": null,
            "description_width": ""
          }
        },
        "3fcd55ccc6664710b326db9eb850759e": {
          "model_module": "@jupyter-widgets/base",
          "model_name": "LayoutModel",
          "model_module_version": "1.2.0",
          "state": {
            "_model_module": "@jupyter-widgets/base",
            "_model_module_version": "1.2.0",
            "_model_name": "LayoutModel",
            "_view_count": null,
            "_view_module": "@jupyter-widgets/base",
            "_view_module_version": "1.2.0",
            "_view_name": "LayoutView",
            "align_content": null,
            "align_items": null,
            "align_self": null,
            "border": null,
            "bottom": null,
            "display": null,
            "flex": null,
            "flex_flow": null,
            "grid_area": null,
            "grid_auto_columns": null,
            "grid_auto_flow": null,
            "grid_auto_rows": null,
            "grid_column": null,
            "grid_gap": null,
            "grid_row": null,
            "grid_template_areas": null,
            "grid_template_columns": null,
            "grid_template_rows": null,
            "height": null,
            "justify_content": null,
            "justify_items": null,
            "left": null,
            "margin": null,
            "max_height": null,
            "max_width": null,
            "min_height": null,
            "min_width": null,
            "object_fit": null,
            "object_position": null,
            "order": null,
            "overflow": null,
            "overflow_x": null,
            "overflow_y": null,
            "padding": null,
            "right": null,
            "top": null,
            "visibility": null,
            "width": null
          }
        },
        "f2711ac249c34bddb78966cb25612174": {
          "model_module": "@jupyter-widgets/controls",
          "model_name": "DescriptionStyleModel",
          "model_module_version": "1.5.0",
          "state": {
            "_model_module": "@jupyter-widgets/controls",
            "_model_module_version": "1.5.0",
            "_model_name": "DescriptionStyleModel",
            "_view_count": null,
            "_view_module": "@jupyter-widgets/base",
            "_view_module_version": "1.2.0",
            "_view_name": "StyleView",
            "description_width": ""
          }
        }
      }
    },
    "accelerator": "GPU"
  },
  "nbformat": 4,
  "nbformat_minor": 0
}